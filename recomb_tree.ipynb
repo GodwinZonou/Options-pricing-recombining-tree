{
 "cells": [
  {
   "cell_type": "code",

   "execution_count": 33,
   "metadata": {},
   "outputs": [],
   "source": [
    "import random as rd\n",
    "import numpy as np"

   ]
  },
  {
   "cell_type": "code",

   "execution_count": 34,

   "metadata": {},
   "source": [
   "#Parameters initialization\n",
   "T = 7\n",
   "N = 2   # The number of steps of our model \n",
   "h = T/N     # The steps size\n",
   "b = 3\n", 
   "m = 2   # The number of regime of the economy\n",
   "L = [i for i in range(1,m+1)]   # The list of different regime\n",
   "Li = [rd.randint(0,b) for _ in range(m)]\n",
   "sigma_bar = 0.1\n",
   "print(Li)"
  ],
  
   "outputs": [
    {
     "name": "stdout",
     "output_type": "stream",
     "text": [
      "[1, 0]\n"

     ]
    },
  {
   "cell_type": "code",
   "execution_count": 35,
   "metadata": {},
   "outputs": [
    {
     "data": {
      "text/plain": [
       "array([[ 0.        ,  0.        ,  0.        ],\n",
       "       [ 0.        ,  0.        ,  0.        ],\n",
       "       [ 0.        ,  0.        ,  0.        ],\n",
       "       [ 0.        ,  0.        ,  0.        ],\n",
       "       [ 0.        ,  0.        ,  0.37416574],\n",
       "       [ 0.        ,  0.18708287,  0.18708287],\n",
       "       [ 0.        ,  0.        ,  0.        ],\n",
       "       [ 0.        , -0.18708287, -0.18708287],\n",
       "       [ 0.        ,  0.        , -0.37416574],\n",
       "       [ 0.        ,  0.        ,  0.        ],\n",
       "       [ 0.        ,  0.        ,  0.        ],\n",
       "       [ 0.        ,  0.        ,  0.        ],\n",
       "       [ 0.        ,  0.        ,  0.        ]])"
      ]
     },
     "execution_count": 35,
     "metadata": {},
     "output_type": "execute_result"
    }
   ],
   "source": [
    "p = 2*b*N + 1 \n",
    "mid = b*N\n",
    "M = np.zeros((p,N+1), dtype = float)\n",
    "\n",
    "def build_tree(i,j):\n",
    "    if j>=N or i<0 or i>=p:\n",
    "        return M\n",
    "    M[i-Li[0]][j+1] = M[i][j] + Li[0]*sigma_bar*np.sqrt(h)\n",
    "    M[i][j+1] = M[i][j]\n",
    "    M[i+Li[0]][j+1] = M[i][j] - Li[0]*sigma_bar*np.sqrt(h)\n",
    "    build_tree(i-Li[0], j+1)\n",
    "    build_tree(i+Li[0], j+1)\n",
    "    build_tree(i, j+1)\n",
    "    return M\n",
    "\n",
    "build_tree(mid,0)\n",
    "\n",
    "\n"
   ]
  }
 ],
 "metadata": {
  "kernelspec": {
   "display_name": "Python 3",
   "language": "python",
   "name": "python3"
  },
  "language_info": {
   "codemirror_mode": {
    "name": "ipython",
    "version": 3
   },
   "file_extension": ".py",
   "mimetype": "text/x-python",
   "name": "python",
   "nbconvert_exporter": "python",
   "pygments_lexer": "ipython3",

   "version": "3.12.2"
  }
 },
 "nbformat": 4,
 "nbformat_minor": 2
}
