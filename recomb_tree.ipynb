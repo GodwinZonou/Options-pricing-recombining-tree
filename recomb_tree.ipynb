{
 "cells": [
  {
   "cell_type": "code",
   "execution_count": null,
   "metadata": {},
   "outputs": [],
   "source": [
    "class Arbre_recomb:\n",
    "    def __init__(self, valeur):\n",
    "        self.valeur = valeur\n",
    "        self.down_child = None\n",
    "        self.up_child = None\n",
    "        self.middle_child = None\n",
    "    \n",
    "    def set_down_child(self, valeur):\n",
    "        if self.down_child == None:\n",
    "            self.down_child = Arbre_recomb(valeur)\n",
    "        else:\n",
    "            new_node = Arbre_recomb(valeur)\n",
    "            new_node.down_child = self.down_child\n",
    "            self.down_child = new_node\n",
    "        \n",
    "    def set_up_child(self, valeur):\n",
    "        if self.up_child == None:\n",
    "            self.up_child = Arbre_recomb(valeur)\n",
    "        else:\n",
    "            new_node = Arbre_recomb(valeur)\n",
    "            new_node.up_child = self.up_child\n",
    "            self.up_child = new_node\n",
    "    \n",
    "    def set_middle_child(self, valeur):\n",
    "        if self.middle_child == None:\n",
    "            self.middle_child = Arbre_recomb(valeur)\n",
    "        else:\n",
    "            new_node = Arbre_recomb(valeur)\n",
    "            new_node.middle_child = self.middle_child\n",
    "            self.middle_child = new_node\n",
    "\n",
    "        "
   ]
  }
 ],
 "metadata": {
  "kernelspec": {
   "display_name": "Python 3",
   "language": "python",
   "name": "python3"
  },
  "language_info": {
   "name": "python",
   "version": "3.12.2"
  }
 },
 "nbformat": 4,
 "nbformat_minor": 2
}
