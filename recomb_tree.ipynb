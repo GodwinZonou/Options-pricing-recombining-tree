{
 "cells": [
  {
   "cell_type": "code",
   "execution_count": null,
   "metadata": {},
   "outputs": [],
   "source": [
    "class Arbre_recomb:\n",
    "    def __init__(self, valeur):\n",
    "        self.valeur = valeur\n",
    "        self.down_child = None\n",
    "        self.up_child = None\n",
    "        self.middle_child = None\n",
    "    \n",
    "    def set_down_child(self, valeur):\n",
    "        if self.down_child == None:\n",
    "            self.down_child = Arbre_recomb(valeur)\n",
    "        else:\n",
    "            new_node = Arbre_recomb(valeur)\n",
    "            new_node.down_child = self.down_child\n",
    "            self.down_child = new_node\n",
    "        \n",
    "    def set_up_child(self, valeur):\n",
    "        if self.up_child == None:\n",
    "            self.up_child = Arbre_recomb(valeur)\n",
    "        else:\n",
    "            new_node = Arbre_recomb(valeur)\n",
    "            new_node.up_child = self.up_child\n",
    "            self.up_child = new_node\n",
    "    \n",
    "    def set_middle_child(self, valeur):\n",
    "        if self.middle_child == None:\n",
    "            self.middle_child = Arbre_recomb(valeur)\n",
    "        else:\n",
    "            new_node = Arbre_recomb(valeur)\n",
    "            new_node.middle_child = self.middle_child\n",
    "            self.middle_child = new_node\n",
    "\n",
    "        "
   ]
  },
  {
   "cell_type": "code",
   "execution_count": 1,
   "metadata": {},
   "outputs": [
    {
     "name": "stdout",
     "output_type": "stream",
     "text": [
      "Arbre créé :\n",
      "_Parent: 0\n",
      "  _Child_0_Parent: 0\n",
      "    _Child_0_Child_0_Parent: 0\n",
      "    _Child_0_Child_1_Parent: 1\n",
      "    _Child_0_Child_2_Parent: 2\n",
      "    _Child_0_Child_3_Parent: 3\n",
      "    _Child_0_Child_4_Parent: 4\n",
      "  _Child_1_Parent: 1\n",
      "    _Child_1_Child_0_Parent: 0\n",
      "    _Child_1_Child_1_Parent: 1\n",
      "    _Child_1_Child_2_Parent: 2\n",
      "    _Child_1_Child_3_Parent: 3\n",
      "    _Child_1_Child_4_Parent: 4\n",
      "  _Child_2_Parent: 2\n",
      "    _Child_2_Child_0_Parent: 0\n",
      "    _Child_2_Child_1_Parent: 1\n",
      "    _Child_2_Child_2_Parent: 2\n",
      "    _Child_2_Child_3_Parent: 3\n",
      "    _Child_2_Child_4_Parent: 4\n",
      "  _Child_3_Parent: 3\n",
      "    _Child_3_Child_0_Parent: 0\n",
      "    _Child_3_Child_1_Parent: 1\n",
      "    _Child_3_Child_2_Parent: 2\n",
      "    _Child_3_Child_3_Parent: 3\n",
      "    _Child_3_Child_4_Parent: 4\n",
      "  _Child_4_Parent: 4\n",
      "    _Child_4_Child_0_Parent: 0\n",
      "    _Child_4_Child_1_Parent: 1\n",
      "    _Child_4_Child_2_Parent: 2\n",
      "    _Child_4_Child_3_Parent: 3\n",
      "    _Child_4_Child_4_Parent: 4\n"
     ]
    }
   ],
   "source": [
    "class TreeNode:\n",
    "    def __init__(self, name, value):\n",
    "        self.name = name\n",
    "        self.value = value\n",
    "        self.children = []\n",
    "\n",
    "def create_tree(b, depth, valeur, prefix=\"\"):\n",
    "    if depth == 0:\n",
    "        return None\n",
    "    \n",
    "    # Créer le nœud parent avec un nom unique en ajoutant un préfixe et la valeur spécifiée\n",
    "    parent = TreeNode(prefix+\"_Parent\", valeur)\n",
    "\n",
    "    # Créer les enfants avec des noms uniques basés sur le préfixe\n",
    "    common_child = None  # Pour stocker une référence à un enfant commun, s'il existe\n",
    "    for i in range(2*b + 1):\n",
    "        # Si cet enfant est commun, réutiliser la même instance de nœud\n",
    "        if i == 0 and common_child:\n",
    "            child = common_child\n",
    "        else:\n",
    "            child_value = i  # Définir la valeur des enfants en fonction de vos besoins\n",
    "            child = create_tree(b, depth - 1,  prefix + f\"_Child_{i}\", child_value)\n",
    "            if i == 0:\n",
    "                common_child = child\n",
    "        if child:\n",
    "            parent.children.append(child)\n",
    "    \n",
    "    return parent\n",
    "\n",
    "def print_tree(node, depth=0):\n",
    "    if node:\n",
    "        print(\"  \" * depth + f\"{node.name}: {node.valeur}\")\n",
    "        for child in node.children:\n",
    "            print_tree(child, depth + 1)\n",
    "\n",
    "# Paramètres de l'arbre\n",
    "b = 2  # Nombre d'enfants par parent\n",
    "depth = 3  # Profondeur de l'arbre\n",
    "\n",
    "# Créer l'arbre avec des valeurs spécifiques\n",
    "root_value = 0  # Définir la valeur du nœud racine en fonction de vos besoins\n",
    "root = create_tree(b, depth, valeur=root_value)\n",
    "\n",
    "# Afficher l'arbre\n",
    "print(\"Arbre créé :\")\n",
    "print_tree(root)"
   ]
  },
  {
   "cell_type": "code",
   "execution_count": 2,
   "metadata": {},
   "outputs": [],
   "source": [
    "import random as rd\n",
    "import numpy as np"
   ]
  },
  {
   "cell_type": "code",
   "execution_count": 29,
   "metadata": {},
   "outputs": [
    {
     "name": "stdout",
     "output_type": "stream",
     "text": [
      "[3, 1]\n"
     ]
    }
   ],
   "source": [
    "#Parameters initialization\n",
    "T = 7\n",
    "N = 2   # The number of steps of our model\n",
    "h = T/N     # The steps size\n",
    "b = 3 \n",
    "m = 2   # The number of regime of the economy\n",
    "L = [i for i in range(1,m+1)]   # The list of different regime\n",
    "Li = [rd.randint(0,b) for _ in range(m)]\n",
    "sigma_bar = 0.1\n",
    "print(Li)\n",
    "\n",
    "\n"
   ]
  },
  {
   "cell_type": "code",
   "execution_count": 32,
   "metadata": {},
   "outputs": [
    {
     "data": {
      "text/plain": [
       "array([[ 0.        ,  0.        ,  1.12249722],\n",
       "       [ 0.        ,  0.        ,  0.        ],\n",
       "       [ 0.        ,  0.        ,  0.        ],\n",
       "       [ 0.        ,  0.56124861,  0.56124861],\n",
       "       [ 0.        ,  0.        ,  0.        ],\n",
       "       [ 0.        ,  0.        ,  0.        ],\n",
       "       [ 0.        ,  0.        ,  0.        ],\n",
       "       [ 0.        ,  0.        ,  0.        ],\n",
       "       [ 0.        ,  0.        ,  0.        ],\n",
       "       [ 0.        , -0.56124861, -0.56124861],\n",
       "       [ 0.        ,  0.        ,  0.        ],\n",
       "       [ 0.        ,  0.        ,  0.        ],\n",
       "       [ 0.        ,  0.        , -1.12249722]])"
      ]
     },
     "execution_count": 32,
     "metadata": {},
     "output_type": "execute_result"
    }
   ],
   "source": [
    "p = 2*b*N + 1 \n",
    "mid = b*N\n",
    "M = np.zeros((p,N+1), dtype = float)\n",
    "\n",
    "def build_tree(i,j):\n",
    "    if j>=N or i<0 or i>=p:\n",
    "        return M\n",
    "    M[i-Li[0]][j+1] = M[i][j] + Li[0]*sigma_bar*np.sqrt(h)\n",
    "    M[i][j+1] = M[i][j]\n",
    "    M[i+Li[0]][j+1] = M[i][j] - Li[0]*sigma_bar*np.sqrt(h)\n",
    "    build_tree(i-Li[0], j+1)\n",
    "    build_tree(i+Li[0], j+1)\n",
    "    build_tree(i, j+1)\n",
    "    return M\n",
    "\n",
    "build_tree(mid,0)\n",
    "\n",
    "\n"
   ]
  }
 ],
 "metadata": {
  "kernelspec": {
   "display_name": "Python 3",
   "language": "python",
   "name": "python3"
  },
  "language_info": {
   "codemirror_mode": {
    "name": "ipython",
    "version": 3
   },
   "file_extension": ".py",
   "mimetype": "text/x-python",
   "name": "python",
   "nbconvert_exporter": "python",
   "pygments_lexer": "ipython3",
   "version": "3.11.8"
  }
 },
 "nbformat": 4,
 "nbformat_minor": 2
}
