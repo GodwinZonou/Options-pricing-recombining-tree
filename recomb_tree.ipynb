{
 "cells": [
  {
   "cell_type": "code",
   "execution_count": 1,
   "metadata": {},
   "outputs": [],
   "source": [
    "import numpy as np"
   ]
  },
  {
   "cell_type": "markdown",
   "metadata": {},
   "source": [
    "Initialize: b, N, the list of regimes of length m, the transitions probabilities\n",
    "\n",
    "\n",
    "Create a function that takes the list of regimes of time N, and a list of li, the initial price So, the step volatility sigma  and finds out the prices at each step.\n",
    "\n",
    "To do so we need:\n",
    "\n",
    "    - The list of all probabilities corresponding to up, down, middle at each step, in consideration of all the regimes\n",
    "    - compute the prices using the formula"
   ]
  },
  {
   "cell_type": "code",
   "execution_count": 13,
   "metadata": {},
   "outputs": [
    {
     "name": "stdout",
     "output_type": "stream",
     "text": [
      "[[1.54544311]\n",
      " [0.95945225]\n",
      " [2.02416643]]\n"
     ]
    },
    {
     "data": {
      "text/plain": [
       "array([[0.62120672, 0.27946447, 0.09932881],\n",
       "       [0.02007414, 0.57036964, 0.40955622],\n",
       "       [0.33285354, 0.17462109, 0.49252537]])"
      ]
     },
     "execution_count": 13,
     "metadata": {},
     "output_type": "execute_result"
    }
   ],
   "source": [
    "b= 4\n",
    "M = list(range(-b,b+1))\n",
    "m = 4\n",
    "R = range(1,m+1)\n",
    "N= 100\n",
    "\n",
    "Pa = np.random.rand(m,m)\n",
    "print(Pa.sum(axis=1, keepdims=True))\n",
    "Pa = Pa/Pa.sum(axis=1, keepdims=True)\n",
    "Pa"
   ]
  },
  {
   "cell_type": "code",
   "execution_count": null,
   "metadata": {},
   "outputs": [
    {
     "ename": "",
     "evalue": "",
     "output_type": "error",
     "traceback": [
      "\u001b[1;31mRunning cells with 'c:\\Users\\Fondation\\AppData\\Local\\Microsoft\\WindowsApps\\python3.11.exe' requires the ipykernel package.\n",
      "\u001b[1;31mRun the following command to install 'ipykernel' into the Python environment. \n",
      "\u001b[1;31mCommand: 'c:/Users/Fondation/AppData/Local/Microsoft/WindowsApps/python3.11.exe -m pip install ipykernel -U --user --force-reinstall'"
     ]
    }
   ],
   "source": [
    "sigma = np.array([0.9,0.5,0.7,0.2])\n",
    "r = np.array([0.02,0.1,0.06,0.15])"
   ]
  },
  {
   "cell_type": "code",
   "execution_count": null,
   "metadata": {},
   "outputs": [],
   "source": [
    "def prices(regimes,L,moves,So,sigma_):\n",
    "\n",
    "\n",
    "    return None\n",
    "\n",
    "def nodes_probablities(regimes,moves):\n",
    "\n",
    "    \n",
    "    return None"
   ]
  }
 ],
 "metadata": {
  "kernelspec": {
   "display_name": "Python 3",
   "language": "python",
   "name": "python3"
  },
  "language_info": {
   "codemirror_mode": {
    "name": "ipython",
    "version": 3
   },
   "file_extension": ".py",
   "mimetype": "text/x-python",
   "name": "python",
   "nbconvert_exporter": "python",
   "pygments_lexer": "ipython3",
   "version": "3.11.8"
  }
 },
 "nbformat": 4,
 "nbformat_minor": 2
}
