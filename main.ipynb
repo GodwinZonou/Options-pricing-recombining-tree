{
 "cells": [
  {
   "cell_type": "code",
   "execution_count": 52,
   "metadata": {},
   "outputs": [],
   "source": [
    "import numpy as np\n",
    "import pandas as pd\n",
    "from math import sqrt,ceil, floor\n",
    "from tqdm import tqdm"
   ]
  },
  {
   "cell_type": "markdown",
   "metadata": {},
   "source": [
    "### Our first framework is the two-regime model economy. The four-regime model will follow. Finally, we will use our tree on Heston model"
   ]
  },
  {
   "cell_type": "markdown",
   "metadata": {},
   "source": [
    "# First, let us build the recombining tree"
   ]
  },
  {
   "cell_type": "code",
   "execution_count": 53,
   "metadata": {},
   "outputs": [],
   "source": [
    "def arbre_recomb(n,b): #We will consider a tree where the variations of x go from -b to b (this corresponds to li values)\n",
    "    l=2*b*n+1           #We will then multiply those variations by sigma_bar and the square root of h to match the formulas\n",
    "    S=np.zeros((l,n+1))\n",
    "    for i in range(l):\n",
    "        S[i,n]= b*n-i\n",
    "    for j in range(1,n+1):\n",
    "        for i in  range(l):\n",
    "            if i>=b*j and i<=b*(2*n-j):\n",
    "                S[i,n-j]=b*n-i\n",
    "    return S"
   ]
  },
  {
   "cell_type": "code",
   "execution_count": 54,
   "metadata": {},
   "outputs": [],
   "source": [
    "arbre1=arbre_recomb(1000,2) # Now you can create the recombining tree"
   ]
  },
  {
   "cell_type": "code",
   "execution_count": 55,
   "metadata": {},
   "outputs": [],
   "source": [
    "# Here we define the probabilities of different moves in each regime\n",
    "# We will create a 3xm matrix where m is the number of regimes\n",
    "def proba_up_middle_down(List_sigma,List_a,Liste_saut,sigma_bar,T,n): \n",
    "    proba=np.zeros((3,len(List_sigma)))\n",
    "    h=T/n\n",
    "    for i in range(len(List_sigma)):\n",
    "        proba[0,i]=(List_sigma[i]**2+List_a[i]*Liste_saut[i]*sigma_bar*np.sqrt(h)+h*List_a[i]**2)/(2*(Liste_saut[i]*sigma_bar)**2)\n",
    "        proba[1,i]=(List_sigma[i]**2-List_a[i]*Liste_saut[i]*sigma_bar*np.sqrt(h)+h*List_a[i]**2)/(2*(Liste_saut[i]*sigma_bar)**2)\n",
    "        proba[2,i]=1-(proba[0,i]+proba[1,i])\n",
    "    return proba"
   ]
  },
  {
   "cell_type": "code",
   "execution_count": 56,
   "metadata": {},
   "outputs": [],
   "source": [
    "# Here we compute the transition matrix using the generator matrix and the step h\n",
    "def transition_matrix(Q,h):\n",
    "    nbr=Q.shape[0]\n",
    "    tr_matrix=np.zeros((nbr,nbr))\n",
    "    for i in range(nbr):\n",
    "        for j in range(nbr):\n",
    "            if i==j:\n",
    "                tr_matrix[i,j]=np.exp(Q[i,j]*h)\n",
    "            else:\n",
    "                tr_matrix[i,j]=-(1-np.exp(Q[i,i]*h))*Q[i,j]/Q[i,i]\n",
    "    return tr_matrix"
   ]
  },
  {
   "cell_type": "markdown",
   "metadata": {},
   "source": [
    "# Two-regime model"
   ]
  },
  {
   "cell_type": "markdown",
   "metadata": {},
   "source": [
    "We first define the parameters used in the two-regime model\n"
   ]
  },
  {
   "cell_type": "code",
   "execution_count": 57,
   "metadata": {},
   "outputs": [
    {
     "name": "stdout",
     "output_type": "stream",
     "text": [
      "The increments Li [1, 2]\n"
     ]
    }
   ],
   "source": [
    "m1 = 2 # Number of regimes\n",
    "\n",
    "# Now the lists of parameters depending on the regimes\n",
    "list_sigma1=[0.15,0.25]\n",
    "list_r1 = [0.05, 0.05]\n",
    "list_a1=[list_r1[i]-0.5*list_sigma1[i]**2 for i in range(m1)]\n",
    "\n",
    "# The constant sigma_bar1\n",
    "sigma_bar1 = 0.2\n",
    "\n",
    "# Define the li so that the probabilities of up,middle, down are all positives\n",
    "L = [0]*m1\n",
    "for i in range (m1):\n",
    "    k1,k2 = floor(2*list_sigma1[i]/sigma_bar1),ceil(2*list_sigma1[i]/sigma_bar1)\n",
    "    if k1==k2 or k1*sigma_bar1<list_sigma1[i]:\n",
    "        L[i] = k2\n",
    "    else:\n",
    "        c = ((k1*sigma_bar1)**2-list_sigma1[i]**2)/list_a1[i]**2\n",
    "        d = (k2*sigma_bar1-sqrt((k2*sigma_bar1)**2-4*list_sigma1[i]**2))**2/(4*list_a1[i])**2\n",
    "        if c<=d:\n",
    "            L[i] = k2\n",
    "        else:\n",
    "            L[i] = k1\n",
    "print(\"The increments Li\", L)\n",
    "\n",
    "# Define the generator matrix and the transition matrix\n",
    "Q1=np.array([[-0.5,0.5],[0.5,-0.5]])\n",
    "P1=transition_matrix(Q1,1/1000) # notice that if one may want to change the step h, they may change T or n."
   ]
  },
  {
   "cell_type": "markdown",
   "metadata": {},
   "source": [
    "### We can now compute our options prices in this two-regime economy"
   ]
  },
  {
   "cell_type": "code",
   "execution_count": 58,
   "metadata": {},
   "outputs": [],
   "source": [
    "def prix_call_europeen(K,S_o,n,b,sigma_bar,T,List_sigma,List_a,Liste_saut,List_r,P, arbre): #list_saut is the li list\n",
    "    proba_umd=proba_up_middle_down(List_sigma,List_a,Liste_saut,sigma_bar,T,n)\n",
    "    l=2*b*n+1\n",
    "    h=T/n\n",
    "    table_prix=np.zeros((l,n+1,len(List_sigma))) # Let us initialize our matrix\n",
    "\n",
    "    # What is next is a straightforward application of the formulas given in the paper\n",
    "    for i in range(l):\n",
    "        for reg in range(len(List_sigma)):\n",
    "            table_prix[i,n,reg]=max(-K+S_o*np.exp(arbre[i,n]*sigma_bar*np.sqrt(h)),0)\n",
    "    for j in range(1,n+1):\n",
    "        for i in range(l):\n",
    "            if i>=b*j and i<=b*(2*n-j):\n",
    "                for etat in range(len(List_sigma)):\n",
    "                    r=List_r[etat]\n",
    "                    saut=Liste_saut[etat]\n",
    "                    for k in range(len(List_sigma)):\n",
    "                        table_prix[i,n-j,etat] += P[etat,k]*(table_prix[i-saut,n-j+1,k]*proba_umd[0,etat]+table_prix[i+saut,n-j+1,k]*proba_umd[1,etat]+table_prix[i,n-j+1,k]*proba_umd[2,etat])\n",
    "                    table_prix[i,n-j,etat]=np.exp(-r*h)*table_prix[i,n-j,etat]\n",
    "        \n",
    "    return table_prix"
   ]
  },
  {
   "cell_type": "code",
   "execution_count": 59,
   "metadata": {},
   "outputs": [],
   "source": [
    "A1=prix_call_europeen(100,94,1000,2,sigma_bar1,1,list_sigma1,list_a1,L,list_r1,P1, arbre1)\n",
    "A2=prix_call_europeen(100,96,1000,2,sigma_bar1,1,list_sigma1,list_a1,L,list_r1,P1, arbre1)\n",
    "A3=prix_call_europeen(100,98,1000,2,sigma_bar1,1,list_sigma1,list_a1,L,list_r1,P1, arbre1)\n",
    "A4=prix_call_europeen(100,100,1000,2,sigma_bar1,1,list_sigma1,list_a1,L,list_r1,P1, arbre1)\n",
    "A5=prix_call_europeen(100,102,1000,2,sigma_bar1,1,list_sigma1,list_a1,L,list_r1,P1, arbre1)\n",
    "A6=prix_call_europeen(100,104,1000,2,sigma_bar1,1,list_sigma1,list_a1,L,list_r1,P1, arbre1)\n",
    "A7=prix_call_europeen(100,106,1000,2,sigma_bar1,1,list_sigma1,list_a1,L,list_r1,P1, arbre1)\n",
    "\n"
   ]
  },
  {
   "cell_type": "code",
   "execution_count": 68,
   "metadata": {},
   "outputs": [
    {
     "data": {
      "text/html": [
       "<div>\n",
       "<style scoped>\n",
       "    .dataframe tbody tr th:only-of-type {\n",
       "        vertical-align: middle;\n",
       "    }\n",
       "\n",
       "    .dataframe tbody tr th {\n",
       "        vertical-align: top;\n",
       "    }\n",
       "\n",
       "    .dataframe thead th {\n",
       "        text-align: right;\n",
       "    }\n",
       "</style>\n",
       "<table border=\"1\" class=\"dataframe\">\n",
       "  <thead>\n",
       "    <tr style=\"text-align: right;\">\n",
       "      <th></th>\n",
       "      <th>S0</th>\n",
       "      <th>Tree</th>\n",
       "    </tr>\n",
       "  </thead>\n",
       "  <tbody>\n",
       "    <tr>\n",
       "      <th>0</th>\n",
       "      <td>94</td>\n",
       "      <td>[5.86121169713768, 8.228404386030418]</td>\n",
       "    </tr>\n",
       "    <tr>\n",
       "      <th>1</th>\n",
       "      <td>96</td>\n",
       "      <td>[6.923020326921834, 9.317382007445124]</td>\n",
       "    </tr>\n",
       "    <tr>\n",
       "      <th>2</th>\n",
       "      <td>98</td>\n",
       "      <td>[8.083383992632376, 10.477573544944184]</td>\n",
       "    </tr>\n",
       "    <tr>\n",
       "      <th>3</th>\n",
       "      <td>100</td>\n",
       "      <td>[9.338299622468098, 11.704247134436248]</td>\n",
       "    </tr>\n",
       "    <tr>\n",
       "      <th>4</th>\n",
       "      <td>102</td>\n",
       "      <td>[10.683620427004527, 13.000574946330795]</td>\n",
       "    </tr>\n",
       "    <tr>\n",
       "      <th>5</th>\n",
       "      <td>104</td>\n",
       "      <td>[12.111348355527737, 14.356138588476941]</td>\n",
       "    </tr>\n",
       "    <tr>\n",
       "      <th>6</th>\n",
       "      <td>106</td>\n",
       "      <td>[13.61462223374124, 15.772456149244976]</td>\n",
       "    </tr>\n",
       "  </tbody>\n",
       "</table>\n",
       "</div>"
      ],
      "text/plain": [
       "    S0                                      Tree\n",
       "0   94     [5.86121169713768, 8.228404386030418]\n",
       "1   96    [6.923020326921834, 9.317382007445124]\n",
       "2   98   [8.083383992632376, 10.477573544944184]\n",
       "3  100   [9.338299622468098, 11.704247134436248]\n",
       "4  102  [10.683620427004527, 13.000574946330795]\n",
       "5  104  [12.111348355527737, 14.356138588476941]\n",
       "6  106   [13.61462223374124, 15.772456149244976]"
      ]
     },
     "execution_count": 68,
     "metadata": {},
     "output_type": "execute_result"
    }
   ],
   "source": [
    "# We will now print the prices table\n",
    "A = [A1, A2, A3, A4, A5, A6, A7]\n",
    "Df = pd.DataFrame({'S0':[i for i in range(94,107,2)], 'Tree':[B[2000,0] for B in A]}) \n",
    "Df #The prices will be printed as a list on each row, where the index i represents the regime i+1"
   ]
  },
  {
   "cell_type": "code",
   "execution_count": 62,
   "metadata": {},
   "outputs": [],
   "source": [
    "def prix_put_europeen(K,S_o,n,b,sigma_bar,T,List_sigma,List_a,Liste_saut,List_r,P, arbre): #list_saut is the li list\n",
    "    proba_umd=proba_up_middle_down(List_sigma,List_a,Liste_saut,sigma_bar,T,n)\n",
    "    l=2*b*n+1\n",
    "    h=T/n\n",
    "    table_prix=np.zeros((l,n+1,len(List_sigma))) # Let us initialize our matrix\n",
    "\n",
    "    # What is next is a straightforward application of the formulas given in the paper\n",
    "    for i in range(l):\n",
    "        for reg in range(len(List_sigma)):\n",
    "            table_prix[i,n,reg]=max(K-S_o*np.exp(arbre[i,n]*sigma_bar*np.sqrt(h)),0)\n",
    "    for j in range(1,n+1):\n",
    "        for i in range(l):\n",
    "            if i>=b*j and i<=b*(2*n-j):\n",
    "                for etat in range(len(List_sigma)):\n",
    "                    r=List_r[etat]\n",
    "                    saut=Liste_saut[etat]\n",
    "                    for k in range(len(List_sigma)):\n",
    "                        table_prix[i,n-j,etat] += P[etat,k]*(table_prix[i-saut,n-j+1,k]*proba_umd[0,etat]+table_prix[i+saut,n-j+1,k]*proba_umd[1,etat]+table_prix[i,n-j+1,k]*proba_umd[2,etat])\n",
    "                    table_prix[i,n-j,etat]=np.exp(-r*h)*table_prix[i,n-j,etat]\n",
    "        \n",
    "    return table_prix"
   ]
  },
  {
   "cell_type": "code",
   "execution_count": 63,
   "metadata": {},
   "outputs": [],
   "source": [
    "def prix_call_americain(K,S_o,n,b,sigma_bar,T,List_sigma,List_a,Liste_saut,List_r,P, arbre): #list_saut is the li list\n",
    "    proba_umd=proba_up_middle_down(List_sigma,List_a,Liste_saut,sigma_bar,T,n)\n",
    "    l=2*b*n+1\n",
    "    h=T/n\n",
    "    table_prix=np.zeros((l,n+1,len(List_sigma))) # Let us initialize our matrix\n",
    "\n",
    "    # What is next is a straightforward application of the formulas given in the paper\n",
    "    for i in range(l):\n",
    "        for reg in range(len(List_sigma)):\n",
    "            table_prix[i,n,reg]=max(-K+S_o*np.exp(arbre[i,n]*sigma_bar*np.sqrt(h)),0)\n",
    "    for j in range(1,n+1):\n",
    "        for i in range(l):\n",
    "            if i>=b*j and i<=b*(2*n-j):\n",
    "                for etat in range(len(List_sigma)):\n",
    "                    r=List_r[etat]\n",
    "                    saut=Liste_saut[etat]\n",
    "                    for k in range(len(List_sigma)):\n",
    "                        table_prix[i,n-j,etat] += P[etat,k]*(table_prix[i-saut,n-j+1,k]*proba_umd[0,etat]+table_prix[i+saut,n-j+1,k]*proba_umd[1,etat]+table_prix[i,n-j+1,k]*proba_umd[2,etat])\n",
    "                    table_prix[i,n-j,etat]= max(-K+S_o*np.exp(arbre[i,n]*sigma_bar*np.sqrt(h)), np.exp(-r*h)*table_prix[i,n-j,etat])\n",
    "        \n",
    "    return table_prix"
   ]
  },
  {
   "cell_type": "code",
   "execution_count": 64,
   "metadata": {},
   "outputs": [],
   "source": [
    "def prix_put_americain(K,S_o,n,b,sigma_bar,T,List_sigma,List_a,Liste_saut,List_r,P, arbre): #list_saut is the li list\n",
    "    proba_umd=proba_up_middle_down(List_sigma,List_a,Liste_saut,sigma_bar,T,n)\n",
    "    l=2*b*n+1\n",
    "    h=T/n\n",
    "    table_prix=np.zeros((l,n+1,len(List_sigma))) # Let us initialize our matrix\n",
    "\n",
    "    # What is next is a straightforward application of the formulas given in the paper\n",
    "    for i in range(l):\n",
    "        for reg in range(len(List_sigma)):\n",
    "            table_prix[i,n,reg]=max(K-S_o*np.exp(arbre[i,n]*sigma_bar*np.sqrt(h)),0)\n",
    "    for j in range(1,n+1):\n",
    "        for i in range(l):\n",
    "            if i>=b*j and i<=b*(2*n-j):\n",
    "                for etat in range(len(List_sigma)):\n",
    "                    r=List_r[etat]\n",
    "                    saut=Liste_saut[etat]\n",
    "                    for k in range(len(List_sigma)):\n",
    "                        table_prix[i,n-j,etat] += P[etat,k]*(table_prix[i-saut,n-j+1,k]*proba_umd[0,etat]+table_prix[i+saut,n-j+1,k]*proba_umd[1,etat]+table_prix[i,n-j+1,k]*proba_umd[2,etat])\n",
    "                    table_prix[i,n-j,etat]= max(K-S_o*np.exp(arbre[i,n]*sigma_bar*np.sqrt(h)), np.exp(-r*h)*table_prix[i,n-j,etat])\n",
    "        \n",
    "    return table_prix"
   ]
  },
  {
   "cell_type": "code",
   "execution_count": 65,
   "metadata": {},
   "outputs": [],
   "source": [
    "C1=prix_put_americain(100,94,1000,2,sigma_bar1,1,list_sigma1,list_a1,L,list_r1,P1, arbre1)\n",
    "C2=prix_put_americain(100,96,1000,2,sigma_bar1,1,list_sigma1,list_a1,L,list_r1,P1, arbre1)\n",
    "C3=prix_put_americain(100,98,1000,2,sigma_bar1,1,list_sigma1,list_a1,L,list_r1,P1, arbre1)\n",
    "C4=prix_put_americain(100,100,1000,2,sigma_bar1,1,list_sigma1,list_a1,L,list_r1,P1, arbre1)\n",
    "C5=prix_put_americain(100,102,1000,2,sigma_bar1,1,list_sigma1,list_a1,L,list_r1,P1, arbre1)\n",
    "C6=prix_put_americain(100,104,1000,2,sigma_bar1,1,list_sigma1,list_a1,L,list_r1,P1, arbre1)\n",
    "C7=prix_put_americain(100,106,1000,2,sigma_bar1,1,list_sigma1,list_a1,L,list_r1,P1, arbre1)"
   ]
  },
  {
   "cell_type": "code",
   "execution_count": 67,
   "metadata": {},
   "outputs": [
    {
     "data": {
      "text/html": [
       "<div>\n",
       "<style scoped>\n",
       "    .dataframe tbody tr th:only-of-type {\n",
       "        vertical-align: middle;\n",
       "    }\n",
       "\n",
       "    .dataframe tbody tr th {\n",
       "        vertical-align: top;\n",
       "    }\n",
       "\n",
       "    .dataframe thead th {\n",
       "        text-align: right;\n",
       "    }\n",
       "</style>\n",
       "<table border=\"1\" class=\"dataframe\">\n",
       "  <thead>\n",
       "    <tr style=\"text-align: right;\">\n",
       "      <th></th>\n",
       "      <th>S0</th>\n",
       "      <th>Tree</th>\n",
       "    </tr>\n",
       "  </thead>\n",
       "  <tbody>\n",
       "    <tr>\n",
       "      <th>0</th>\n",
       "      <td>94</td>\n",
       "      <td>[7.887341803269553, 10.246044855314704]</td>\n",
       "    </tr>\n",
       "    <tr>\n",
       "      <th>1</th>\n",
       "      <td>96</td>\n",
       "      <td>[6.761619788250978, 9.211130469447333]</td>\n",
       "    </tr>\n",
       "    <tr>\n",
       "      <th>2</th>\n",
       "      <td>98</td>\n",
       "      <td>[5.77279975983544, 8.263628289981797]</td>\n",
       "    </tr>\n",
       "    <tr>\n",
       "      <th>3</th>\n",
       "      <td>100</td>\n",
       "      <td>[4.909105962224006, 7.397754729040091]</td>\n",
       "    </tr>\n",
       "    <tr>\n",
       "      <th>4</th>\n",
       "      <td>102</td>\n",
       "      <td>[4.15974578321561, 6.6126611028022015]</td>\n",
       "    </tr>\n",
       "    <tr>\n",
       "      <th>5</th>\n",
       "      <td>104</td>\n",
       "      <td>[3.5125898797011983, 5.898792664675986]</td>\n",
       "    </tr>\n",
       "    <tr>\n",
       "      <th>6</th>\n",
       "      <td>106</td>\n",
       "      <td>[2.9567023364071985, 5.254773500702386]</td>\n",
       "    </tr>\n",
       "  </tbody>\n",
       "</table>\n",
       "</div>"
      ],
      "text/plain": [
       "    S0                                     Tree\n",
       "0   94  [7.887341803269553, 10.246044855314704]\n",
       "1   96   [6.761619788250978, 9.211130469447333]\n",
       "2   98    [5.77279975983544, 8.263628289981797]\n",
       "3  100   [4.909105962224006, 7.397754729040091]\n",
       "4  102   [4.15974578321561, 6.6126611028022015]\n",
       "5  104  [3.5125898797011983, 5.898792664675986]\n",
       "6  106  [2.9567023364071985, 5.254773500702386]"
      ]
     },
     "execution_count": 67,
     "metadata": {},
     "output_type": "execute_result"
    }
   ],
   "source": [
    "# Print the prices table\n",
    "C=[C1, C2, C3, C4, C5, C6, C7]\n",
    "Df2 = pd.DataFrame({'S0':[i for i in range(94,107,2)], 'Tree':[B[2000,0] for B in C]})\n",
    "Df2"
   ]
  },
  {
   "cell_type": "markdown",
   "metadata": {},
   "source": [
    "# Four-regime model"
   ]
  },
  {
   "cell_type": "code",
   "execution_count": 69,
   "metadata": {},
   "outputs": [],
   "source": [
    "arbre2=arbre_recomb(1000,4) # We will use this new tree for this model"
   ]
  },
  {
   "cell_type": "markdown",
   "metadata": {},
   "source": [
    "Now, we will define the parameters used in the four-regime model"
   ]
  },
  {
   "cell_type": "code",
   "execution_count": 70,
   "metadata": {},
   "outputs": [
    {
     "name": "stdout",
     "output_type": "stream",
     "text": [
      "The increments Li [4, 2, 3, 1]\n"
     ]
    }
   ],
   "source": [
    "m2 = 4 # Number of regimes\n",
    "\n",
    "# Now the lists of parameters depending on the regimes\n",
    "list_sigma2=[0.9, 0.5, 0.7, 0.2]\n",
    "list_r2 = [0.02, 0.1, 0.06, 0.15]\n",
    "list_a2=[list_r2[i]-0.5*list_sigma2[i]**2 for i in range(m2)]\n",
    "# The constant sigma_bar2\n",
    "sigma_bar2 = 0.4\n",
    "\n",
    "# Define the li so that the probabilities of up,middle, down are all positives\n",
    "L2 = [0]*m2\n",
    "for i in range (m2):\n",
    "    k1,k2 = floor(2*list_sigma2[i]/sigma_bar2),ceil(2*list_sigma2[i]/sigma_bar2)\n",
    "    if k1==k2 or k1*sigma_bar2<list_sigma2[i]:\n",
    "        L2[i] = k2\n",
    "    else:\n",
    "        c = ((k1*sigma_bar2)**2-list_sigma2[i]**2)/list_a2[i]**2\n",
    "        d = (k2*sigma_bar2-sqrt((k2*sigma_bar2)**2-4*list_sigma2[i]**2))**2/(4*list_a2[i])**2\n",
    "        if c<=d:\n",
    "            L2[i] = k2\n",
    "        else:\n",
    "            L2[i] = k1\n",
    "print(\"The increments Li\", L2)\n",
    "\n",
    "# Define the generator matrix and the transition matrix\n",
    "Q2 = np.ones((m2,m2))/3\n",
    "for i in range(m2):\n",
    "    Q2[i,i] = -1\n",
    "P2=transition_matrix(Q2,1/1000) # notice that if one may want to change the step h, they may change T or n."
   ]
  },
  {
   "cell_type": "code",
   "execution_count": 71,
   "metadata": {},
   "outputs": [],
   "source": [
    "D1=prix_put_americain(100,80,1000,4,sigma_bar2,1,list_sigma2,list_a2,L2,list_r2,P2, arbre2)\n",
    "D2=prix_put_americain(100,90,1000,4,sigma_bar2,1,list_sigma2,list_a2,L2,list_r2,P2, arbre2)\n",
    "D3=prix_put_americain(100,100,1000,4,sigma_bar2,1,list_sigma2,list_a2,L2,list_r2,P2, arbre2)\n",
    "D4=prix_put_americain(100,110,1000,4,sigma_bar2,1,list_sigma2,list_a2,L2,list_r2,P2, arbre2)\n",
    "D5=prix_put_americain(100,120,1000,4,sigma_bar2,1,list_sigma2,list_a2,L2,list_r2,P2, arbre2)"
   ]
  },
  {
   "cell_type": "code",
   "execution_count": 77,
   "metadata": {},
   "outputs": [
    {
     "data": {
      "text/html": [
       "<div>\n",
       "<style scoped>\n",
       "    .dataframe tbody tr th:only-of-type {\n",
       "        vertical-align: middle;\n",
       "    }\n",
       "\n",
       "    .dataframe tbody tr th {\n",
       "        vertical-align: top;\n",
       "    }\n",
       "\n",
       "    .dataframe thead th {\n",
       "        text-align: right;\n",
       "    }\n",
       "</style>\n",
       "<table border=\"1\" class=\"dataframe\">\n",
       "  <thead>\n",
       "    <tr style=\"text-align: right;\">\n",
       "      <th></th>\n",
       "      <th>S0</th>\n",
       "      <th>Tree</th>\n",
       "    </tr>\n",
       "  </thead>\n",
       "  <tbody>\n",
       "    <tr>\n",
       "      <th>0</th>\n",
       "      <td>80</td>\n",
       "      <td>[36.4502, 26.5974, 31.3615, 20.7283]</td>\n",
       "    </tr>\n",
       "    <tr>\n",
       "      <th>1</th>\n",
       "      <td>90</td>\n",
       "      <td>[32.1161, 21.5811, 26.7184, 14.7419]</td>\n",
       "    </tr>\n",
       "    <tr>\n",
       "      <th>2</th>\n",
       "      <td>100</td>\n",
       "      <td>[28.4185, 17.5913, 22.8527, 10.9462]</td>\n",
       "    </tr>\n",
       "    <tr>\n",
       "      <th>3</th>\n",
       "      <td>110</td>\n",
       "      <td>[25.2605, 14.4257, 19.6395, 8.4703]</td>\n",
       "    </tr>\n",
       "    <tr>\n",
       "      <th>4</th>\n",
       "      <td>120</td>\n",
       "      <td>[22.5491, 11.9033, 16.9516, 6.7792]</td>\n",
       "    </tr>\n",
       "  </tbody>\n",
       "</table>\n",
       "</div>"
      ],
      "text/plain": [
       "    S0                                  Tree\n",
       "0   80  [36.4502, 26.5974, 31.3615, 20.7283]\n",
       "1   90  [32.1161, 21.5811, 26.7184, 14.7419]\n",
       "2  100  [28.4185, 17.5913, 22.8527, 10.9462]\n",
       "3  110   [25.2605, 14.4257, 19.6395, 8.4703]\n",
       "4  120   [22.5491, 11.9033, 16.9516, 6.7792]"
      ]
     },
     "execution_count": 77,
     "metadata": {},
     "output_type": "execute_result"
    }
   ],
   "source": [
    "# Print the American put prices table\n",
    "D=[D1, D2, D3, D4, D5]\n",
    "Df3 = pd.DataFrame({'S0':[i for i in range(80,121,10)], 'Tree':[np.round(B[4000,0],4) for B in D]}) # here b*n = 4000\n",
    "Df3"
   ]
  },
  {
   "cell_type": "code",
   "execution_count": 74,
   "metadata": {},
   "outputs": [],
   "source": [
    "E1=prix_put_europeen(100,80,1000,4,sigma_bar2,1,list_sigma2,list_a2,L2,list_r2,P2, arbre2)\n",
    "E2=prix_put_europeen(100,90,1000,4,sigma_bar2,1,list_sigma2,list_a2,L2,list_r2,P2, arbre2)\n",
    "E3=prix_put_europeen(100,100,1000,4,sigma_bar2,1,list_sigma2,list_a2,L2,list_r2,P2, arbre2)\n",
    "E4=prix_put_europeen(100,110,1000,4,sigma_bar2,1,list_sigma2,list_a2,L2,list_r2,P2, arbre2)\n",
    "E5=prix_put_europeen(100,120,1000,4,sigma_bar2,1,list_sigma2,list_a2,L2,list_r2,P2, arbre2)"
   ]
  },
  {
   "cell_type": "code",
   "execution_count": 78,
   "metadata": {},
   "outputs": [
    {
     "data": {
      "text/html": [
       "<div>\n",
       "<style scoped>\n",
       "    .dataframe tbody tr th:only-of-type {\n",
       "        vertical-align: middle;\n",
       "    }\n",
       "\n",
       "    .dataframe tbody tr th {\n",
       "        vertical-align: top;\n",
       "    }\n",
       "\n",
       "    .dataframe thead th {\n",
       "        text-align: right;\n",
       "    }\n",
       "</style>\n",
       "<table border=\"1\" class=\"dataframe\">\n",
       "  <thead>\n",
       "    <tr style=\"text-align: right;\">\n",
       "      <th></th>\n",
       "      <th>S0</th>\n",
       "      <th>Tree</th>\n",
       "    </tr>\n",
       "  </thead>\n",
       "  <tbody>\n",
       "    <tr>\n",
       "      <th>0</th>\n",
       "      <td>80</td>\n",
       "      <td>[34.8479, 24.5996, 29.5966, 18.2138]</td>\n",
       "    </tr>\n",
       "    <tr>\n",
       "      <th>1</th>\n",
       "      <td>90</td>\n",
       "      <td>[30.8064, 20.184, 25.3549, 13.6292]</td>\n",
       "    </tr>\n",
       "    <tr>\n",
       "      <th>2</th>\n",
       "      <td>100</td>\n",
       "      <td>[27.3398, 16.5983, 21.788, 10.3961]</td>\n",
       "    </tr>\n",
       "    <tr>\n",
       "      <th>3</th>\n",
       "      <td>110</td>\n",
       "      <td>[24.3646, 13.7086, 18.7998, 8.1604]</td>\n",
       "    </tr>\n",
       "    <tr>\n",
       "      <th>4</th>\n",
       "      <td>120</td>\n",
       "      <td>[21.7982, 11.3763, 16.281, 6.5799]</td>\n",
       "    </tr>\n",
       "  </tbody>\n",
       "</table>\n",
       "</div>"
      ],
      "text/plain": [
       "    S0                                  Tree\n",
       "0   80  [34.8479, 24.5996, 29.5966, 18.2138]\n",
       "1   90   [30.8064, 20.184, 25.3549, 13.6292]\n",
       "2  100   [27.3398, 16.5983, 21.788, 10.3961]\n",
       "3  110   [24.3646, 13.7086, 18.7998, 8.1604]\n",
       "4  120    [21.7982, 11.3763, 16.281, 6.5799]"
      ]
     },
     "execution_count": 78,
     "metadata": {},
     "output_type": "execute_result"
    }
   ],
   "source": [
    "# Print the European put prices table\n",
    "E=[E1, E2, E3, E4, E5]\n",
    "Df4 = pd.DataFrame({'S0':[i for i in range(80,121,10)], 'Tree':[np.round(B[4000,0],4) for B in E]}) # Here b*n = 4000\n",
    "Df4"
   ]
  },
  {
   "cell_type": "markdown",
   "metadata": {},
   "source": [
    "# Heston model with stochastic volatility"
   ]
  },
  {
   "cell_type": "code",
   "execution_count": 85,
   "metadata": {},
   "outputs": [],
   "source": [
    "# Parameters for the Heston model\n",
    "kappa = 3.0\n",
    "theta = 0.04\n",
    "sigma_v = 0.1\n",
    "rho = -0.1 # covariance between price and volatility brownian motions\n",
    "v0 = 0.04\n",
    "sigma_bar = 0.2\n",
    "\n",
    "# Discretisation\n",
    "dw = 0.02"
   ]
  },
  {
   "cell_type": "code",
   "execution_count": 91,
   "metadata": {},
   "outputs": [],
   "source": [
    "arbre3=arbre_recomb(2500,3)"
   ]
  },
  {
   "cell_type": "markdown",
   "metadata": {},
   "source": [
    "We will generate the Markov chain"
   ]
  },
  {
   "cell_type": "code",
   "execution_count": 92,
   "metadata": {},
   "outputs": [],
   "source": [
    "# upper and lower bounds for the discretization of the volatility\n",
    "ml, mu=  15, 40\n",
    "m = mu-ml+1\n",
    "regimes = range(1,m+1)\n",
    "\n",
    "def transition(k):\n",
    "\n",
    "    forward = sigma_v**2/(2*(dw)**2) + (2*kappa*theta-(sigma_v**2)/2)/(2*k*(dw)**2) - kappa*k/4\n",
    "\n",
    "    backward = sigma_v**2/(2*(dw)**2) - (2*kappa*theta-(sigma_v**2)/2)/(2*k*(dw)**2) + kappa*k/4\n",
    "\n",
    "    return forward,backward\n",
    "\n",
    "\n",
    "def compute_Q():\n",
    "    \n",
    "    Q = np.zeros((m,m))\n",
    "\n",
    "    for i in range(1,m-1):\n",
    "        \n",
    "        forward,backward = transition(i+ml-1)\n",
    "\n",
    "        if forward>=0 and backward>=0:\n",
    "\n",
    "            Q[i,i+1] = forward\n",
    "            Q[i,i-1] = backward\n",
    "            Q[i,i] = -(forward+backward)\n",
    "\n",
    "        elif forward>0:\n",
    "\n",
    "            Q[i,i-1] = backward + kappa*(i+ml-1)/4\n",
    "            Q[i,i+1] = sigma_v**2/(2*(dw)**2) \n",
    "            Q[i,i] = -forward-backward\n",
    "\n",
    "        else:\n",
    "            \n",
    "            Q[i,i-1] = sigma_v**2/(2*(dw)**2) \n",
    "            Q[i,i+1] = forward - kappa*(i+ml-1)/4\n",
    "            Q[i,i] = -forward-backward\n",
    "    # i =0\n",
    "    Q[0,1] = (2*kappa*theta-(sigma_v**2)/2)/(ml*(dw)**2) - kappa*ml/2\n",
    "    Q[0,0] = - Q[0,1]\n",
    "    # i = m-1\n",
    "    Q[m-1,m-2] = -(2*kappa*theta-(sigma_v**2)/2)/(mu*(dw)**2) + kappa*mu/2\n",
    "    Q[m-1,m-1] = - Q[m-1,m-2]\n",
    "\n",
    "    return Q"
   ]
  },
  {
   "cell_type": "code",
   "execution_count": 93,
   "metadata": {},
   "outputs": [],
   "source": [
    "Q3 = compute_Q()\n",
    "P3 = transition_matrix(Q3, 0.25/2500)"
   ]
  },
  {
   "cell_type": "code",
   "execution_count": 94,
   "metadata": {},
   "outputs": [],
   "source": [
    "list_vi = [(1/4)*((i+ml-1)*dw)**2 for i in range(1,m+1)]\n",
    "list_sigma = [np.sqrt(list_vi[i]*(1-rho**2)) for i in range(len(list_vi))]\n",
    "list_a = [list_vi[i]*((rho*kappa/sigma_v)-0.5) for i in range(len(list_vi))]\n",
    "list_r = [0.05]*m\n",
    "\n",
    "list_saut = [0]*m\n",
    "for i in range (m):\n",
    "    k1,k2 = floor(2*list_sigma[i]/sigma_bar),ceil(2*list_sigma[i]/sigma_bar)\n",
    "    if k1==k2 or k1*sigma_bar<list_sigma[i]:\n",
    "        list_saut[i] = k2\n",
    "    else:\n",
    "        c = ((k1*sigma_bar)**2-list_sigma[i]**2)/list_a[i]**2\n",
    "        d = (k2*sigma_bar-sqrt((k2*sigma_bar)**2-4*list_sigma[i]**2))**2/(4*list_a[i])**2\n",
    "        if c<=d:\n",
    "            list_saut[i] = k2\n",
    "        else:\n",
    "            list_saut[i] = k1"
   ]
  },
  {
   "cell_type": "code",
   "execution_count": 97,
   "metadata": {},
   "outputs": [],
   "source": [
    "def prix_call_europeen_Heston_model(K, S_o, n, b, sigma_bar, T,List_vi, List_sigma, List_a, Liste_saut, List_r, Q, arbre):\n",
    "    proba_umd = proba_up_middle_down(List_sigma, List_a, Liste_saut, sigma_bar, T, n)\n",
    "    l = 2 * b * n + 1\n",
    "    h = T / n\n",
    "    table_prix = np.zeros((len(List_sigma), l))  # Matrix initialization\n",
    "\n",
    "    # We will then use the formulas in the paper\n",
    "    for reg in range(len(List_sigma)):\n",
    "        for i in range(l):\n",
    "            table_prix[reg, i] =  max(-K+S_o*np.exp((arbre[i,n])*sigma_bar*np.sqrt(h)+(rho/sigma_v)*(List_vi[reg]-v0)+(0.05-rho*kappa*theta/sigma_v)*n*h),0)\n",
    "    new_table_prix = np.zeros((len(List_sigma), l))         \n",
    "    for j in range(1, n + 1):\n",
    "        for i in range(l):\n",
    "            if i >= b * j and i <= b * (2 * n - j):\n",
    "                for etat in range(len(List_sigma)):\n",
    "                    r = List_r[etat]\n",
    "                    saut = Liste_saut[etat]\n",
    "                    prix_somme = 0\n",
    "                    prix_somme += table_prix[etat, i - saut] * proba_umd[0, etat] + \\\n",
    "                                      table_prix[etat, i + saut] * proba_umd[1, etat] + \\\n",
    "                                      table_prix[etat, i] * (proba_umd[2, etat] + Q[etat, etat] * h)\n",
    "        \n",
    "                    if etat != 0 and etat != len(List_sigma)-1:\n",
    "                        prix_somme += Q[etat, etat-1] * h * table_prix[etat-1, i] + Q[etat, etat+1] * h * table_prix[etat+1, i] \n",
    "                    else:\n",
    "                        if etat ==0 :\n",
    "                            prix_somme += Q[etat, etat+1] * h * table_prix[etat+1, i]\n",
    "                        if etat== len(List_sigma)-1:\n",
    "                            prix_somme += Q[etat, etat-1] * h * table_prix[etat-1, i]\n",
    "                    new_table_prix[etat, i] = np.exp(-r * h) * prix_somme\n",
    "        table_prix, new_table_prix = new_table_prix, table_prix  # Replace the old matrix with the new one\n",
    "\n",
    "    return table_prix"
   ]
  },
  {
   "cell_type": "code",
   "execution_count": null,
   "metadata": {},
   "outputs": [],
   "source": [
    "F1 = prix_call_europeen_Heston_model(100,90,2500,3,0.2,0.25,list_vi,list_sigma,list_a,list_saut,list_r, Q3, arbre3)"
   ]
  },
  {
   "cell_type": "code",
   "execution_count": 98,
   "metadata": {},
   "outputs": [],
   "source": [
    "def prix_put_americain_Heston_model(K, S_o, n, b, sigma_bar, T,List_vi, List_sigma, List_a, Liste_saut, List_r, Q, arbre):\n",
    "    proba_umd = proba_up_middle_down(List_sigma, List_a, Liste_saut, sigma_bar, T, n)\n",
    "    l = 2 * b * n + 1\n",
    "    h = T / n\n",
    "    table_prix = np.zeros((len(List_sigma), l))  # Matrix initialization\n",
    "\n",
    "    # We will then use the formulas in the paper\n",
    "    for reg in range(len(List_sigma)):\n",
    "        for i in range(l):\n",
    "            table_prix[reg, i] =  max(K-S_o*np.exp((arbre[i,n])*sigma_bar*np.sqrt(h)+(rho/sigma_v)*(List_vi[reg]-v0)+(0.05-rho*kappa*theta/sigma_v)*n*h),0)\n",
    "    new_table_prix = np.zeros((len(List_sigma), l))         \n",
    "    for j in range(1, n + 1):\n",
    "        for i in range(l):\n",
    "            if i >= b * j and i <= b * (2 * n - j):\n",
    "                for etat in range(len(List_sigma)):\n",
    "                    r = List_r[etat]\n",
    "                    saut = Liste_saut[etat]\n",
    "                    prix_somme = 0\n",
    "                    prix_somme += table_prix[etat, i - saut] * proba_umd[0, etat] + \\\n",
    "                                      table_prix[etat, i + saut] * proba_umd[1, etat] + \\\n",
    "                                      table_prix[etat, i] * (proba_umd[2, etat] + Q[etat, etat] * h)\n",
    "        \n",
    "                    if etat != 0 and etat != len(List_sigma)-1:\n",
    "                        prix_somme += Q[etat, etat-1] * h * table_prix[etat-1, i] + Q[etat, etat+1] * h * table_prix[etat+1, i] \n",
    "                    else:\n",
    "                        if etat ==0 :\n",
    "                            prix_somme += Q[etat, etat+1] * h * table_prix[etat+1, i]\n",
    "                        if etat== len(List_sigma)-1:\n",
    "                            prix_somme += Q[etat, etat-1] * h * table_prix[etat-1, i]\n",
    "                    new_table_prix[etat, i] = max(K-S_o*np.exp((arbre[i,n])*sigma_bar*np.sqrt(h)+(rho/sigma_v)*(List_vi[reg]-v0)+(0.05-rho*kappa*theta/sigma_v)*n*h), np.exp(-r * h) * prix_somme)\n",
    "        table_prix, new_table_prix = new_table_prix, table_prix  # Replace the old matrix with the new one\n",
    "\n",
    "    return table_prix"
   ]
  },
  {
   "cell_type": "code",
   "execution_count": null,
   "metadata": {},
   "outputs": [],
   "source": []
  }
 ],
 "metadata": {
  "kernelspec": {
   "display_name": "Python 3",
   "language": "python",
   "name": "python3"
  },
  "language_info": {
   "codemirror_mode": {
    "name": "ipython",
    "version": 3
   },
   "file_extension": ".py",
   "mimetype": "text/x-python",
   "name": "python",
   "nbconvert_exporter": "python",
   "pygments_lexer": "ipython3",
   "version": "3.12.2"
  }
 },
 "nbformat": 4,
 "nbformat_minor": 2
}
