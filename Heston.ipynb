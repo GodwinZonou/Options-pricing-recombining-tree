{
 "cells": [
  {
   "cell_type": "markdown",
   "metadata": {},
   "source": [
    "# APPLICATION TO HESTON MODEL"
   ]
  },
  {
   "cell_type": "code",
   "execution_count": 1,
   "metadata": {},
   "outputs": [],
   "source": [
    "import numpy as np\n",
    "from math import sqrt,ceil, floor\n",
    "from tqdm import tqdm"
   ]
  },
  {
   "cell_type": "code",
   "execution_count": 2,
   "metadata": {},
   "outputs": [],
   "source": [
    "def proba_up_middle_down(List_sigma,List_a,Liste_saut,sigma_bar,T,n):\n",
    "    proba=np.zeros((3,len(List_sigma)))\n",
    "    h=T/n\n",
    "    for i in range(len(List_sigma)):\n",
    "        proba[0,i]=(List_sigma[i]**2+List_a[i]*Liste_saut[i]*sigma_bar*np.sqrt(h)+h*List_a[i]**2)/(2*(Liste_saut[i]*sigma_bar)**2)\n",
    "        proba[1,i]=(List_sigma[i]**2-List_a[i]*Liste_saut[i]*sigma_bar*np.sqrt(h)+h*List_a[i]**2)/(2*(Liste_saut[i]*sigma_bar)**2)\n",
    "        proba[2,i]=1-(proba[0,i]+proba[1,i])\n",
    "    return proba"
   ]
  },
  {
   "cell_type": "code",
   "execution_count": 3,
   "metadata": {},
   "outputs": [],
   "source": [
    "# Parameters for the Heston model\n",
    "kappa = 3.0\n",
    "theta = 0.04\n",
    "sigma_v = 0.1\n",
    "r = 0.05\n",
    "rho = -0.1 # covariance between price and volatility brownian motions\n",
    "v0 = 0.04\n",
    "sigma_bar = 0.2\n"
   ]
  },
  {
   "cell_type": "markdown",
   "metadata": {},
   "source": [
    "## Analytical"
   ]
  },
  {
   "cell_type": "code",
   "execution_count": 4,
   "metadata": {},
   "outputs": [],
   "source": [
    "# Discretisation\n",
    "dw = 0.02"
   ]
  },
  {
   "cell_type": "markdown",
   "metadata": {},
   "source": [
    "## Recombining Tree"
   ]
  },
  {
   "cell_type": "code",
   "execution_count": 5,
   "metadata": {},
   "outputs": [],
   "source": [
    "def arbre_recomb(n,b):\n",
    "    l=2*b*n+1\n",
    "    S=np.zeros((l,n+1))\n",
    "    for i in range(l):\n",
    "        S[i,n]= b*n-i\n",
    "    for j in range(1,n+1):\n",
    "        for i in  range(l):\n",
    "            if i>=b*j and i<=b*(2*n-j):\n",
    "                S[i,n-j]=b*n-i\n",
    "    return S"
   ]
  },
  {
   "cell_type": "code",
   "execution_count": 6,
   "metadata": {},
   "outputs": [],
   "source": [
    "arbre=arbre_recomb(2500,3)"
   ]
  },
  {
   "cell_type": "markdown",
   "metadata": {},
   "source": [
    "Markov Chain"
   ]
  },
  {
   "cell_type": "code",
   "execution_count": 7,
   "metadata": {},
   "outputs": [],
   "source": [
    "# Compute the Markov chain\n",
    "\n",
    "# upper and lower bounds for the discretization of the volatility\n",
    "ml, mu=  15, 40\n",
    "m = mu-ml+1\n",
    "regimes = range(1,m+1)\n",
    "\n",
    "def transition(k):\n",
    "\n",
    "    forward = sigma_v**2/(2*(dw)**2) + (2*kappa*theta-(sigma_v**2)/2)/(2*k*(dw)**2) - kappa*k/4\n",
    "\n",
    "    backward = sigma_v**2/(2*(dw)**2) - (2*kappa*theta-(sigma_v**2)/2)/(2*k*(dw)**2) + kappa*k/4\n",
    "\n",
    "    return forward,backward\n",
    "\n",
    "\n",
    "def compute_Q():\n",
    "    \n",
    "    Q = np.zeros((m,m))\n",
    "\n",
    "    for i in range(1,m-1):\n",
    "        \n",
    "        forward,backward = transition(i+ml-1)\n",
    "\n",
    "        if forward>=0 and backward>=0:\n",
    "\n",
    "            Q[i,i+1] = forward\n",
    "            Q[i,i-1] = backward\n",
    "            Q[i,i] = -(forward+backward)\n",
    "\n",
    "        elif forward>0:\n",
    "\n",
    "            Q[i,i-1] = backward + kappa*(i+ml-1)/4\n",
    "            Q[i,i+1] = sigma_v**2/(2*(dw)**2) \n",
    "            Q[i,i] = -forward-backward\n",
    "\n",
    "        else:\n",
    "            \n",
    "            Q[i,i-1] = sigma_v**2/(2*(dw)**2) \n",
    "            Q[i,i+1] = forward - kappa*(i+ml-1)/4\n",
    "            Q[i,i] = -forward-backward\n",
    "    # i =0\n",
    "    Q[0,1] = (2*kappa*theta-(sigma_v**2)/2)/(ml*(dw)**2) - kappa*ml/2\n",
    "    Q[0,0] = - Q[0,1]\n",
    "    # i = m-1\n",
    "    Q[m-1,m-2] = -(2*kappa*theta-(sigma_v**2)/2)/(mu*(dw)**2) + kappa*mu/2\n",
    "    Q[m-1,m-1] = - Q[m-1,m-2]\n",
    "\n",
    "    return Q"
   ]
  },
  {
   "cell_type": "code",
   "execution_count": 8,
   "metadata": {},
   "outputs": [],
   "source": [
    "def transition_matrix(Q,h):\n",
    "    nbr=Q.shape[0]\n",
    "    tr_matrix=np.zeros((nbr,nbr))\n",
    "    for i in range(nbr):\n",
    "        for j in range(nbr):\n",
    "            if i==j:\n",
    "                tr_matrix[i,j]=np.exp(Q[i,j]*h)\n",
    "            else:\n",
    "                tr_matrix[i,j]=-(1-np.exp(Q[i,i]*h))*Q[i,j]/Q[i,i]\n",
    "    return tr_matrix"
   ]
  },
  {
   "cell_type": "code",
   "execution_count": 9,
   "metadata": {},
   "outputs": [],
   "source": [
    "Q = compute_Q()\n",
    "P = transition_matrix(Q, 0.25/2500)"
   ]
  },
  {
   "cell_type": "code",
   "execution_count": 10,
   "metadata": {},
   "outputs": [],
   "source": [
    "list_vi = [(1/4)*((i+ml-1)*dw)**2 for i in range(1,m+1)]\n",
    "list_sigma = [np.sqrt(list_vi[i]*(1-rho**2)) for i in range(len(list_vi))]\n",
    "list_a = [list_vi[i]*((rho*kappa/sigma_v)-0.5) for i in range(len(list_vi))]\n",
    "\n",
    "list_saut = [0]*m\n",
    "for i in range (m):\n",
    "    k1,k2 = floor(2*list_sigma[i]/sigma_bar),ceil(2*list_sigma[i]/sigma_bar)\n",
    "    if k1==k2 or k1*sigma_bar<list_sigma[i]:\n",
    "        list_saut[i] = k2\n",
    "    else:\n",
    "        c = ((k1*sigma_bar)**2-list_sigma[i]**2)/list_a[i]**2\n",
    "        d = (k2*sigma_bar-sqrt((k2*sigma_bar)**2-4*list_sigma[i]**2))**2/(4*list_a[i])**2\n",
    "        if c<=d:\n",
    "            list_saut[i] = k2\n",
    "        else:\n",
    "            list_saut[i] = k1\n"
   ]
  },
  {
   "cell_type": "code",
   "execution_count": 30,
   "metadata": {},
   "outputs": [],
   "source": [
    "def prix_call_europeen(K,S_o,n,b,sigma_bar,T, List_vi, List_sigma,List_a,Liste_saut,r,P):\n",
    "    proba_umd=proba_up_middle_down(List_sigma,List_a,Liste_saut,sigma_bar,T,n)\n",
    "    l=2*b*n+1\n",
    "    h=T/n\n",
    "    table_prix=np.zeros((l,n+1),dtype=object)\n",
    "    for i in range(l):\n",
    "        table_prix[i,n]={reg:max(-K+S_o*np.exp(arbre[i,n]*sigma_bar*np.sqrt(h)+(rho/sigma_v)*(List_vi[reg]-v0)+(r-(rho*kappa*theta/sigma_v)*n*h)),0) for reg in range(len(List_sigma))}\n",
    "    for j in range(1,n+1):\n",
    "        for i in range(l):\n",
    "            if i>=b*j and i<=b*(2*n-j):\n",
    "                table_prix[i,n-j]={reg:0 for reg in range(len(List_sigma))}\n",
    "                for etat in range(len(List_sigma)):\n",
    "                    saut=Liste_saut[etat]\n",
    "                    for k in range(len(List_sigma)):\n",
    "                        table_prix[i,n-j][etat] += P[etat,k]*(table_prix[i-saut,n-j+1][k]*proba_umd[0,etat]+table_prix[i+saut,n-j+1][k]*proba_umd[1,etat]+table_prix[i,n-j+1][k]*proba_umd[2,etat])\n",
    "                    table_prix[i,n-j][etat]=np.exp(-r*h)*table_prix[i,n-j][etat]\n",
    "        \n",
    "    return table_prix"
   ]
  },
  {
   "cell_type": "code",
   "execution_count": 31,
   "metadata": {},
   "outputs": [
    {
     "ename": "KeyboardInterrupt",
     "evalue": "",
     "output_type": "error",
     "traceback": [
      "\u001b[1;31m---------------------------------------------------------------------------\u001b[0m",
      "\u001b[1;31mKeyboardInterrupt\u001b[0m                         Traceback (most recent call last)",
      "Cell \u001b[1;32mIn[31], line 1\u001b[0m\n\u001b[1;32m----> 1\u001b[0m A\u001b[38;5;241m=\u001b[39m\u001b[43mprix_call_europeen\u001b[49m\u001b[43m(\u001b[49m\u001b[38;5;241;43m100\u001b[39;49m\u001b[43m,\u001b[49m\u001b[38;5;241;43m90\u001b[39;49m\u001b[43m,\u001b[49m\u001b[38;5;241;43m2500\u001b[39;49m\u001b[43m,\u001b[49m\u001b[38;5;241;43m3\u001b[39;49m\u001b[43m,\u001b[49m\u001b[38;5;241;43m0.2\u001b[39;49m\u001b[43m,\u001b[49m\u001b[38;5;241;43m0.25\u001b[39;49m\u001b[43m,\u001b[49m\u001b[43m \u001b[49m\u001b[43mlist_vi\u001b[49m\u001b[43m,\u001b[49m\u001b[43m \u001b[49m\u001b[43mlist_sigma\u001b[49m\u001b[43m,\u001b[49m\u001b[43mlist_a\u001b[49m\u001b[43m,\u001b[49m\u001b[43mlist_saut\u001b[49m\u001b[43m,\u001b[49m\u001b[43mr\u001b[49m\u001b[43m,\u001b[49m\u001b[43mP\u001b[49m\u001b[43m)\u001b[49m\n",
      "Cell \u001b[1;32mIn[30], line 15\u001b[0m, in \u001b[0;36mprix_call_europeen\u001b[1;34m(K, S_o, n, b, sigma_bar, T, List_vi, List_sigma, List_a, Liste_saut, r, P)\u001b[0m\n\u001b[0;32m     13\u001b[0m                 saut\u001b[38;5;241m=\u001b[39mListe_saut[etat]\n\u001b[0;32m     14\u001b[0m                 \u001b[38;5;28;01mfor\u001b[39;00m k \u001b[38;5;129;01min\u001b[39;00m \u001b[38;5;28mrange\u001b[39m(\u001b[38;5;28mlen\u001b[39m(List_sigma)):\n\u001b[1;32m---> 15\u001b[0m                     table_prix[i,n\u001b[38;5;241m-\u001b[39mj][etat] \u001b[38;5;241m+\u001b[39m\u001b[38;5;241m=\u001b[39m P[etat,k]\u001b[38;5;241m*\u001b[39m(table_prix[i\u001b[38;5;241m-\u001b[39msaut,n\u001b[38;5;241m-\u001b[39mj\u001b[38;5;241m+\u001b[39m\u001b[38;5;241m1\u001b[39m][k]\u001b[38;5;241m*\u001b[39mproba_umd[\u001b[38;5;241m0\u001b[39m,etat]\u001b[38;5;241m+\u001b[39mtable_prix[i\u001b[38;5;241m+\u001b[39msaut,n\u001b[38;5;241m-\u001b[39mj\u001b[38;5;241m+\u001b[39m\u001b[38;5;241m1\u001b[39m][k]\u001b[38;5;241m*\u001b[39mproba_umd[\u001b[38;5;241m1\u001b[39m,etat]\u001b[38;5;241m+\u001b[39mtable_prix[i,n\u001b[38;5;241m-\u001b[39mj\u001b[38;5;241m+\u001b[39m\u001b[38;5;241m1\u001b[39m][k]\u001b[38;5;241m*\u001b[39mproba_umd[\u001b[38;5;241m2\u001b[39m,etat])\n\u001b[0;32m     16\u001b[0m                 table_prix[i,n\u001b[38;5;241m-\u001b[39mj][etat]\u001b[38;5;241m=\u001b[39mnp\u001b[38;5;241m.\u001b[39mexp(\u001b[38;5;241m-\u001b[39mr\u001b[38;5;241m*\u001b[39mh)\u001b[38;5;241m*\u001b[39mtable_prix[i,n\u001b[38;5;241m-\u001b[39mj][etat]\n\u001b[0;32m     18\u001b[0m \u001b[38;5;28;01mreturn\u001b[39;00m table_prix\n",
      "\u001b[1;31mKeyboardInterrupt\u001b[0m: "
     ]
    }
   ],
   "source": [
    "A=prix_call_europeen(100,90,2500,3,0.2,0.25, list_vi, list_sigma,list_a,list_saut,r,P)"
   ]
  },
  {
   "cell_type": "code",
   "execution_count": 27,
   "metadata": {},
   "outputs": [],
   "source": [
    "def prix_call_europeen2(K,S_o,n,b,sigma_bar,T, List_vi, List_sigma,List_a,Liste_saut,r,P):\n",
    "    proba_umd=proba_up_middle_down(List_sigma,List_a,Liste_saut,sigma_bar,T,n)\n",
    "    l=2*b*n+1\n",
    "    h=T/n\n",
    "    table_prix=np.zeros((l,n+1,len(List_sigma)))\n",
    "    for i in range(l):\n",
    "        for reg in range(len(List_sigma)):\n",
    "            table_prix[i,n,reg]=max(-K+S_o*np.exp(arbre[i,n]*sigma_bar*np.sqrt(h)+(rho/sigma_v)*(List_vi[reg]-v0)+(r-(rho*kappa*theta/sigma_v)*n*h)),0)\n",
    "    for j in range(1,n+1):\n",
    "        for i in range(l):\n",
    "            if i>=b*j and i<=b*(2*n-j):\n",
    "                for etat in range(len(List_sigma)):\n",
    "                    #r=List_r[etat]\n",
    "                    saut=Liste_saut[etat]\n",
    "                    for k in range(len(List_sigma)):\n",
    "                        table_prix[i,n-j,etat] += P[etat,k]*(table_prix[i-saut,n-j+1,k]*proba_umd[0,etat]+table_prix[i+saut,n-j+1,k]*proba_umd[1,etat]+table_prix[i,n-j+1,k]*proba_umd[2,etat])\n",
    "                    table_prix[i,n-j,etat]=np.exp(-r*h)*table_prix[i,n-j,etat]\n",
    "        \n",
    "    return table_prix"
   ]
  },
  {
   "cell_type": "code",
   "execution_count": 29,
   "metadata": {},
   "outputs": [
    {
     "ename": "MemoryError",
     "evalue": "Unable to allocate 4.47 GiB for an array with shape (15001, 2501, 16) and data type float64",
     "output_type": "error",
     "traceback": [
      "\u001b[1;31m---------------------------------------------------------------------------\u001b[0m",
      "\u001b[1;31mMemoryError\u001b[0m                               Traceback (most recent call last)",
      "Cell \u001b[1;32mIn[29], line 1\u001b[0m\n\u001b[1;32m----> 1\u001b[0m A\u001b[38;5;241m=\u001b[39m\u001b[43mprix_call_europeen2\u001b[49m\u001b[43m(\u001b[49m\u001b[38;5;241;43m100\u001b[39;49m\u001b[43m,\u001b[49m\u001b[38;5;241;43m90\u001b[39;49m\u001b[43m,\u001b[49m\u001b[38;5;241;43m2500\u001b[39;49m\u001b[43m,\u001b[49m\u001b[38;5;241;43m3\u001b[39;49m\u001b[43m,\u001b[49m\u001b[38;5;241;43m0.2\u001b[39;49m\u001b[43m,\u001b[49m\u001b[38;5;241;43m0.25\u001b[39;49m\u001b[43m,\u001b[49m\u001b[43m \u001b[49m\u001b[43mlist_vi\u001b[49m\u001b[43m,\u001b[49m\u001b[43m \u001b[49m\u001b[43mlist_sigma\u001b[49m\u001b[43m,\u001b[49m\u001b[43mlist_a\u001b[49m\u001b[43m,\u001b[49m\u001b[43mlist_saut\u001b[49m\u001b[43m,\u001b[49m\u001b[43mr\u001b[49m\u001b[43m,\u001b[49m\u001b[43mP\u001b[49m\u001b[43m)\u001b[49m\n",
      "Cell \u001b[1;32mIn[27], line 5\u001b[0m, in \u001b[0;36mprix_call_europeen2\u001b[1;34m(K, S_o, n, b, sigma_bar, T, List_vi, List_sigma, List_a, Liste_saut, r, P)\u001b[0m\n\u001b[0;32m      3\u001b[0m l\u001b[38;5;241m=\u001b[39m\u001b[38;5;241m2\u001b[39m\u001b[38;5;241m*\u001b[39mb\u001b[38;5;241m*\u001b[39mn\u001b[38;5;241m+\u001b[39m\u001b[38;5;241m1\u001b[39m\n\u001b[0;32m      4\u001b[0m h\u001b[38;5;241m=\u001b[39mT\u001b[38;5;241m/\u001b[39mn\n\u001b[1;32m----> 5\u001b[0m table_prix\u001b[38;5;241m=\u001b[39m\u001b[43mnp\u001b[49m\u001b[38;5;241;43m.\u001b[39;49m\u001b[43mzeros\u001b[49m\u001b[43m(\u001b[49m\u001b[43m(\u001b[49m\u001b[43ml\u001b[49m\u001b[43m,\u001b[49m\u001b[43mn\u001b[49m\u001b[38;5;241;43m+\u001b[39;49m\u001b[38;5;241;43m1\u001b[39;49m\u001b[43m,\u001b[49m\u001b[38;5;28;43mlen\u001b[39;49m\u001b[43m(\u001b[49m\u001b[43mList_sigma\u001b[49m\u001b[43m)\u001b[49m\u001b[43m)\u001b[49m\u001b[43m)\u001b[49m\n\u001b[0;32m      6\u001b[0m \u001b[38;5;28;01mfor\u001b[39;00m i \u001b[38;5;129;01min\u001b[39;00m \u001b[38;5;28mrange\u001b[39m(l):\n\u001b[0;32m      7\u001b[0m     \u001b[38;5;28;01mfor\u001b[39;00m reg \u001b[38;5;129;01min\u001b[39;00m \u001b[38;5;28mrange\u001b[39m(\u001b[38;5;28mlen\u001b[39m(List_sigma)):\n",
      "\u001b[1;31mMemoryError\u001b[0m: Unable to allocate 4.47 GiB for an array with shape (15001, 2501, 16) and data type float64"
     ]
    }
   ],
   "source": [
    "A=prix_call_europeen2(100,90,2500,3,0.2,0.25, list_vi, list_sigma,list_a,list_saut,r,P)"
   ]
  },
  {
   "cell_type": "code",
   "execution_count": null,
   "metadata": {},
   "outputs": [],
   "source": [
    "def prix_put_europeen(K,S_o,n,b,sigma_bar,T,List_sigma,List_a,Liste_saut,r,P):\n",
    "    proba_umd=proba_up_middle_down(List_sigma,List_a,Liste_saut,sigma_bar,T,n)\n",
    "    l=2*b*n+1\n",
    "    h=T/n\n",
    "    table_prix=np.zeros((l,n+1),dtype=object)\n",
    "    for i in range(l):\n",
    "        table_prix[i,n]={reg:max(K-S_o*np.exp(arbre[i,n]*sigma_bar*np.sqrt(h)),0) for reg in range(len(List_sigma))}\n",
    "    for j in range(1,n+1):\n",
    "        for i in range(l):\n",
    "            if i>=b*j and i<=b*(2*n-j):\n",
    "                table_prix[i,n-j]={reg:0 for reg in range(len(List_sigma))}\n",
    "                for etat in range(len(List_sigma)):\n",
    "                    saut=Liste_saut[etat]\n",
    "                    for k in range(len(List_sigma)):\n",
    "                        table_prix[i,n-j][etat] += P[etat,k]*(table_prix[i-saut,n-j+1][k]*proba_umd[0,etat]+table_prix[i+saut,n-j+1][k]*proba_umd[1,etat]+table_prix[i,n-j+1][k]*proba_umd[2,etat])\n",
    "                    table_prix[i,n-j][etat]=np.exp(-r*h)*table_prix[i,n-j][etat]\n",
    "        \n",
    "    return table_prix"
   ]
  },
  {
   "cell_type": "code",
   "execution_count": 11,
   "metadata": {},
   "outputs": [],
   "source": [
    "list_r = [0.05]*m"
   ]
  },
  {
   "cell_type": "code",
   "execution_count": 13,
   "metadata": {},
   "outputs": [],
   "source": [
    "def prix_call_europeen_Heston_model2(K, S_o, n, b, sigma_bar, T,List_vi, List_sigma, List_a, Liste_saut, List_r, P):\n",
    "    proba_umd = proba_up_middle_down(List_sigma, List_a, Liste_saut, sigma_bar, T, n)\n",
    "    l = 2 * b * n + 1\n",
    "    h = T / n\n",
    "    table_prix = np.zeros((len(List_sigma), l))  # Réorganisation des dimensions de la matrice\n",
    "\n",
    "    for reg in range(len(List_sigma)):\n",
    "        for i in range(l):\n",
    "            table_prix[reg, i] = max(-K+S_o*np.exp((arbre[i,n])*sigma_bar*np.sqrt(h)+(rho/sigma_v)*(List_vi[reg]-v0)+(0.05-rho*kappa*theta/sigma_v)*n*h),0)\n",
    "    new_table_prix = np.zeros((len(List_sigma), l))\n",
    "    for j in tqdm(range(1, n + 1)): # Créer une nouvelle matrice pour chaque itération de j\n",
    "        for i in range(l):\n",
    "            if i >= b * j and i <= b * (2 * n - j):\n",
    "                for etat in range(len(List_sigma)):\n",
    "                    r = List_r[etat]\n",
    "                    saut = Liste_saut[etat]\n",
    "                    prix_somme = 0\n",
    "                    for k in range(len(List_sigma)):\n",
    "                        prix_somme += P[etat, k] * (\n",
    "                                table_prix[k, i - saut] * proba_umd[0, etat] +\n",
    "                                table_prix[k, i + saut] * proba_umd[1, etat] +\n",
    "                                table_prix[k, i] * proba_umd[2, etat]\n",
    "                        )\n",
    "                    new_table_prix[etat, i] = np.exp(-r * h) * prix_somme\n",
    "        table_prix ,new_table_prix= new_table_prix , table_prix  # Remplacer l'ancienne matrice par la nouvelle\n",
    "\n",
    "    return table_prix"
   ]
  },
  {
   "cell_type": "code",
   "execution_count": 14,
   "metadata": {},
   "outputs": [
    {
     "name": "stderr",
     "output_type": "stream",
     "text": [
      "  0%|          | 8/2500 [02:25<12:33:24, 18.14s/it]\n"
     ]
    },
    {
     "ename": "KeyboardInterrupt",
     "evalue": "",
     "output_type": "error",
     "traceback": [
      "\u001b[1;31m---------------------------------------------------------------------------\u001b[0m",
      "\u001b[1;31mKeyboardInterrupt\u001b[0m                         Traceback (most recent call last)",
      "Cell \u001b[1;32mIn[14], line 1\u001b[0m\n\u001b[1;32m----> 1\u001b[0m C9\u001b[38;5;241m=\u001b[39m\u001b[43mprix_call_europeen_Heston_model2\u001b[49m\u001b[43m(\u001b[49m\u001b[38;5;241;43m100\u001b[39;49m\u001b[43m,\u001b[49m\u001b[38;5;241;43m90\u001b[39;49m\u001b[43m,\u001b[49m\u001b[38;5;241;43m2500\u001b[39;49m\u001b[43m,\u001b[49m\u001b[38;5;241;43m3\u001b[39;49m\u001b[43m,\u001b[49m\u001b[38;5;241;43m0.2\u001b[39;49m\u001b[43m,\u001b[49m\u001b[38;5;241;43m0.25\u001b[39;49m\u001b[43m,\u001b[49m\u001b[43mlist_vi\u001b[49m\u001b[43m,\u001b[49m\u001b[43mlist_sigma\u001b[49m\u001b[43m,\u001b[49m\u001b[43mlist_a\u001b[49m\u001b[43m,\u001b[49m\u001b[43mlist_saut\u001b[49m\u001b[43m,\u001b[49m\u001b[43mlist_r\u001b[49m\u001b[43m,\u001b[49m\u001b[43mP\u001b[49m\u001b[43m)\u001b[49m\n",
      "Cell \u001b[1;32mIn[13], line 19\u001b[0m, in \u001b[0;36mprix_call_europeen_Heston_model2\u001b[1;34m(K, S_o, n, b, sigma_bar, T, List_vi, List_sigma, List_a, Liste_saut, List_r, P)\u001b[0m\n\u001b[0;32m     17\u001b[0m             prix_somme \u001b[38;5;241m=\u001b[39m \u001b[38;5;241m0\u001b[39m\n\u001b[0;32m     18\u001b[0m             \u001b[38;5;28;01mfor\u001b[39;00m k \u001b[38;5;129;01min\u001b[39;00m \u001b[38;5;28mrange\u001b[39m(\u001b[38;5;28mlen\u001b[39m(List_sigma)):\n\u001b[1;32m---> 19\u001b[0m                 prix_somme \u001b[38;5;241m+\u001b[39m\u001b[38;5;241m=\u001b[39m P[etat, k] \u001b[38;5;241m*\u001b[39m (\n\u001b[0;32m     20\u001b[0m                         table_prix[k, i \u001b[38;5;241m-\u001b[39m saut] \u001b[38;5;241m*\u001b[39m proba_umd[\u001b[38;5;241m0\u001b[39m, etat] \u001b[38;5;241m+\u001b[39m\n\u001b[0;32m     21\u001b[0m                         table_prix[k, i \u001b[38;5;241m+\u001b[39m saut] \u001b[38;5;241m*\u001b[39m proba_umd[\u001b[38;5;241m1\u001b[39m, etat] \u001b[38;5;241m+\u001b[39m\n\u001b[0;32m     22\u001b[0m                         table_prix[k, i] \u001b[38;5;241m*\u001b[39m proba_umd[\u001b[38;5;241m2\u001b[39m, etat]\n\u001b[0;32m     23\u001b[0m                 )\n\u001b[0;32m     24\u001b[0m             new_table_prix[etat, i] \u001b[38;5;241m=\u001b[39m np\u001b[38;5;241m.\u001b[39mexp(\u001b[38;5;241m-\u001b[39mr \u001b[38;5;241m*\u001b[39m h) \u001b[38;5;241m*\u001b[39m prix_somme\n\u001b[0;32m     25\u001b[0m table_prix ,new_table_prix\u001b[38;5;241m=\u001b[39m new_table_prix , table_prix  \u001b[38;5;66;03m# Remplacer l'ancienne matrice par la nouvelle\u001b[39;00m\n",
      "\u001b[1;31mKeyboardInterrupt\u001b[0m: "
     ]
    }
   ],
   "source": [
    "C9=prix_call_europeen_Heston_model2(100,90,2500,3,0.2,0.25,list_vi,list_sigma,list_a,list_saut,list_r,P)"
   ]
  }
 ],
 "metadata": {
  "kernelspec": {
   "display_name": "myenv",
   "language": "python",
   "name": "python3"
  },
  "language_info": {
   "codemirror_mode": {
    "name": "ipython",
    "version": 3
   },
   "file_extension": ".py",
   "mimetype": "text/x-python",
   "name": "python",
   "nbconvert_exporter": "python",
   "pygments_lexer": "ipython3",
   "version": "3.12.2"
  }
 },
 "nbformat": 4,
 "nbformat_minor": 2
}
