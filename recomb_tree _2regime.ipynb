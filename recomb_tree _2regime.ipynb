{
 "cells": [
  {
   "cell_type": "code",
   "execution_count": 1,
   "metadata": {},
   "outputs": [],
   "source": [
    "from math import sqrt,ceil, floor"
   ]
  },
  {
   "cell_type": "code",
   "execution_count": 2,
   "metadata": {},
   "outputs": [],
   "source": [
    "import numpy as np\n",
    "def arbre_recomb(n,b): #arbre avec recombinaison sous forme de tableau\n",
    "    l=2*b*n+1\n",
    "    S=np.zeros((l,n+1))\n",
    "    for i in range(1,n+1):\n",
    "        for j in range(l):\n",
    "            if j<b*n :\n",
    "                for k in range(b*(n-i),b*n):\n",
    "                    S[k,i]=b*n-k\n",
    "            if j>b*n:\n",
    "                S[j,i]=-S[2*b*n-j,i]\n",
    "    return S"
   ]
  },
  {
   "cell_type": "code",
   "execution_count": 3,
   "metadata": {},
   "outputs": [],
   "source": [
    "def arbre_recomb2(n,b):\n",
    "    l=2*b*n+1\n",
    "    S=np.zeros((l,n+1))\n",
    "    for i in range(l):\n",
    "        S[i,n]= b*n-i\n",
    "    for j in range(1,n+1):\n",
    "        for i in  range(l):\n",
    "            if i>=b*j and i<=b*(2*n-j):\n",
    "                S[i,n-j]=b*n-i\n",
    "    return S\n"
   ]
  },
  {
   "cell_type": "code",
   "execution_count": 4,
   "metadata": {},
   "outputs": [
    {
     "data": {
      "text/plain": [
       "array([[    0.,     0.,     0., ...,     0.,     0.,  7500.],\n",
       "       [    0.,     0.,     0., ...,     0.,     0.,  7499.],\n",
       "       [    0.,     0.,     0., ...,     0.,     0.,  7498.],\n",
       "       ...,\n",
       "       [    0.,     0.,     0., ...,     0.,     0., -7498.],\n",
       "       [    0.,     0.,     0., ...,     0.,     0., -7499.],\n",
       "       [    0.,     0.,     0., ...,     0.,     0., -7500.]])"
      ]
     },
     "execution_count": 4,
     "metadata": {},
     "output_type": "execute_result"
    }
   ],
   "source": [
    "arbre_recomb2(2500,3)"
   ]
  },
  {
   "cell_type": "code",
   "execution_count": 5,
   "metadata": {},
   "outputs": [],
   "source": [
    "def proba_up_middle_down(List_sigma,List_a,Liste_saut,sigma_bar,T,n):\n",
    "    proba=np.zeros((3,len(List_sigma)))\n",
    "    h=T/n\n",
    "    for i in range(len(List_sigma)):\n",
    "        proba[0,i]=(List_sigma[i]**2+List_a[i]*Liste_saut[i]*sigma_bar*np.sqrt(h)+h*List_a[i]**2)/(2*(Liste_saut[i]*sigma_bar)**2)\n",
    "        proba[1,i]=(List_sigma[i]**2-List_a[i]*Liste_saut[i]*sigma_bar*np.sqrt(h)+h*List_a[i]**2)/(2*(Liste_saut[i]*sigma_bar)**2)\n",
    "        proba[2,i]=1-(proba[0,i]+proba[1,i])\n",
    "    return proba"
   ]
  },
  {
   "cell_type": "code",
   "execution_count": 6,
   "metadata": {},
   "outputs": [],
   "source": [
    "arbre=arbre_recomb2(2500,3)"
   ]
  },
  {
   "cell_type": "code",
   "execution_count": 7,
   "metadata": {},
   "outputs": [],
   "source": [
    "kappa = 3.0\n",
    "theta = 0.04\n",
    "sigma_v = 0.1\n",
    "r = 0.05\n",
    "rho = -0.1 # covariance between price and volatility brownian motions\n",
    "v0 = 0.04\n",
    "sigma_bar = 0.2"
   ]
  },
  {
   "cell_type": "code",
   "execution_count": 8,
   "metadata": {},
   "outputs": [],
   "source": [
    "def prix_call_europeen(K,S_o,n,b,sigma_bar,T,List_vi,List_sigma,List_a,Liste_saut,List_r,P):\n",
    "    proba_umd=proba_up_middle_down(List_sigma,List_a,Liste_saut,sigma_bar,T,n)\n",
    "    l=2*b*n+1\n",
    "    h=T/n\n",
    "    table_prix=np.zeros((l,n+1),dtype=object)\n",
    "    for i in range(l):\n",
    "        table_prix[i,n]={reg:max(-K+S_o*np.exp((arbre[i,n])*sigma_bar*np.sqrt(h)+(rho/sigma_v)*(List_vi[reg]-v0)+(0.05-rho*kappa*theta/sigma_v)*n*h),0) for reg in range(len(List_sigma))}\n",
    "    for j in range(1,n+1):\n",
    "        for i in range(l):\n",
    "            if i>=b*j and i<=b*(2*n-j):\n",
    "                table_prix[i,n-j]={reg:0 for reg in range(len(List_sigma))}\n",
    "                for etat in range(len(List_sigma)):\n",
    "                    r=List_r[etat]\n",
    "                    saut=Liste_saut[etat]\n",
    "                    for k in range(len(List_sigma)):\n",
    "                        table_prix[i,n-j][etat] += P[etat,k]*(table_prix[i-saut,n-j+1][k]*proba_umd[0,etat]+table_prix[i+saut,n-j+1][k]*proba_umd[1,etat]+table_prix[i,n-j+1][k]*proba_umd[2,etat])\n",
    "                    table_prix[i,n-j][etat]=np.exp(-r*h)*table_prix[i,n-j][etat]\n",
    "        \n",
    "    return table_prix"
   ]
  },
  {
   "cell_type": "code",
   "execution_count": 9,
   "metadata": {},
   "outputs": [],
   "source": [
    "dw = 0.02"
   ]
  },
  {
   "cell_type": "code",
   "execution_count": 10,
   "metadata": {},
   "outputs": [],
   "source": [
    "ml, mu=  1, 2\n",
    "m = mu-ml+1\n",
    "regimes = range(1,m+1)"
   ]
  },
  {
   "cell_type": "code",
   "execution_count": 11,
   "metadata": {},
   "outputs": [],
   "source": [
    "# Compute the Markov chain\n",
    "\n",
    "# upper and lower bounds for the discretization of the volatility\n",
    "\n",
    "\n",
    "def transition(k):\n",
    "\n",
    "    forward = sigma_v**2/(2*(dw)**2) + (2*kappa*theta-sigma_v**2)/(2*k*(dw)**2) - kappa*k/4\n",
    "\n",
    "    backward = sigma_v**2/(2*(dw)**2) - (2*kappa*theta-sigma_v**2)/(2*k*(dw)**2) + kappa*k/4\n",
    "\n",
    "    return forward,backward\n",
    "\n",
    "\n",
    "def transition(k):\n",
    "\n",
    "    forward = sigma_v**2/(2*(dw)**2) + (2*kappa*theta-(sigma_v**2)/2)/(2*k*(dw)**2) - kappa*k/4\n",
    "\n",
    "    backward = sigma_v**2/(2*(dw)**2) - (2*kappa*theta-(sigma_v**2)/2)/(2*k*(dw)**2) + kappa*k/4\n",
    "\n",
    "    return forward,backward\n",
    "\n",
    "\n",
    "def compute_Q():\n",
    "    \n",
    "    Q = np.zeros((m,m))\n",
    "\n",
    "    for i in range(1,m-1):\n",
    "        \n",
    "        forward,backward = transition(i+ml-1)\n",
    "\n",
    "        if forward>=0 and backward>=0:\n",
    "\n",
    "            Q[i,i+1] = forward\n",
    "            Q[i,i-1] = backward\n",
    "            Q[i,i] = -(forward+backward)\n",
    "\n",
    "        elif forward>0:\n",
    "\n",
    "            Q[i,i-1] = backward + kappa*(i+ml-1)/4\n",
    "            Q[i,i+1] = sigma_v**2/(2*(dw)**2) \n",
    "            Q[i,i] = -forward-backward\n",
    "\n",
    "        else:\n",
    "            \n",
    "            Q[i,i-1] = sigma_v**2/(2*(dw)**2) \n",
    "            Q[i,i+1] = forward - kappa*(i+ml-1)/4\n",
    "            Q[i,i] = -forward-backward\n",
    "    # i =0\n",
    "    Q[0,1] = (2*kappa*theta-(sigma_v**2)/2)/(ml*(dw)**2) - kappa*ml/2\n",
    "    Q[0,0] = - Q[0,1]\n",
    "    # i = m-1\n",
    "    Q[m-1,m-2] = -(2*kappa*theta-(sigma_v**2)/2)/(mu*(dw)**2) + kappa*mu/2\n",
    "    Q[m-1,m-1] = - Q[m-1,m-2]\n",
    "\n",
    "    return Q"
   ]
  },
  {
   "cell_type": "code",
   "execution_count": 12,
   "metadata": {},
   "outputs": [],
   "source": [
    "def transition_matrix(Q,h):\n",
    "    nbr=Q.shape[0]\n",
    "    tr_matrix=np.zeros((nbr,nbr))\n",
    "    for i in range(nbr):\n",
    "        for j in range(nbr):\n",
    "            if i==j:\n",
    "                tr_matrix[i,j]=np.exp(Q[i,j]*h)\n",
    "            else:\n",
    "                tr_matrix[i,j]=-(1-np.exp(Q[i,i]*h))*Q[i,j]/Q[i,i]\n",
    "    tr_matrix = np.nan_to_num(tr_matrix, nan=0)\n",
    "    return tr_matrix\n"
   ]
  },
  {
   "cell_type": "code",
   "execution_count": 13,
   "metadata": {},
   "outputs": [],
   "source": [
    "Q=np.array([[-0.5,0.5],[0.5,-0.5]])\n",
    "P=transition_matrix(Q,1/1000)"
   ]
  },
  {
   "cell_type": "code",
   "execution_count": 14,
   "metadata": {},
   "outputs": [],
   "source": [
    "Q1=compute_Q()\n",
    "P1=transition_matrix(Q1,0.25/2500)"
   ]
  },
  {
   "cell_type": "code",
   "execution_count": 15,
   "metadata": {},
   "outputs": [
    {
     "data": {
      "text/plain": [
       "array([[ 0.94308393,  0.05691607],\n",
       "       [-0.0295018 ,  1.0295018 ]])"
      ]
     },
     "execution_count": 15,
     "metadata": {},
     "output_type": "execute_result"
    }
   ],
   "source": [
    "P1"
   ]
  },
  {
   "cell_type": "code",
   "execution_count": 16,
   "metadata": {},
   "outputs": [],
   "source": [
    "L1=[0.15,0.25]\n",
    "L2=[0.05-0.5*0.15**2,0.05-0.5*0.25**2]\n",
    "L3=[1,2]\n",
    "L4=[0.05,0.05]"
   ]
  },
  {
   "cell_type": "code",
   "execution_count": 17,
   "metadata": {},
   "outputs": [],
   "source": [
    "list_vi = [(1/4)*((i+ml-1)*dw)**2 for i in range(1,m+1)]\n",
    "list_sigma = [np.sqrt(list_vi[i]*(1-rho**2)) for i in range(len(list_vi))]\n",
    "list_a = [list_vi[i]*((rho*kappa/sigma_v)-0.5) for i in range(len(list_vi))]\n",
    "\n",
    "list_saut = [0]*m\n",
    "for i in range (m):\n",
    "    k1,k2 = floor(2*list_sigma[i]/sigma_bar),ceil(2*list_sigma[i]/sigma_bar)\n",
    "    if k1==k2 or k1*sigma_bar<list_sigma[i]:\n",
    "        list_saut[i] = k2\n",
    "    else:\n",
    "        c = ((k1*sigma_bar)**2-list_sigma[i]**2)/list_a[i]**2\n",
    "        d = (k2*sigma_bar-sqrt((k2*sigma_bar)**2-4*list_sigma[i]**2))**2/(4*list_a[i])**2\n",
    "        if c<=d:\n",
    "            list_saut[i] = k2\n",
    "        else:\n",
    "            list_saut[i] = k1\n",
    "\n",
    "list_r = [0.05]*m"
   ]
  },
  {
   "cell_type": "code",
   "execution_count": 18,
   "metadata": {},
   "outputs": [
    {
     "data": {
      "text/plain": [
       "array([[0.00122875, 0.004915  ],\n",
       "       [0.00124625, 0.004985  ],\n",
       "       [0.997525  , 0.9901    ]])"
      ]
     },
     "execution_count": 18,
     "metadata": {},
     "output_type": "execute_result"
    }
   ],
   "source": [
    "proba_up_middle_down(list_sigma,list_a,list_saut,0.2,0.25,2500)"
   ]
  },
  {
   "cell_type": "code",
   "execution_count": 19,
   "metadata": {},
   "outputs": [],
   "source": [
    "r=0.05\n",
    "A=prix_call_europeen(100,90,2500,3,0.2,0.25,list_vi,list_sigma,list_a,list_saut,list_r,P1)"
   ]
  },
  {
   "cell_type": "code",
   "execution_count": 20,
   "metadata": {},
   "outputs": [
    {
     "data": {
      "text/plain": [
       "{0: 0.01777893549353699, 1: 0.01807342238927407}"
      ]
     },
     "execution_count": 20,
     "metadata": {},
     "output_type": "execute_result"
    }
   ],
   "source": [
    "A[:,0][2500*3]"
   ]
  },
  {
   "cell_type": "code",
   "execution_count": 60,
   "metadata": {},
   "outputs": [],
   "source": [
    "def prix_put_europeen(K,S_o,n,b,sigma_bar,T,List_vi,List_sigma,List_a,Liste_saut,List_r,P):\n",
    "    proba_umd=proba_up_middle_down(List_sigma,List_a,Liste_saut,sigma_bar,T,n)\n",
    "    l=2*b*n+1\n",
    "    h=T/n\n",
    "    table_prix=np.zeros((l,n+1),dtype=object)\n",
    "    for i in range(l):\n",
    "        table_prix[i,n]={reg:max(K-S_o*np.exp((arbre[i,n])*sigma_bar*np.sqrt(h)+(rho/sigma_v)*(List_vi[reg]-v0)+(r-rho*kappa*theta/sigma_v)*n*h),0) for reg in range(len(List_sigma))}\n",
    "    for j in range(1,n+1):\n",
    "        for i in range(l):\n",
    "            if i>=b*j and i<=b*(2*n-j):\n",
    "                table_prix[i,n-j]={reg:0 for reg in range(len(List_sigma))}\n",
    "                for etat in range(len(List_sigma)):\n",
    "                    r=List_r[etat]\n",
    "                    saut=Liste_saut[etat]\n",
    "                    for k in range(len(List_sigma)):\n",
    "                        table_prix[i,n-j][etat] += P[etat,k]*(table_prix[i-saut,n-j+1][k]*proba_umd[0,etat]+table_prix[i+saut,n-j+1][k]*proba_umd[1,etat]+table_prix[i,n-j+1][k]*proba_umd[2,etat])\n",
    "                    table_prix[i,n-j][etat]=np.exp(-r*h)*table_prix[i,n-j][etat]\n",
    "        \n",
    "    return table_prix"
   ]
  },
  {
   "cell_type": "code",
   "execution_count": 346,
   "metadata": {},
   "outputs": [],
   "source": [
    "def prix_call_americain(K,S_o,n,b,sigma_bar,T,List_sigma,List_a,Liste_saut,List_r,P):\n",
    "    proba_umd=proba_up_middle_down(List_sigma,List_a,Liste_saut,sigma_bar,T,n)\n",
    "    l=2*b*n+1\n",
    "    h=T/n\n",
    "    table_prix=np.zeros((l,n+1),dtype=object)\n",
    "    for i in range(l):\n",
    "        table_prix[i,n]={reg:max(-K+S_o*np.exp(arbre[i,n]*sigma_bar*np.sqrt(h)),0) for reg in range(len(List_sigma))}\n",
    "    for j in range(1,n+1):\n",
    "        for i in range(l):\n",
    "            if i>=b*j and i<=b*(2*n-j):\n",
    "                table_prix[i,n-j]={reg:0 for reg in range(len(List_sigma))}\n",
    "                for etat in range(len(List_sigma)):\n",
    "                    r=List_r[etat]\n",
    "                    saut=Liste_saut[etat]\n",
    "                    for k in range(len(List_sigma)):\n",
    "                        table_prix[i,n-j][etat] += P[etat,k]*(table_prix[i-saut,n-j+1][k]*proba_umd[0,etat]+table_prix[i+saut,n-j+1][k]*proba_umd[1,etat]+table_prix[i,n-j+1][k]*proba_umd[2,etat])\n",
    "                    table_prix[i,n-j][etat]=np.exp(-r*h)*table_prix[i,n-j][etat]\n",
    "                    table_prix[i,n-j][etat]=max(table_prix[i,n-j][etat],-K+S_o*np.exp(arbre[i,n-j]*sigma_bar*np.sqrt(h)))\n",
    "        \n",
    "    return table_prix"
   ]
  },
  {
   "cell_type": "code",
   "execution_count": 347,
   "metadata": {},
   "outputs": [],
   "source": [
    "def prix_put_americain(K,S_o,n,b,sigma_bar,T,List_sigma,List_a,Liste_saut,List_r,P):\n",
    "    proba_umd=proba_up_middle_down(List_sigma,List_a,Liste_saut,sigma_bar,T,n)\n",
    "    l=2*b*n+1\n",
    "    h=T/n\n",
    "    table_prix=np.zeros((l,n+1),dtype=object)\n",
    "    for i in range(l):\n",
    "        table_prix[i,n]={reg:max(K-S_o*np.exp(arbre[i,n]*sigma_bar*np.sqrt(h)),0) for reg in range(len(List_sigma))}\n",
    "    for j in range(1,n+1):\n",
    "        for i in range(l):\n",
    "            if i>=b*j and i<=b*(2*n-j):\n",
    "                table_prix[i,n-j]={reg:0 for reg in range(len(List_sigma))}\n",
    "                for etat in range(len(List_sigma)):\n",
    "                    r=List_r[etat]\n",
    "                    saut=Liste_saut[etat]\n",
    "                    for k in range(len(List_sigma)):\n",
    "                        table_prix[i,n-j][etat] += P[etat,k]*(table_prix[i-saut,n-j+1][k]*proba_umd[0,etat]+table_prix[i+saut,n-j+1][k]*proba_umd[1,etat]+table_prix[i,n-j+1][k]*proba_umd[2,etat])\n",
    "                    table_prix[i,n-j][etat]=np.exp(-r*h)*table_prix[i,n-j][etat]\n",
    "                    table_prix[i,n-j][etat]=max(table_prix[i,n-j][etat],K-S_o*np.exp(arbre[i,n-j]*sigma_bar*np.sqrt(h)))\n",
    "        \n",
    "    return table_prix"
   ]
  }
 ],
 "metadata": {
  "kernelspec": {
   "display_name": "Python 3",
   "language": "python",
   "name": "python3"
  },
  "language_info": {
   "codemirror_mode": {
    "name": "ipython",
    "version": 3
   },
   "file_extension": ".py",
   "mimetype": "text/x-python",
   "name": "python",
   "nbconvert_exporter": "python",
   "pygments_lexer": "ipython3",
   "version": "3.11.8"
  }
 },
 "nbformat": 4,
 "nbformat_minor": 2
}
