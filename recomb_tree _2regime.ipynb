{
 "cells": [
  {
   "cell_type": "code",
   "execution_count": 1,
   "metadata": {},
   "outputs": [],
   "source": [
    "from math import sqrt,ceil, floor\n"
   ]
  },
  {
   "cell_type": "code",
   "execution_count": 2,
   "metadata": {},
   "outputs": [],
   "source": [
    "import numpy as np\n",
    "def arbre_recomb(n,b): #arbre avec recombinaison sous forme de tableau\n",
    "    l=2*b*n+1\n",
    "    S=np.zeros((l,n+1))\n",
    "    for i in range(1,n+1):\n",
    "        for j in range(l):\n",
    "            if j<b*n :\n",
    "                for k in range(b*(n-i),b*n):\n",
    "                    S[k,i]=b*n-k\n",
    "            if j>b*n:\n",
    "                S[j,i]=-S[2*b*n-j,i]\n",
    "    return S"
   ]
  },
  {
   "cell_type": "code",
   "execution_count": 3,
   "metadata": {},
   "outputs": [],
   "source": [
    "def arbre_recomb2(n,b):\n",
    "    l=2*b*n+1\n",
    "    S=np.zeros((l,n+1))\n",
    "    for i in range(l):\n",
    "        S[i,n]= b*n-i\n",
    "    for j in range(1,n+1):\n",
    "        for i in  range(l):\n",
    "            if i>=b*j and i<=b*(2*n-j):\n",
    "                S[i,n-j]=b*n-i\n",
    "    return S\n"
   ]
  },
  {
   "cell_type": "code",
   "execution_count": 4,
   "metadata": {},
   "outputs": [
    {
     "data": {
      "text/plain": [
       "array([[    0.,     0.,     0., ...,     0.,     0.,  5000.],\n",
       "       [    0.,     0.,     0., ...,     0.,     0.,  4999.],\n",
       "       [    0.,     0.,     0., ...,     0.,     0.,  4998.],\n",
       "       ...,\n",
       "       [    0.,     0.,     0., ...,     0.,     0., -4998.],\n",
       "       [    0.,     0.,     0., ...,     0.,     0., -4999.],\n",
       "       [    0.,     0.,     0., ...,     0.,     0., -5000.]])"
      ]
     },
     "execution_count": 4,
     "metadata": {},
     "output_type": "execute_result"
    }
   ],
   "source": [
    "arbre_recomb2(1000,5)"
   ]
  },
  {
   "cell_type": "code",
   "execution_count": 5,
   "metadata": {},
   "outputs": [],
   "source": [
    "def proba_up_middle_down(List_sigma,List_a,Liste_saut,sigma_bar,T,n):\n",
    "    proba=np.zeros((3,len(List_sigma)))\n",
    "    h=T/n\n",
    "    for i in range(len(List_sigma)):\n",
    "        proba[0,i]=(List_sigma[i]**2+List_a[i]*Liste_saut[i]*sigma_bar*np.sqrt(h)+h*List_a[i]**2)/(2*(Liste_saut[i]*sigma_bar)**2)\n",
    "        proba[1,i]=(List_sigma[i]**2-List_a[i]*Liste_saut[i]*sigma_bar*np.sqrt(h)+h*List_a[i]**2)/(2*(Liste_saut[i]*sigma_bar)**2)\n",
    "        proba[2,i]=1-(proba[0,i]+proba[1,i])\n",
    "    return proba"
   ]
  },
  {
   "cell_type": "code",
   "execution_count": 6,
   "metadata": {},
   "outputs": [],
   "source": [
    "arbre=arbre_recomb2(1000,5)"
   ]
  },
  {
   "cell_type": "code",
   "execution_count": 7,
   "metadata": {},
   "outputs": [],
   "source": [
    "kappa = 3.0\n",
    "theta = 0.04\n",
    "sigma_v = 0.1\n",
    "r = 0.05\n",
    "rho = -0.1 # covariance between price and volatility brownian motions\n",
    "v0 = 0.04\n",
    "sigma_bar = 0.1"
   ]
  },
  {
   "cell_type": "code",
   "execution_count": 8,
   "metadata": {},
   "outputs": [],
   "source": [
    "def prix_call_europeen(K,S_o,n,b,sigma_bar,T,List_sigma,List_a,Liste_saut,List_r,P):\n",
    "    proba_umd=proba_up_middle_down(List_sigma,List_a,Liste_saut,sigma_bar,T,n)\n",
    "    l=2*b*n+1\n",
    "    h=T/n\n",
    "    table_prix=np.zeros((l,n+1),dtype=object)\n",
    "    for i in range(l):\n",
    "        table_prix[i,n]={reg:max(-K+S_o*np.exp(arbre[i,n]*sigma_bar*np.sqrt(h)),0) for reg in range(len(List_sigma))}\n",
    "    for j in range(1,n+1):\n",
    "        for i in range(l):\n",
    "            if i>=b*j and i<=b*(2*n-j):\n",
    "                table_prix[i,n-j]={reg:0 for reg in range(len(List_sigma))}\n",
    "                for etat in range(len(List_sigma)):\n",
    "                    r=List_r[etat]\n",
    "                    saut=Liste_saut[etat]\n",
    "                    for k in range(len(List_sigma)):\n",
    "                        table_prix[i,n-j][etat] += P[etat,k]*(table_prix[i-saut,n-j+1][k]*proba_umd[0,etat]+table_prix[i+saut,n-j+1][k]*proba_umd[1,etat]+table_prix[i,n-j+1][k]*proba_umd[2,etat])\n",
    "                    table_prix[i,n-j][etat]=np.exp(-r*h)*table_prix[i,n-j][etat]\n",
    "        \n",
    "    return table_prix"
   ]
  },
  {
   "cell_type": "code",
   "execution_count": 9,
   "metadata": {},
   "outputs": [],
   "source": [
    "dw = 0.02"
   ]
  },
  {
   "cell_type": "code",
   "execution_count": 10,
   "metadata": {},
   "outputs": [],
   "source": [
    "ml, mu=  15, 40\n",
    "m = mu-ml+1\n",
    "regimes = range(m)"
   ]
  },
  {
   "cell_type": "code",
   "execution_count": 11,
   "metadata": {},
   "outputs": [],
   "source": [
    "# Compute the Markov chain\n",
    "\n",
    "# upper and lower bounds for the discretization of the volatility\n",
    "\n",
    "\n",
    "def transition(k):\n",
    "\n",
    "    forward = sigma_v**2/(2*(dw)**2) + (2*kappa*theta-sigma_v**2)/(2*k*(dw)**2) - kappa*k/4\n",
    "\n",
    "    backward = sigma_v**2/(2*(dw)**2) - (2*kappa*theta-sigma_v**2)/(2*k*(dw)**2) + kappa*k/4\n",
    "\n",
    "    return forward,backward\n",
    "\n",
    "\n",
    "def transition(k):\n",
    "\n",
    "    forward = sigma_v**2/(2*(dw)**2) + (2*kappa*theta-(sigma_v**2)/2)/(2*k*(dw)**2) - kappa*k/4\n",
    "\n",
    "    backward = sigma_v**2/(2*(dw)**2) - (2*kappa*theta-(sigma_v**2)/2)/(2*k*(dw)**2) + kappa*k/4\n",
    "\n",
    "    return forward,backward\n",
    "\n",
    "\n",
    "def compute_Q():\n",
    "    \n",
    "    Q = np.zeros((m,m))\n",
    "\n",
    "    for i in range(1,m-1):\n",
    "        \n",
    "        forward,backward = transition(i+ml-1)\n",
    "\n",
    "        if forward>=0 and backward>=0:\n",
    "\n",
    "            Q[i,i+1] = forward\n",
    "            Q[i,i-1] = backward\n",
    "            Q[i,i] = -(forward+backward)\n",
    "\n",
    "        elif forward>0:\n",
    "\n",
    "            Q[i,i-1] = backward + kappa*(i+ml-1)/4\n",
    "            Q[i,i+1] = sigma_v**2/(2*(dw)**2) \n",
    "            Q[i,i] = -forward-backward\n",
    "\n",
    "        else:\n",
    "            \n",
    "            Q[i,i-1] = sigma_v**2/(2*(dw)**2) \n",
    "            Q[i,i+1] = forward - kappa*(i+ml-1)/4\n",
    "            Q[i,i] = -forward-backward\n",
    "    # i =0\n",
    "    Q[0,1] = (2*kappa*theta-(sigma_v**2)/2)/(ml*(dw)**2) - kappa*ml/2\n",
    "    Q[0,0] = - Q[0,1]\n",
    "    # i = m-1\n",
    "    Q[m-1,m-2] = -(2*kappa*theta-(sigma_v**2)/2)/(mu*(dw)**2) + kappa*mu/2\n",
    "    Q[m-1,m-1] = - Q[m-1,m-2]\n",
    "\n",
    "    return Q"
   ]
  },
  {
   "cell_type": "code",
   "execution_count": 12,
   "metadata": {},
   "outputs": [],
   "source": [
    "def transition_matrix(Q,h):\n",
    "    nbr=Q.shape[0]\n",
    "    tr_matrix=np.zeros((nbr,nbr))\n",
    "    for i in range(nbr):\n",
    "        for j in range(nbr):\n",
    "            if i==j:\n",
    "                tr_matrix[i,j]=np.exp(Q[i,j]*h)\n",
    "            else:\n",
    "                tr_matrix[i,j]=-(1-np.exp(Q[i,i]*h))*Q[i,j]/Q[i,i]\n",
    "    tr_matrix = np.nan_to_num(tr_matrix, nan=0)\n",
    "    return tr_matrix\n"
   ]
  },
  {
   "cell_type": "code",
   "execution_count": 13,
   "metadata": {},
   "outputs": [],
   "source": [
    "Q=np.array([[-0.5,0.5],[0.5,-0.5]])\n",
    "P=transition_matrix(Q,1/1000)"
   ]
  },
  {
   "cell_type": "code",
   "execution_count": 14,
   "metadata": {},
   "outputs": [],
   "source": [
    "Q1=compute_Q()\n",
    "P1=transition_matrix(Q1,0.25/2500)"
   ]
  },
  {
   "cell_type": "code",
   "execution_count": 15,
   "metadata": {},
   "outputs": [
    {
     "data": {
      "text/plain": [
       "array([[ 9.98334721e-01,  1.66527855e-03,  0.00000000e+00,\n",
       "         0.00000000e+00,  0.00000000e+00,  0.00000000e+00,\n",
       "         0.00000000e+00,  0.00000000e+00,  0.00000000e+00,\n",
       "         0.00000000e+00,  0.00000000e+00,  0.00000000e+00,\n",
       "         0.00000000e+00,  0.00000000e+00,  0.00000000e+00,\n",
       "         0.00000000e+00,  0.00000000e+00,  0.00000000e+00,\n",
       "         0.00000000e+00,  0.00000000e+00,  0.00000000e+00,\n",
       "         0.00000000e+00,  0.00000000e+00,  0.00000000e+00,\n",
       "         0.00000000e+00,  0.00000000e+00],\n",
       "       [ 4.16146267e-04,  9.97503122e-01,  2.08073134e-03,\n",
       "         0.00000000e+00,  0.00000000e+00,  0.00000000e+00,\n",
       "         0.00000000e+00,  0.00000000e+00,  0.00000000e+00,\n",
       "         0.00000000e+00,  0.00000000e+00,  0.00000000e+00,\n",
       "         0.00000000e+00,  0.00000000e+00,  0.00000000e+00,\n",
       "         0.00000000e+00,  0.00000000e+00,  0.00000000e+00,\n",
       "         0.00000000e+00,  0.00000000e+00,  0.00000000e+00,\n",
       "         0.00000000e+00,  0.00000000e+00,  0.00000000e+00,\n",
       "         0.00000000e+00,  0.00000000e+00],\n",
       "       [ 0.00000000e+00,  6.13295561e-04,  9.97503122e-01,\n",
       "         1.88358204e-03,  0.00000000e+00,  0.00000000e+00,\n",
       "         0.00000000e+00,  0.00000000e+00,  0.00000000e+00,\n",
       "         0.00000000e+00,  0.00000000e+00,  0.00000000e+00,\n",
       "         0.00000000e+00,  0.00000000e+00,  0.00000000e+00,\n",
       "         0.00000000e+00,  0.00000000e+00,  0.00000000e+00,\n",
       "         0.00000000e+00,  0.00000000e+00,  0.00000000e+00,\n",
       "         0.00000000e+00,  0.00000000e+00,  0.00000000e+00,\n",
       "         0.00000000e+00,  0.00000000e+00],\n",
       "       [ 0.00000000e+00,  0.00000000e+00,  7.96063330e-04,\n",
       "         9.97503122e-01,  1.70081427e-03,  0.00000000e+00,\n",
       "         0.00000000e+00,  0.00000000e+00,  0.00000000e+00,\n",
       "         0.00000000e+00,  0.00000000e+00,  0.00000000e+00,\n",
       "         0.00000000e+00,  0.00000000e+00,  0.00000000e+00,\n",
       "         0.00000000e+00,  0.00000000e+00,  0.00000000e+00,\n",
       "         0.00000000e+00,  0.00000000e+00,  0.00000000e+00,\n",
       "         0.00000000e+00,  0.00000000e+00,  0.00000000e+00,\n",
       "         0.00000000e+00,  0.00000000e+00],\n",
       "       [ 0.00000000e+00,  0.00000000e+00,  0.00000000e+00,\n",
       "         9.66846494e-04,  9.97503122e-01,  1.53003111e-03,\n",
       "         0.00000000e+00,  0.00000000e+00,  0.00000000e+00,\n",
       "         0.00000000e+00,  0.00000000e+00,  0.00000000e+00,\n",
       "         0.00000000e+00,  0.00000000e+00,  0.00000000e+00,\n",
       "         0.00000000e+00,  0.00000000e+00,  0.00000000e+00,\n",
       "         0.00000000e+00,  0.00000000e+00,  0.00000000e+00,\n",
       "         0.00000000e+00,  0.00000000e+00,  0.00000000e+00,\n",
       "         0.00000000e+00,  0.00000000e+00],\n",
       "       [ 0.00000000e+00,  0.00000000e+00,  0.00000000e+00,\n",
       "         0.00000000e+00,  1.12753736e-03,  9.97503122e-01,\n",
       "         1.36934024e-03,  0.00000000e+00,  0.00000000e+00,\n",
       "         0.00000000e+00,  0.00000000e+00,  0.00000000e+00,\n",
       "         0.00000000e+00,  0.00000000e+00,  0.00000000e+00,\n",
       "         0.00000000e+00,  0.00000000e+00,  0.00000000e+00,\n",
       "         0.00000000e+00,  0.00000000e+00,  0.00000000e+00,\n",
       "         0.00000000e+00,  0.00000000e+00,  0.00000000e+00,\n",
       "         0.00000000e+00,  0.00000000e+00],\n",
       "       [ 0.00000000e+00,  0.00000000e+00,  0.00000000e+00,\n",
       "         0.00000000e+00,  0.00000000e+00,  1.27964977e-03,\n",
       "         9.97503122e-01,  1.21722783e-03,  0.00000000e+00,\n",
       "         0.00000000e+00,  0.00000000e+00,  0.00000000e+00,\n",
       "         0.00000000e+00,  0.00000000e+00,  0.00000000e+00,\n",
       "         0.00000000e+00,  0.00000000e+00,  0.00000000e+00,\n",
       "         0.00000000e+00,  0.00000000e+00,  0.00000000e+00,\n",
       "         0.00000000e+00,  0.00000000e+00,  0.00000000e+00,\n",
       "         0.00000000e+00,  0.00000000e+00],\n",
       "       [ 0.00000000e+00,  0.00000000e+00,  0.00000000e+00,\n",
       "         0.00000000e+00,  0.00000000e+00,  0.00000000e+00,\n",
       "         1.42440922e-03,  9.97503122e-01,  1.07246838e-03,\n",
       "         0.00000000e+00,  0.00000000e+00,  0.00000000e+00,\n",
       "         0.00000000e+00,  0.00000000e+00,  0.00000000e+00,\n",
       "         0.00000000e+00,  0.00000000e+00,  0.00000000e+00,\n",
       "         0.00000000e+00,  0.00000000e+00,  0.00000000e+00,\n",
       "         0.00000000e+00,  0.00000000e+00,  0.00000000e+00,\n",
       "         0.00000000e+00,  0.00000000e+00],\n",
       "       [ 0.00000000e+00,  0.00000000e+00,  0.00000000e+00,\n",
       "         0.00000000e+00,  0.00000000e+00,  0.00000000e+00,\n",
       "         0.00000000e+00,  1.56281839e-03,  9.97503122e-01,\n",
       "         9.34059212e-04,  0.00000000e+00,  0.00000000e+00,\n",
       "         0.00000000e+00,  0.00000000e+00,  0.00000000e+00,\n",
       "         0.00000000e+00,  0.00000000e+00,  0.00000000e+00,\n",
       "         0.00000000e+00,  0.00000000e+00,  0.00000000e+00,\n",
       "         0.00000000e+00,  0.00000000e+00,  0.00000000e+00,\n",
       "         0.00000000e+00,  0.00000000e+00],\n",
       "       [ 0.00000000e+00,  0.00000000e+00,  0.00000000e+00,\n",
       "         0.00000000e+00,  0.00000000e+00,  0.00000000e+00,\n",
       "         0.00000000e+00,  0.00000000e+00,  1.69570557e-03,\n",
       "         9.97503122e-01,  8.01172031e-04,  0.00000000e+00,\n",
       "         0.00000000e+00,  0.00000000e+00,  0.00000000e+00,\n",
       "         0.00000000e+00,  0.00000000e+00,  0.00000000e+00,\n",
       "         0.00000000e+00,  0.00000000e+00,  0.00000000e+00,\n",
       "         0.00000000e+00,  0.00000000e+00,  0.00000000e+00,\n",
       "         0.00000000e+00,  0.00000000e+00],\n",
       "       [ 0.00000000e+00,  0.00000000e+00,  0.00000000e+00,\n",
       "         0.00000000e+00,  0.00000000e+00,  0.00000000e+00,\n",
       "         0.00000000e+00,  0.00000000e+00,  0.00000000e+00,\n",
       "         1.82376102e-03,  9.97503122e-01,  6.73116587e-04,\n",
       "         0.00000000e+00,  0.00000000e+00,  0.00000000e+00,\n",
       "         0.00000000e+00,  0.00000000e+00,  0.00000000e+00,\n",
       "         0.00000000e+00,  0.00000000e+00,  0.00000000e+00,\n",
       "         0.00000000e+00,  0.00000000e+00,  0.00000000e+00,\n",
       "         0.00000000e+00,  0.00000000e+00],\n",
       "       [ 0.00000000e+00,  0.00000000e+00,  0.00000000e+00,\n",
       "         0.00000000e+00,  0.00000000e+00,  0.00000000e+00,\n",
       "         0.00000000e+00,  0.00000000e+00,  0.00000000e+00,\n",
       "         0.00000000e+00,  1.94756453e-03,  9.97503122e-01,\n",
       "         5.49313073e-04,  0.00000000e+00,  0.00000000e+00,\n",
       "         0.00000000e+00,  0.00000000e+00,  0.00000000e+00,\n",
       "         0.00000000e+00,  0.00000000e+00,  0.00000000e+00,\n",
       "         0.00000000e+00,  0.00000000e+00,  0.00000000e+00,\n",
       "         0.00000000e+00,  0.00000000e+00],\n",
       "       [ 0.00000000e+00,  0.00000000e+00,  0.00000000e+00,\n",
       "         0.00000000e+00,  0.00000000e+00,  0.00000000e+00,\n",
       "         0.00000000e+00,  0.00000000e+00,  0.00000000e+00,\n",
       "         0.00000000e+00,  0.00000000e+00,  2.06760672e-03,\n",
       "         9.97503122e-01,  4.29270880e-04,  0.00000000e+00,\n",
       "         0.00000000e+00,  0.00000000e+00,  0.00000000e+00,\n",
       "         0.00000000e+00,  0.00000000e+00,  0.00000000e+00,\n",
       "         0.00000000e+00,  0.00000000e+00,  0.00000000e+00,\n",
       "         0.00000000e+00,  0.00000000e+00],\n",
       "       [ 0.00000000e+00,  0.00000000e+00,  0.00000000e+00,\n",
       "         0.00000000e+00,  0.00000000e+00,  0.00000000e+00,\n",
       "         0.00000000e+00,  0.00000000e+00,  0.00000000e+00,\n",
       "         0.00000000e+00,  0.00000000e+00,  0.00000000e+00,\n",
       "         2.18430552e-03,  9.97503122e-01,  3.12572085e-04,\n",
       "         0.00000000e+00,  0.00000000e+00,  0.00000000e+00,\n",
       "         0.00000000e+00,  0.00000000e+00,  0.00000000e+00,\n",
       "         0.00000000e+00,  0.00000000e+00,  0.00000000e+00,\n",
       "         0.00000000e+00,  0.00000000e+00],\n",
       "       [ 0.00000000e+00,  0.00000000e+00,  0.00000000e+00,\n",
       "         0.00000000e+00,  0.00000000e+00,  0.00000000e+00,\n",
       "         0.00000000e+00,  0.00000000e+00,  0.00000000e+00,\n",
       "         0.00000000e+00,  0.00000000e+00,  0.00000000e+00,\n",
       "         0.00000000e+00,  2.29801914e-03,  9.97503122e-01,\n",
       "         1.98858466e-04,  0.00000000e+00,  0.00000000e+00,\n",
       "         0.00000000e+00,  0.00000000e+00,  0.00000000e+00,\n",
       "         0.00000000e+00,  0.00000000e+00,  0.00000000e+00,\n",
       "         0.00000000e+00,  0.00000000e+00],\n",
       "       [ 0.00000000e+00,  0.00000000e+00,  0.00000000e+00,\n",
       "         0.00000000e+00,  0.00000000e+00,  0.00000000e+00,\n",
       "         0.00000000e+00,  0.00000000e+00,  0.00000000e+00,\n",
       "         0.00000000e+00,  0.00000000e+00,  0.00000000e+00,\n",
       "         0.00000000e+00,  0.00000000e+00,  2.40905639e-03,\n",
       "         9.97503122e-01,  8.78212122e-05,  0.00000000e+00,\n",
       "         0.00000000e+00,  0.00000000e+00,  0.00000000e+00,\n",
       "         0.00000000e+00,  0.00000000e+00,  0.00000000e+00,\n",
       "         0.00000000e+00,  0.00000000e+00],\n",
       "       [ 0.00000000e+00,  0.00000000e+00,  0.00000000e+00,\n",
       "         0.00000000e+00,  0.00000000e+00,  0.00000000e+00,\n",
       "         0.00000000e+00,  0.00000000e+00,  0.00000000e+00,\n",
       "         0.00000000e+00,  0.00000000e+00,  0.00000000e+00,\n",
       "         0.00000000e+00,  0.00000000e+00,  0.00000000e+00,\n",
       "         1.24843880e-03,  9.97503122e-01, -2.26799716e-03,\n",
       "         0.00000000e+00,  0.00000000e+00,  0.00000000e+00,\n",
       "         0.00000000e+00,  0.00000000e+00,  0.00000000e+00,\n",
       "         0.00000000e+00,  0.00000000e+00],\n",
       "       [ 0.00000000e+00,  0.00000000e+00,  0.00000000e+00,\n",
       "         0.00000000e+00,  0.00000000e+00,  0.00000000e+00,\n",
       "         0.00000000e+00,  0.00000000e+00,  0.00000000e+00,\n",
       "         0.00000000e+00,  0.00000000e+00,  0.00000000e+00,\n",
       "         0.00000000e+00,  0.00000000e+00,  0.00000000e+00,\n",
       "         0.00000000e+00,  1.24843880e-03,  9.97503122e-01,\n",
       "        -2.44935638e-03,  0.00000000e+00,  0.00000000e+00,\n",
       "         0.00000000e+00,  0.00000000e+00,  0.00000000e+00,\n",
       "         0.00000000e+00,  0.00000000e+00],\n",
       "       [ 0.00000000e+00,  0.00000000e+00,  0.00000000e+00,\n",
       "         0.00000000e+00,  0.00000000e+00,  0.00000000e+00,\n",
       "         0.00000000e+00,  0.00000000e+00,  0.00000000e+00,\n",
       "         0.00000000e+00,  0.00000000e+00,  0.00000000e+00,\n",
       "         0.00000000e+00,  0.00000000e+00,  0.00000000e+00,\n",
       "         0.00000000e+00,  0.00000000e+00,  1.24843880e-03,\n",
       "         9.97503122e-01, -2.62874395e-03,  0.00000000e+00,\n",
       "         0.00000000e+00,  0.00000000e+00,  0.00000000e+00,\n",
       "         0.00000000e+00,  0.00000000e+00],\n",
       "       [ 0.00000000e+00,  0.00000000e+00,  0.00000000e+00,\n",
       "         0.00000000e+00,  0.00000000e+00,  0.00000000e+00,\n",
       "         0.00000000e+00,  0.00000000e+00,  0.00000000e+00,\n",
       "         0.00000000e+00,  0.00000000e+00,  0.00000000e+00,\n",
       "         0.00000000e+00,  0.00000000e+00,  0.00000000e+00,\n",
       "         0.00000000e+00,  0.00000000e+00,  0.00000000e+00,\n",
       "         1.24843880e-03,  9.97503122e-01, -2.80633910e-03,\n",
       "         0.00000000e+00,  0.00000000e+00,  0.00000000e+00,\n",
       "         0.00000000e+00,  0.00000000e+00],\n",
       "       [ 0.00000000e+00,  0.00000000e+00,  0.00000000e+00,\n",
       "         0.00000000e+00,  0.00000000e+00,  0.00000000e+00,\n",
       "         0.00000000e+00,  0.00000000e+00,  0.00000000e+00,\n",
       "         0.00000000e+00,  0.00000000e+00,  0.00000000e+00,\n",
       "         0.00000000e+00,  0.00000000e+00,  0.00000000e+00,\n",
       "         0.00000000e+00,  0.00000000e+00,  0.00000000e+00,\n",
       "         0.00000000e+00,  1.24843880e-03,  9.97503122e-01,\n",
       "        -2.98229998e-03,  0.00000000e+00,  0.00000000e+00,\n",
       "         0.00000000e+00,  0.00000000e+00],\n",
       "       [ 0.00000000e+00,  0.00000000e+00,  0.00000000e+00,\n",
       "         0.00000000e+00,  0.00000000e+00,  0.00000000e+00,\n",
       "         0.00000000e+00,  0.00000000e+00,  0.00000000e+00,\n",
       "         0.00000000e+00,  0.00000000e+00,  0.00000000e+00,\n",
       "         0.00000000e+00,  0.00000000e+00,  0.00000000e+00,\n",
       "         0.00000000e+00,  0.00000000e+00,  0.00000000e+00,\n",
       "         0.00000000e+00,  0.00000000e+00,  1.24843880e-03,\n",
       "         9.97503122e-01, -3.15676668e-03,  0.00000000e+00,\n",
       "         0.00000000e+00,  0.00000000e+00],\n",
       "       [ 0.00000000e+00,  0.00000000e+00,  0.00000000e+00,\n",
       "         0.00000000e+00,  0.00000000e+00,  0.00000000e+00,\n",
       "         0.00000000e+00,  0.00000000e+00,  0.00000000e+00,\n",
       "         0.00000000e+00,  0.00000000e+00,  0.00000000e+00,\n",
       "         0.00000000e+00,  0.00000000e+00,  0.00000000e+00,\n",
       "         0.00000000e+00,  0.00000000e+00,  0.00000000e+00,\n",
       "         0.00000000e+00,  0.00000000e+00,  0.00000000e+00,\n",
       "         1.24843880e-03,  9.97503122e-01, -3.32986371e-03,\n",
       "         0.00000000e+00,  0.00000000e+00],\n",
       "       [ 0.00000000e+00,  0.00000000e+00,  0.00000000e+00,\n",
       "         0.00000000e+00,  0.00000000e+00,  0.00000000e+00,\n",
       "         0.00000000e+00,  0.00000000e+00,  0.00000000e+00,\n",
       "         0.00000000e+00,  0.00000000e+00,  0.00000000e+00,\n",
       "         0.00000000e+00,  0.00000000e+00,  0.00000000e+00,\n",
       "         0.00000000e+00,  0.00000000e+00,  0.00000000e+00,\n",
       "         0.00000000e+00,  0.00000000e+00,  0.00000000e+00,\n",
       "         0.00000000e+00,  1.24843880e-03,  9.97503122e-01,\n",
       "        -3.50170213e-03,  0.00000000e+00],\n",
       "       [ 0.00000000e+00,  0.00000000e+00,  0.00000000e+00,\n",
       "         0.00000000e+00,  0.00000000e+00,  0.00000000e+00,\n",
       "         0.00000000e+00,  0.00000000e+00,  0.00000000e+00,\n",
       "         0.00000000e+00,  0.00000000e+00,  0.00000000e+00,\n",
       "         0.00000000e+00,  0.00000000e+00,  0.00000000e+00,\n",
       "         0.00000000e+00,  0.00000000e+00,  0.00000000e+00,\n",
       "         0.00000000e+00,  0.00000000e+00,  0.00000000e+00,\n",
       "         0.00000000e+00,  0.00000000e+00,  1.24843880e-03,\n",
       "         9.97503122e-01, -3.67238129e-03],\n",
       "       [ 0.00000000e+00,  0.00000000e+00,  0.00000000e+00,\n",
       "         0.00000000e+00,  0.00000000e+00,  0.00000000e+00,\n",
       "         0.00000000e+00,  0.00000000e+00,  0.00000000e+00,\n",
       "         0.00000000e+00,  0.00000000e+00,  0.00000000e+00,\n",
       "         0.00000000e+00,  0.00000000e+00,  0.00000000e+00,\n",
       "         0.00000000e+00,  0.00000000e+00,  0.00000000e+00,\n",
       "         0.00000000e+00,  0.00000000e+00,  0.00000000e+00,\n",
       "         0.00000000e+00,  0.00000000e+00,  0.00000000e+00,\n",
       "         4.52099938e-03,  9.95479001e-01]])"
      ]
     },
     "execution_count": 15,
     "metadata": {},
     "output_type": "execute_result"
    }
   ],
   "source": [
    "P1"
   ]
  },
  {
   "cell_type": "code",
   "execution_count": 24,
   "metadata": {},
   "outputs": [],
   "source": [
    "L1=[0.15,0.25]\n",
    "L2=[0.05-0.5*0.15**2 ,0.05-0.5*0.25**2 ]\n",
    "L3=[1,2]\n",
    "L4=[0.05,0.05]"
   ]
  },
  {
   "cell_type": "code",
   "execution_count": 17,
   "metadata": {},
   "outputs": [],
   "source": [
    "def liste_saut(nbr_reg,liste_sigma,liste_a):\n",
    "    liste_saut = [0]*nbr_reg\n",
    "    for i in range (nbr_reg):\n",
    "        k1,k2 = floor(2*liste_sigma[i]/sigma_bar),ceil(2*liste_sigma[i]/sigma_bar)\n",
    "        if k1==k2 or k1*sigma_bar<liste_sigma[i]:\n",
    "            liste_saut[i] = k2\n",
    "        else:\n",
    "            c = ((k1*sigma_bar)**2-liste_sigma[i]**2)/liste_a[i]**2\n",
    "            d = (k2*sigma_bar-sqrt((k2*sigma_bar)**2-4*liste_sigma[i]**2))**2/(4*liste_a[i])**2\n",
    "            if c<=d:\n",
    "                liste_saut[i] = k2\n",
    "            else:\n",
    "                liste_saut[i] = k1\n",
    "    return liste_saut"
   ]
  },
  {
   "cell_type": "code",
   "execution_count": 18,
   "metadata": {},
   "outputs": [],
   "source": [
    "L5=liste_saut(2,L1,L2)"
   ]
  },
  {
   "cell_type": "code",
   "execution_count": 19,
   "metadata": {},
   "outputs": [
    {
     "data": {
      "text/plain": [
       "[2, 5]"
      ]
     },
     "execution_count": 19,
     "metadata": {},
     "output_type": "execute_result"
    }
   ],
   "source": [
    "L5"
   ]
  },
  {
   "cell_type": "code",
   "execution_count": 20,
   "metadata": {},
   "outputs": [],
   "source": [
    "list_vi = [(1/4)*((i+ml-1)*dw)**2 for i in range(1,m+1)]\n",
    "list_sigma = [np.sqrt(list_vi[i]*(1-rho**2)) for i in range(len(list_vi))]\n",
    "list_a = [list_vi[i]*((rho*kappa/sigma_v)-0.5) for i in range(len(list_vi))]\n",
    "\n",
    "list_saut = [0]*m\n",
    "for i in range (m):\n",
    "    k1,k2 = floor(2*list_sigma[i]/sigma_bar),ceil(2*list_sigma[i]/sigma_bar)\n",
    "    if k1==k2 or k1*sigma_bar<list_sigma[i]:\n",
    "        list_saut[i] = k2\n",
    "    else:\n",
    "        c = ((k1*sigma_bar)**2-list_sigma[i]**2)/list_a[i]**2\n",
    "        d = (k2*sigma_bar-sqrt((k2*sigma_bar)**2-4*list_sigma[i]**2))**2/(4*list_a[i])**2\n",
    "        if c<=d:\n",
    "            list_saut[i] = k2\n",
    "        else:\n",
    "            list_saut[i] = k1\n",
    "\n",
    "list_r = [0.05]*m"
   ]
  },
  {
   "cell_type": "code",
   "execution_count": 21,
   "metadata": {},
   "outputs": [
    {
     "data": {
      "text/plain": [
       "array([[0.2811512 , 0.12432892],\n",
       "       [0.28134884, 0.12567289],\n",
       "       [0.43749996, 0.74999819]])"
      ]
     },
     "execution_count": 21,
     "metadata": {},
     "output_type": "execute_result"
    }
   ],
   "source": [
    "proba_up_middle_down(L1,L2,L5,0.1,1,1000)"
   ]
  },
  {
   "cell_type": "code",
   "execution_count": 22,
   "metadata": {},
   "outputs": [],
   "source": [
    "A1=prix_call_europeen(100,90,1000,5,0.1,1,L1,L2,L5,L4,P)"
   ]
  },
  {
   "cell_type": "code",
   "execution_count": 23,
   "metadata": {},
   "outputs": [
    {
     "data": {
      "text/plain": [
       "{0: 2.788273482533414, 1: 4.805571421550553}"
      ]
     },
     "execution_count": 23,
     "metadata": {},
     "output_type": "execute_result"
    }
   ],
   "source": [
    "A1[:,0][1000*5]"
   ]
  },
  {
   "cell_type": "code",
   "execution_count": 30,
   "metadata": {},
   "outputs": [],
   "source": [
    "A1=prix_call_europeen(100,94,1000,2,0.2,1,L1,L2,L3,L4,P)\n",
    "A2=prix_call_europeen(100,96,1000,2,0.2,1,L1,L2,L3,L4,P)\n",
    "A3=prix_call_europeen(100,98,1000,2,0.2,1,L1,L2,L3,L4,P)\n",
    "A4=prix_call_europeen(100,100,1000,2,0.2,1,L1,L2,L3,L4,P)\n",
    "A5=prix_call_europeen(100,102,1000,2,0.2,1,L1,L2,L3,L4,P)\n",
    "A6=prix_call_europeen(100,104,1000,2,0.2,1,L1,L2,L3,L4,P)\n",
    "A7=prix_call_europeen(100,106,1000,2,0.2,1,L1,L2,L3,L4,P)"
   ]
  },
  {
   "cell_type": "code",
   "execution_count": 31,
   "metadata": {},
   "outputs": [],
   "source": [
    "A = [A1, A2, A3, A4, A5, A6, A7]"
   ]
  },
  {
   "cell_type": "code",
   "execution_count": 32,
   "metadata": {},
   "outputs": [
    {
     "data": {
      "text/html": [
       "<div>\n",
       "<style scoped>\n",
       "    .dataframe tbody tr th:only-of-type {\n",
       "        vertical-align: middle;\n",
       "    }\n",
       "\n",
       "    .dataframe tbody tr th {\n",
       "        vertical-align: top;\n",
       "    }\n",
       "\n",
       "    .dataframe thead th {\n",
       "        text-align: right;\n",
       "    }\n",
       "</style>\n",
       "<table border=\"1\" class=\"dataframe\">\n",
       "  <thead>\n",
       "    <tr style=\"text-align: right;\">\n",
       "      <th></th>\n",
       "      <th>S0</th>\n",
       "      <th>Tree</th>\n",
       "    </tr>\n",
       "  </thead>\n",
       "  <tbody>\n",
       "    <tr>\n",
       "      <th>0</th>\n",
       "      <td>94</td>\n",
       "      <td>{0: 5.86121169713768, 1: 8.228404386030418}</td>\n",
       "    </tr>\n",
       "    <tr>\n",
       "      <th>1</th>\n",
       "      <td>96</td>\n",
       "      <td>{0: 6.923020326921834, 1: 9.317382007445124}</td>\n",
       "    </tr>\n",
       "    <tr>\n",
       "      <th>2</th>\n",
       "      <td>98</td>\n",
       "      <td>{0: 8.083383992632376, 1: 10.477573544944184}</td>\n",
       "    </tr>\n",
       "    <tr>\n",
       "      <th>3</th>\n",
       "      <td>100</td>\n",
       "      <td>{0: 9.338299622468098, 1: 11.704247134436248}</td>\n",
       "    </tr>\n",
       "    <tr>\n",
       "      <th>4</th>\n",
       "      <td>102</td>\n",
       "      <td>{0: 10.683620427004527, 1: 13.000574946330795}</td>\n",
       "    </tr>\n",
       "    <tr>\n",
       "      <th>5</th>\n",
       "      <td>104</td>\n",
       "      <td>{0: 12.111348355527737, 1: 14.356138588476941}</td>\n",
       "    </tr>\n",
       "    <tr>\n",
       "      <th>6</th>\n",
       "      <td>106</td>\n",
       "      <td>{0: 13.61462223374124, 1: 15.772456149244976}</td>\n",
       "    </tr>\n",
       "  </tbody>\n",
       "</table>\n",
       "</div>"
      ],
      "text/plain": [
       "    S0                                            Tree\n",
       "0   94     {0: 5.86121169713768, 1: 8.228404386030418}\n",
       "1   96    {0: 6.923020326921834, 1: 9.317382007445124}\n",
       "2   98   {0: 8.083383992632376, 1: 10.477573544944184}\n",
       "3  100   {0: 9.338299622468098, 1: 11.704247134436248}\n",
       "4  102  {0: 10.683620427004527, 1: 13.000574946330795}\n",
       "5  104  {0: 12.111348355527737, 1: 14.356138588476941}\n",
       "6  106   {0: 13.61462223374124, 1: 15.772456149244976}"
      ]
     },
     "execution_count": 32,
     "metadata": {},
     "output_type": "execute_result"
    }
   ],
   "source": [
    "import pandas as pd\n",
    "Df1 = pd.DataFrame({'S0':[i for i in range(94,107,2)], 'Tree':[B[:,0][2000] for B in A]})\n",
    "Df1"
   ]
  },
  {
   "cell_type": "code",
   "execution_count": 23,
   "metadata": {},
   "outputs": [],
   "source": [
    "def prix_put_europeen(K,S_o,n,b,sigma_bar,T,List_sigma,List_a,Liste_saut,List_r,P):\n",
    "    proba_umd=proba_up_middle_down(List_sigma,List_a,Liste_saut,sigma_bar,T,n)\n",
    "    l=2*b*n+1\n",
    "    h=T/n\n",
    "    table_prix=np.zeros((l,n+1),dtype=object)\n",
    "    for i in range(l):\n",
    "        table_prix[i,n]={reg:max(K-S_o*np.exp(arbre[i,n]*sigma_bar*np.sqrt(h)),0) for reg in range(len(List_sigma))}\n",
    "    for j in range(1,n+1):\n",
    "        for i in range(l):\n",
    "            if i>=b*j and i<=b*(2*n-j):\n",
    "                table_prix[i,n-j]={reg:0 for reg in range(len(List_sigma))}\n",
    "                for etat in range(len(List_sigma)):\n",
    "                    r=List_r[etat]\n",
    "                    saut=Liste_saut[etat]\n",
    "                    for k in range(len(List_sigma)):\n",
    "                        table_prix[i,n-j][etat] += P[etat,k]*(table_prix[i-saut,n-j+1][k]*proba_umd[0,etat]+table_prix[i+saut,n-j+1][k]*proba_umd[1,etat]+table_prix[i,n-j+1][k]*proba_umd[2,etat])\n",
    "                    table_prix[i,n-j][etat]=np.exp(-r*h)*table_prix[i,n-j][etat]\n",
    "        \n",
    "    return table_prix"
   ]
  },
  {
   "cell_type": "code",
   "execution_count": 24,
   "metadata": {},
   "outputs": [],
   "source": [
    "def prix_call_americain(K,S_o,n,b,sigma_bar,T,List_sigma,List_a,Liste_saut,List_r,P):\n",
    "    proba_umd=proba_up_middle_down(List_sigma,List_a,Liste_saut,sigma_bar,T,n)\n",
    "    l=2*b*n+1\n",
    "    h=T/n\n",
    "    table_prix=np.zeros((l,n+1),dtype=object)\n",
    "    for i in range(l):\n",
    "        table_prix[i,n]={reg:max(-K+S_o*np.exp(arbre[i,n]*sigma_bar*np.sqrt(h)),0) for reg in range(len(List_sigma))}\n",
    "    for j in range(1,n+1):\n",
    "        for i in range(l):\n",
    "            if i>=b*j and i<=b*(2*n-j):\n",
    "                table_prix[i,n-j]={reg:0 for reg in range(len(List_sigma))}\n",
    "                for etat in range(len(List_sigma)):\n",
    "                    r=List_r[etat]\n",
    "                    saut=Liste_saut[etat]\n",
    "                    for k in range(len(List_sigma)):\n",
    "                        table_prix[i,n-j][etat] += P[etat,k]*(table_prix[i-saut,n-j+1][k]*proba_umd[0,etat]+table_prix[i+saut,n-j+1][k]*proba_umd[1,etat]+table_prix[i,n-j+1][k]*proba_umd[2,etat])\n",
    "                    table_prix[i,n-j][etat]=np.exp(-r*h)*table_prix[i,n-j][etat]\n",
    "                    table_prix[i,n-j][etat]=max(table_prix[i,n-j][etat],-K+S_o*np.exp(arbre[i,n-j]*sigma_bar*np.sqrt(h)))\n",
    "        \n",
    "    return table_prix"
   ]
  },
  {
   "cell_type": "code",
   "execution_count": 25,
   "metadata": {},
   "outputs": [],
   "source": [
    "def prix_put_americain(K,S_o,n,b,sigma_bar,T,List_sigma,List_a,Liste_saut,List_r,P):\n",
    "    proba_umd=proba_up_middle_down(List_sigma,List_a,Liste_saut,sigma_bar,T,n)\n",
    "    l=2*b*n+1\n",
    "    h=T/n\n",
    "    table_prix=np.zeros((l,n+1),dtype=object)\n",
    "    for i in range(l):\n",
    "        table_prix[i,n]={reg:max(K-S_o*np.exp(arbre[i,n]*sigma_bar*np.sqrt(h)),0) for reg in range(len(List_sigma))}\n",
    "    for j in range(1,n+1):\n",
    "        for i in range(l):\n",
    "            if i>=b*j and i<=b*(2*n-j):\n",
    "                table_prix[i,n-j]={reg:0 for reg in range(len(List_sigma))}\n",
    "                for etat in range(len(List_sigma)):\n",
    "                    r=List_r[etat]\n",
    "                    saut=Liste_saut[etat]\n",
    "                    for k in range(len(List_sigma)):\n",
    "                        table_prix[i,n-j][etat] += P[etat,k]*(table_prix[i-saut,n-j+1][k]*proba_umd[0,etat]+table_prix[i+saut,n-j+1][k]*proba_umd[1,etat]+table_prix[i,n-j+1][k]*proba_umd[2,etat])\n",
    "                    table_prix[i,n-j][etat]=np.exp(-r*h)*table_prix[i,n-j][etat]\n",
    "                    table_prix[i,n-j][etat]=max(table_prix[i,n-j][etat],K-S_o*np.exp(arbre[i,n-j]*sigma_bar*np.sqrt(h)))\n",
    "        \n",
    "    return table_prix"
   ]
  },
  {
   "cell_type": "code",
   "execution_count": 25,
   "metadata": {},
   "outputs": [],
   "source": [
    "C1=prix_put_americain(100,94,1000,2,0.2,1,L1,L2,L3,L4,P)\n",
    "C2=prix_put_americain(100,96,1000,2,0.2,1,L1,L2,L3,L4,P)\n",
    "C3=prix_put_americain(100,98,1000,2,0.2,1,L1,L2,L3,L4,P)\n",
    "C4=prix_put_americain(100,100,1000,2,0.2,1,L1,L2,L3,L4,P)\n",
    "C5=prix_put_americain(100,102,1000,2,0.2,1,L1,L2,L3,L4,P)\n",
    "C6=prix_put_americain(100,104,1000,2,0.2,1,L1,L2,L3,L4,P)\n",
    "C7=prix_put_americain(100,106,1000,2,0.2,1,L1,L2,L3,L4,P)"
   ]
  },
  {
   "cell_type": "code",
   "execution_count": 26,
   "metadata": {},
   "outputs": [],
   "source": [
    "C=[C1, C2, C3, C4, C5, C6, C7]"
   ]
  },
  {
   "cell_type": "code",
   "execution_count": 29,
   "metadata": {},
   "outputs": [
    {
     "data": {
      "text/html": [
       "<div>\n",
       "<style scoped>\n",
       "    .dataframe tbody tr th:only-of-type {\n",
       "        vertical-align: middle;\n",
       "    }\n",
       "\n",
       "    .dataframe tbody tr th {\n",
       "        vertical-align: top;\n",
       "    }\n",
       "\n",
       "    .dataframe thead th {\n",
       "        text-align: right;\n",
       "    }\n",
       "</style>\n",
       "<table border=\"1\" class=\"dataframe\">\n",
       "  <thead>\n",
       "    <tr style=\"text-align: right;\">\n",
       "      <th></th>\n",
       "      <th>S0</th>\n",
       "      <th>Tree</th>\n",
       "    </tr>\n",
       "  </thead>\n",
       "  <tbody>\n",
       "    <tr>\n",
       "      <th>0</th>\n",
       "      <td>94</td>\n",
       "      <td>{0: 7.887341803269553, 1: 10.246044855314704}</td>\n",
       "    </tr>\n",
       "    <tr>\n",
       "      <th>1</th>\n",
       "      <td>96</td>\n",
       "      <td>{0: 6.761619788250978, 1: 9.211130469447333}</td>\n",
       "    </tr>\n",
       "    <tr>\n",
       "      <th>2</th>\n",
       "      <td>98</td>\n",
       "      <td>{0: 5.77279975983544, 1: 8.263628289981797}</td>\n",
       "    </tr>\n",
       "    <tr>\n",
       "      <th>3</th>\n",
       "      <td>100</td>\n",
       "      <td>{0: 4.909105962224006, 1: 7.397754729040091}</td>\n",
       "    </tr>\n",
       "    <tr>\n",
       "      <th>4</th>\n",
       "      <td>102</td>\n",
       "      <td>{0: 4.15974578321561, 1: 6.6126611028022015}</td>\n",
       "    </tr>\n",
       "    <tr>\n",
       "      <th>5</th>\n",
       "      <td>104</td>\n",
       "      <td>{0: 3.5125898797011983, 1: 5.898792664675986}</td>\n",
       "    </tr>\n",
       "    <tr>\n",
       "      <th>6</th>\n",
       "      <td>106</td>\n",
       "      <td>{0: 2.9567023364071985, 1: 5.254773500702386}</td>\n",
       "    </tr>\n",
       "  </tbody>\n",
       "</table>\n",
       "</div>"
      ],
      "text/plain": [
       "    S0                                           Tree\n",
       "0   94  {0: 7.887341803269553, 1: 10.246044855314704}\n",
       "1   96   {0: 6.761619788250978, 1: 9.211130469447333}\n",
       "2   98    {0: 5.77279975983544, 1: 8.263628289981797}\n",
       "3  100   {0: 4.909105962224006, 1: 7.397754729040091}\n",
       "4  102   {0: 4.15974578321561, 1: 6.6126611028022015}\n",
       "5  104  {0: 3.5125898797011983, 1: 5.898792664675986}\n",
       "6  106  {0: 2.9567023364071985, 1: 5.254773500702386}"
      ]
     },
     "execution_count": 29,
     "metadata": {},
     "output_type": "execute_result"
    }
   ],
   "source": [
    "Df2 = pd.DataFrame({'S0':[i for i in range(94,107,2)], 'Tree':[B[:,0][2000] for B in C]})\n",
    "Df2"
   ]
  },
  {
   "cell_type": "code",
   "execution_count": 26,
   "metadata": {},
   "outputs": [],
   "source": [
    "def prix_call_europeen_Heston_model(K,S_o,n,b,sigma_bar,T,List_vi,List_sigma,List_a,Liste_saut,List_r,P):\n",
    "    proba_umd=proba_up_middle_down(List_sigma,List_a,Liste_saut,sigma_bar,T,n)\n",
    "    l=2*b*n+1\n",
    "    h=T/n\n",
    "    table_prix=np.zeros((l,n+1),dtype=object)\n",
    "    for i in range(l):\n",
    "        table_prix[i,n]={reg:max(-K+S_o*np.exp((arbre[i,n])*sigma_bar*np.sqrt(h)+(rho/sigma_v)*(List_vi[reg]-v0)+(0.05-rho*kappa*theta/sigma_v)*n*h),0) for reg in range(len(List_sigma))}\n",
    "    for j in range(1,n+1):\n",
    "        for i in range(l):\n",
    "            if i>=b*j and i<=b*(2*n-j):\n",
    "                table_prix[i,n-j]={reg:0 for reg in range(len(List_sigma))}\n",
    "                for etat in range(len(List_sigma)):\n",
    "                    r=List_r[etat]\n",
    "                    saut=Liste_saut[etat]\n",
    "                    for k in range(len(List_sigma)):\n",
    "                        table_prix[i,n-j][etat] += P[etat,k]*(table_prix[i-saut,n-j+1][k]*proba_umd[0,etat]+table_prix[i+saut,n-j+1][k]*proba_umd[1,etat]+table_prix[i,n-j+1][k]*proba_umd[2,etat])\n",
    "                    table_prix[i,n-j][etat]=np.exp(-r*h)*table_prix[i,n-j][etat]\n",
    "        \n",
    "    return table_prix"
   ]
  },
  {
   "cell_type": "code",
   "execution_count": 26,
   "metadata": {},
   "outputs": [
    {
     "ename": "IndexError",
     "evalue": "index 2500 is out of bounds for axis 1 with size 1001",
     "output_type": "error",
     "traceback": [
      "\u001b[1;31m---------------------------------------------------------------------------\u001b[0m",
      "\u001b[1;31mIndexError\u001b[0m                                Traceback (most recent call last)",
      "Cell \u001b[1;32mIn[26], line 2\u001b[0m\n\u001b[0;32m      1\u001b[0m r\u001b[38;5;241m=\u001b[39m\u001b[38;5;241m0.05\u001b[39m\n\u001b[1;32m----> 2\u001b[0m B\u001b[38;5;241m=\u001b[39m\u001b[43mprix_call_europeen_Heston_model\u001b[49m\u001b[43m(\u001b[49m\u001b[38;5;241;43m100\u001b[39;49m\u001b[43m,\u001b[49m\u001b[38;5;241;43m90\u001b[39;49m\u001b[43m,\u001b[49m\u001b[38;5;241;43m2500\u001b[39;49m\u001b[43m,\u001b[49m\u001b[38;5;241;43m3\u001b[39;49m\u001b[43m,\u001b[49m\u001b[38;5;241;43m0.2\u001b[39;49m\u001b[43m,\u001b[49m\u001b[38;5;241;43m0.25\u001b[39;49m\u001b[43m,\u001b[49m\u001b[43mlist_vi\u001b[49m\u001b[43m,\u001b[49m\u001b[43mlist_sigma\u001b[49m\u001b[43m,\u001b[49m\u001b[43mlist_a\u001b[49m\u001b[43m,\u001b[49m\u001b[43mlist_saut\u001b[49m\u001b[43m,\u001b[49m\u001b[43mlist_r\u001b[49m\u001b[43m,\u001b[49m\u001b[43mP1\u001b[49m\u001b[43m)\u001b[49m\n",
      "Cell \u001b[1;32mIn[25], line 7\u001b[0m, in \u001b[0;36mprix_call_europeen_Heston_model\u001b[1;34m(K, S_o, n, b, sigma_bar, T, List_vi, List_sigma, List_a, Liste_saut, List_r, P)\u001b[0m\n\u001b[0;32m      5\u001b[0m table_prix\u001b[38;5;241m=\u001b[39mnp\u001b[38;5;241m.\u001b[39mzeros((l,n\u001b[38;5;241m+\u001b[39m\u001b[38;5;241m1\u001b[39m),dtype\u001b[38;5;241m=\u001b[39m\u001b[38;5;28mobject\u001b[39m)\n\u001b[0;32m      6\u001b[0m \u001b[38;5;28;01mfor\u001b[39;00m i \u001b[38;5;129;01min\u001b[39;00m \u001b[38;5;28mrange\u001b[39m(l):\n\u001b[1;32m----> 7\u001b[0m     table_prix[i,n]\u001b[38;5;241m=\u001b[39m\u001b[43m{\u001b[49m\u001b[43mreg\u001b[49m\u001b[43m:\u001b[49m\u001b[38;5;28;43mmax\u001b[39;49m\u001b[43m(\u001b[49m\u001b[38;5;241;43m-\u001b[39;49m\u001b[43mK\u001b[49m\u001b[38;5;241;43m+\u001b[39;49m\u001b[43mS_o\u001b[49m\u001b[38;5;241;43m*\u001b[39;49m\u001b[43mnp\u001b[49m\u001b[38;5;241;43m.\u001b[39;49m\u001b[43mexp\u001b[49m\u001b[43m(\u001b[49m\u001b[43m(\u001b[49m\u001b[43marbre\u001b[49m\u001b[43m[\u001b[49m\u001b[43mi\u001b[49m\u001b[43m,\u001b[49m\u001b[43mn\u001b[49m\u001b[43m]\u001b[49m\u001b[43m)\u001b[49m\u001b[38;5;241;43m*\u001b[39;49m\u001b[43msigma_bar\u001b[49m\u001b[38;5;241;43m*\u001b[39;49m\u001b[43mnp\u001b[49m\u001b[38;5;241;43m.\u001b[39;49m\u001b[43msqrt\u001b[49m\u001b[43m(\u001b[49m\u001b[43mh\u001b[49m\u001b[43m)\u001b[49m\u001b[38;5;241;43m+\u001b[39;49m\u001b[43m(\u001b[49m\u001b[43mrho\u001b[49m\u001b[38;5;241;43m/\u001b[39;49m\u001b[43msigma_v\u001b[49m\u001b[43m)\u001b[49m\u001b[38;5;241;43m*\u001b[39;49m\u001b[43m(\u001b[49m\u001b[43mList_vi\u001b[49m\u001b[43m[\u001b[49m\u001b[43mreg\u001b[49m\u001b[43m]\u001b[49m\u001b[38;5;241;43m-\u001b[39;49m\u001b[43mv0\u001b[49m\u001b[43m)\u001b[49m\u001b[38;5;241;43m+\u001b[39;49m\u001b[43m(\u001b[49m\u001b[38;5;241;43m0.05\u001b[39;49m\u001b[38;5;241;43m-\u001b[39;49m\u001b[43mrho\u001b[49m\u001b[38;5;241;43m*\u001b[39;49m\u001b[43mkappa\u001b[49m\u001b[38;5;241;43m*\u001b[39;49m\u001b[43mtheta\u001b[49m\u001b[38;5;241;43m/\u001b[39;49m\u001b[43msigma_v\u001b[49m\u001b[43m)\u001b[49m\u001b[38;5;241;43m*\u001b[39;49m\u001b[43mn\u001b[49m\u001b[38;5;241;43m*\u001b[39;49m\u001b[43mh\u001b[49m\u001b[43m)\u001b[49m\u001b[43m,\u001b[49m\u001b[38;5;241;43m0\u001b[39;49m\u001b[43m)\u001b[49m\u001b[43m \u001b[49m\u001b[38;5;28;43;01mfor\u001b[39;49;00m\u001b[43m \u001b[49m\u001b[43mreg\u001b[49m\u001b[43m \u001b[49m\u001b[38;5;129;43;01min\u001b[39;49;00m\u001b[43m \u001b[49m\u001b[38;5;28;43mrange\u001b[39;49m\u001b[43m(\u001b[49m\u001b[38;5;28;43mlen\u001b[39;49m\u001b[43m(\u001b[49m\u001b[43mList_sigma\u001b[49m\u001b[43m)\u001b[49m\u001b[43m)\u001b[49m\u001b[43m}\u001b[49m\n\u001b[0;32m      8\u001b[0m \u001b[38;5;28;01mfor\u001b[39;00m j \u001b[38;5;129;01min\u001b[39;00m \u001b[38;5;28mrange\u001b[39m(\u001b[38;5;241m1\u001b[39m,n\u001b[38;5;241m+\u001b[39m\u001b[38;5;241m1\u001b[39m):\n\u001b[0;32m      9\u001b[0m     \u001b[38;5;28;01mfor\u001b[39;00m i \u001b[38;5;129;01min\u001b[39;00m \u001b[38;5;28mrange\u001b[39m(l):\n",
      "Cell \u001b[1;32mIn[25], line 7\u001b[0m, in \u001b[0;36m<dictcomp>\u001b[1;34m(.0)\u001b[0m\n\u001b[0;32m      5\u001b[0m table_prix\u001b[38;5;241m=\u001b[39mnp\u001b[38;5;241m.\u001b[39mzeros((l,n\u001b[38;5;241m+\u001b[39m\u001b[38;5;241m1\u001b[39m),dtype\u001b[38;5;241m=\u001b[39m\u001b[38;5;28mobject\u001b[39m)\n\u001b[0;32m      6\u001b[0m \u001b[38;5;28;01mfor\u001b[39;00m i \u001b[38;5;129;01min\u001b[39;00m \u001b[38;5;28mrange\u001b[39m(l):\n\u001b[1;32m----> 7\u001b[0m     table_prix[i,n]\u001b[38;5;241m=\u001b[39m{reg:\u001b[38;5;28mmax\u001b[39m(\u001b[38;5;241m-\u001b[39mK\u001b[38;5;241m+\u001b[39mS_o\u001b[38;5;241m*\u001b[39mnp\u001b[38;5;241m.\u001b[39mexp((\u001b[43marbre\u001b[49m\u001b[43m[\u001b[49m\u001b[43mi\u001b[49m\u001b[43m,\u001b[49m\u001b[43mn\u001b[49m\u001b[43m]\u001b[49m)\u001b[38;5;241m*\u001b[39msigma_bar\u001b[38;5;241m*\u001b[39mnp\u001b[38;5;241m.\u001b[39msqrt(h)\u001b[38;5;241m+\u001b[39m(rho\u001b[38;5;241m/\u001b[39msigma_v)\u001b[38;5;241m*\u001b[39m(List_vi[reg]\u001b[38;5;241m-\u001b[39mv0)\u001b[38;5;241m+\u001b[39m(\u001b[38;5;241m0.05\u001b[39m\u001b[38;5;241m-\u001b[39mrho\u001b[38;5;241m*\u001b[39mkappa\u001b[38;5;241m*\u001b[39mtheta\u001b[38;5;241m/\u001b[39msigma_v)\u001b[38;5;241m*\u001b[39mn\u001b[38;5;241m*\u001b[39mh),\u001b[38;5;241m0\u001b[39m) \u001b[38;5;28;01mfor\u001b[39;00m reg \u001b[38;5;129;01min\u001b[39;00m \u001b[38;5;28mrange\u001b[39m(\u001b[38;5;28mlen\u001b[39m(List_sigma))}\n\u001b[0;32m      8\u001b[0m \u001b[38;5;28;01mfor\u001b[39;00m j \u001b[38;5;129;01min\u001b[39;00m \u001b[38;5;28mrange\u001b[39m(\u001b[38;5;241m1\u001b[39m,n\u001b[38;5;241m+\u001b[39m\u001b[38;5;241m1\u001b[39m):\n\u001b[0;32m      9\u001b[0m     \u001b[38;5;28;01mfor\u001b[39;00m i \u001b[38;5;129;01min\u001b[39;00m \u001b[38;5;28mrange\u001b[39m(l):\n",
      "\u001b[1;31mIndexError\u001b[0m: index 2500 is out of bounds for axis 1 with size 1001"
     ]
    }
   ],
   "source": [
    "r=0.05\n",
    "B=prix_call_europeen_Heston_model(100,90,2500,3,0.2,0.25,list_vi,list_sigma,list_a,list_saut,list_r,P1)"
   ]
  },
  {
   "cell_type": "code",
   "execution_count": null,
   "metadata": {},
   "outputs": [],
   "source": [
    "B[:,0][2500*3]"
   ]
  },
  {
   "cell_type": "code",
   "execution_count": 27,
   "metadata": {},
   "outputs": [],
   "source": [
    "def prix_call_europeen2(K,S_o,n,b,sigma_bar,T,List_sigma,List_a,Liste_saut,List_r,P):\n",
    "    proba_umd=proba_up_middle_down(List_sigma,List_a,Liste_saut,sigma_bar,T,n)\n",
    "    l=2*b*n+1\n",
    "    h=T/n\n",
    "    table_prix=np.zeros((l,n+1,len(List_sigma)))\n",
    "    for i in range(l):\n",
    "        for reg in range(len(List_sigma)):\n",
    "            table_prix[i,n,reg]=max(-K+S_o*np.exp(arbre[i,n]*sigma_bar*np.sqrt(h)),0)\n",
    "    for j in range(1,n+1):\n",
    "        for i in range(l):\n",
    "            if i>=b*j and i<=b*(2*n-j):\n",
    "                for etat in range(len(List_sigma)):\n",
    "                    r=List_r[etat]\n",
    "                    saut=Liste_saut[etat]\n",
    "                    for k in range(len(List_sigma)):\n",
    "                        table_prix[i,n-j,etat] += P[etat,k]*(table_prix[i-saut,n-j+1,k]*proba_umd[0,etat]+table_prix[i+saut,n-j+1,k]*proba_umd[1,etat]+table_prix[i,n-j+1,k]*proba_umd[2,etat])\n",
    "                    table_prix[i,n-j,etat]=np.exp(-r*h)*table_prix[i,n-j,etat]\n",
    "        \n",
    "    return table_prix"
   ]
  },
  {
   "cell_type": "code",
   "execution_count": 30,
   "metadata": {},
   "outputs": [],
   "source": [
    "A1_1=prix_call_europeen(100,94,1000,2,0.2,1,L1,L2,L3,L4,P)\n"
   ]
  },
  {
   "cell_type": "code",
   "execution_count": 22,
   "metadata": {},
   "outputs": [
    {
     "data": {
      "text/plain": [
       "{0: 1.2100619313471626, 1: 2.7027109319967293}"
      ]
     },
     "execution_count": 22,
     "metadata": {},
     "output_type": "execute_result"
    }
   ],
   "source": [
    "A1_1[:,0][2500*3]"
   ]
  },
  {
   "cell_type": "code",
   "execution_count": 23,
   "metadata": {},
   "outputs": [],
   "source": [
    "A1_2=prix_call_europeen2(100,94,2500,3,0.2,0.25,L1,L2,L3,L4,P)"
   ]
  },
  {
   "cell_type": "code",
   "execution_count": 24,
   "metadata": {},
   "outputs": [
    {
     "data": {
      "text/plain": [
       "array([1.21006193, 2.70271093])"
      ]
     },
     "execution_count": 24,
     "metadata": {},
     "output_type": "execute_result"
    }
   ],
   "source": [
    "A1_2[:,0][2500*3]"
   ]
  },
  {
   "cell_type": "code",
   "execution_count": 43,
   "metadata": {},
   "outputs": [],
   "source": [
    "import numpy as np\n",
    "from numpy import sqrt, exp, pi, cos, sin, log, abs\n",
    "\n",
    "\n",
    "\n",
    "def Fourier_Heston_Put(S0, K, T, r, \n",
    "                  # Heston Model Paramters\n",
    "                  kappa, # Speed of the mean reversion \n",
    "                  theta, # Long term mean\n",
    "                  rho,   # correlation between 2 random variables\n",
    "                  zeta,  # Volatility of volatility\n",
    "                  v0,    # Initial volatility \n",
    "                  opt_type,\n",
    "                  N = 1_012,\n",
    "                  z = 24\n",
    "                  ):\n",
    "\n",
    "  def heston_char(u): \n",
    "    t0 = 0.0 ;  q = 0.0\n",
    "    m = log(S0) + (r - q)*(T-t0)\n",
    "    D = sqrt((rho*zeta*1j*u - kappa)**2 + zeta**2*(1j*u + u**2))\n",
    "    C = (kappa - rho*zeta*1j*u - D) / (kappa - rho*zeta*1j*u + D)\n",
    "    beta = ((kappa - rho*zeta*1j*u - D)*(1-exp(-D*(T-t0)))) / (zeta**2*(1-C*exp(-D*(T-t0))))\n",
    "    alpha = ((kappa*theta)/(zeta**2))*((kappa - rho*zeta*1j*u - D)*(T-t0) - 2*log((1-C*exp(-D*(T-t0))/(1-C))))\n",
    "    return exp(1j*u*m + alpha + beta*v0)\n",
    "  \n",
    "  # # Parameters for the Function to make sure the approximations are correct.\n",
    "  c1 = log(S0) + r*T - .5*theta*T\n",
    "  c2 = theta/(8*kappa**3)*(-zeta**2*exp(-2*kappa*T) + 4*zeta*exp(-kappa*T)*(zeta-2*kappa*rho) \n",
    "        + 2*kappa*T*(4*kappa**2 + zeta**2 - 4*kappa*zeta*rho) + zeta*(8*kappa*rho - 3*zeta))\n",
    "  a = c1 - z*sqrt(abs(c2))\n",
    "  b = c1 + z*sqrt(abs(c2))\n",
    "  \n",
    "  h       = lambda n : (n*pi) / (b-a) \n",
    "  g_n     = lambda n : (exp(a) - (K/h(n))*sin(h(n)*(a - log(K))) - K*cos(h(n)*(a - log(K)))) / (1 + h(n)**2)\n",
    "  g0      = K*(log(K) - a - 1) + exp(a)\n",
    "  \n",
    "  F = g0 \n",
    "  for n in range(1, N+1):\n",
    "    h_n = h(n)\n",
    "    F += 2*heston_char(h_n) * exp(-1j*a*h_n) * g_n(n)\n",
    "\n",
    "  F = exp(-r*T)/(b-a) * np.real(F)\n",
    "  F = F if opt_type == 'p' else F + S0 - K*exp(-r*T)\n",
    "  return F if F > 0 else 0\n"
   ]
  },
  {
   "cell_type": "code",
   "execution_count": 48,
   "metadata": {},
   "outputs": [],
   "source": [
    "call_heston=Fourier_Heston_Put(90,100,0.25, 0.05, kappa, theta, rho, sigma_v, v0, 'c', N = 1_012, z = 24)"
   ]
  },
  {
   "cell_type": "code",
   "execution_count": 49,
   "metadata": {},
   "outputs": [
    {
     "data": {
      "text/plain": [
       "3.18636752581871"
      ]
     },
     "execution_count": 49,
     "metadata": {},
     "output_type": "execute_result"
    }
   ],
   "source": [
    "call_heston"
   ]
  },
  {
   "cell_type": "code",
   "execution_count": 27,
   "metadata": {},
   "outputs": [],
   "source": [
    "\n",
    "\n",
    "def prix_call_europeen3(K, S_o, n, b, sigma_bar, T,List_sigma, List_a, Liste_saut, List_r, P):\n",
    "    proba_umd = proba_up_middle_down(List_sigma, List_a, Liste_saut, sigma_bar, T, n)\n",
    "    l = 2 * b * n + 1\n",
    "    h = T / n\n",
    "    table_prix = np.zeros((len(List_sigma), l))  # Réorganisation des dimensions de la matrice\n",
    "\n",
    "    for reg in range(len(List_sigma)):\n",
    "        for i in range(l):\n",
    "            table_prix[reg, i] = max(-K + S_o * np.exp(arbre[i,n] * sigma_bar * np.sqrt(h)), 0)\n",
    "    new_table_prix = np.zeros((len(List_sigma), l))\n",
    "    for j in range(1, n + 1):  # Créer une nouvelle matrice pour chaque itération de j\n",
    "        for i in range(l):\n",
    "            if i >= b * j and i <= b * (2 * n - j):\n",
    "                for etat in range(len(List_sigma)):\n",
    "                    r = List_r[etat]\n",
    "                    saut = Liste_saut[etat]\n",
    "                    prix_somme = 0\n",
    "                    for k in range(len(List_sigma)):\n",
    "                        prix_somme += P[etat, k] * (\n",
    "                                table_prix[k, i - saut] * proba_umd[0, etat] +\n",
    "                                table_prix[k, i + saut] * proba_umd[1, etat] +\n",
    "                                table_prix[k, i] * proba_umd[2, etat]\n",
    "                        )\n",
    "                    new_table_prix[etat, i] = np.exp(-r * h) * prix_somme\n",
    "        table_prix ,new_table_prix= new_table_prix , table_prix # Remplacer l'ancienne matrice par la nouvelle\n",
    "\n",
    "    return table_prix\n"
   ]
  },
  {
   "cell_type": "code",
   "execution_count": 34,
   "metadata": {},
   "outputs": [],
   "source": [
    "A1=prix_call_europeen3(100,94,1000,2,0.2,1,L1,L2,L3,L4,P)"
   ]
  },
  {
   "cell_type": "code",
   "execution_count": 35,
   "metadata": {},
   "outputs": [
    {
     "data": {
      "text/plain": [
       "array([5.8612117 , 8.22840439])"
      ]
     },
     "execution_count": 35,
     "metadata": {},
     "output_type": "execute_result"
    }
   ],
   "source": [
    "A1[:,2000]"
   ]
  },
  {
   "cell_type": "code",
   "execution_count": 28,
   "metadata": {},
   "outputs": [],
   "source": [
    "\n",
    "\n",
    "def prix_call_europeen_Heston_model2(K, S_o, n, b, sigma_bar, T,List_vi, List_sigma, List_a, Liste_saut, List_r, P):\n",
    "    proba_umd = proba_up_middle_down(List_sigma, List_a, Liste_saut, sigma_bar, T, n)\n",
    "    l = 2 * b * n + 1\n",
    "    h = T / n\n",
    "    table_prix = np.zeros((len(List_sigma), l))  # Réorganisation des dimensions de la matrice\n",
    "\n",
    "    for reg in range(len(List_sigma)):\n",
    "        for i in range(l):\n",
    "            table_prix[reg, i] = max(-K+S_o*np.exp((arbre[i,n])*sigma_bar*np.sqrt(h)+(rho/sigma_v)*(List_vi[reg]-v0)+(0.05-rho*kappa*theta/sigma_v)*n*h),0)\n",
    "    new_table_prix = np.zeros((len(List_sigma), l))\n",
    "    for j in range(1, n + 1): # Créer une nouvelle matrice pour chaque itération de j\n",
    "        for i in range(l):\n",
    "            if i >= b * j and i <= b * (2 * n - j):\n",
    "                for etat in range(len(List_sigma)):\n",
    "                    r = List_r[etat]\n",
    "                    saut = Liste_saut[etat]\n",
    "                    prix_somme = 0\n",
    "                    for k in range(len(List_sigma)):\n",
    "                        prix_somme += P[etat, k] * (\n",
    "                                table_prix[k, i - saut] * proba_umd[0, etat] +\n",
    "                                table_prix[k, i + saut] * proba_umd[1, etat] +\n",
    "                                table_prix[k, i] * proba_umd[2, etat]\n",
    "                        )\n",
    "                    new_table_prix[etat, i] = np.exp(-r * h) * prix_somme\n",
    "        table_prix ,new_table_prix= new_table_prix , table_prix  # Remplacer l'ancienne matrice par la nouvelle\n",
    "\n",
    "    return table_prix\n"
   ]
  },
  {
   "cell_type": "code",
   "execution_count": 30,
   "metadata": {},
   "outputs": [
    {
     "ename": "KeyboardInterrupt",
     "evalue": "",
     "output_type": "error",
     "traceback": [
      "\u001b[1;31m---------------------------------------------------------------------------\u001b[0m",
      "\u001b[1;31mKeyboardInterrupt\u001b[0m                         Traceback (most recent call last)",
      "Cell \u001b[1;32mIn[30], line 1\u001b[0m\n\u001b[1;32m----> 1\u001b[0m C9\u001b[38;5;241m=\u001b[39m\u001b[43mprix_call_europeen_Heston_model2\u001b[49m\u001b[43m(\u001b[49m\u001b[38;5;241;43m100\u001b[39;49m\u001b[43m,\u001b[49m\u001b[38;5;241;43m90\u001b[39;49m\u001b[43m,\u001b[49m\u001b[38;5;241;43m2500\u001b[39;49m\u001b[43m,\u001b[49m\u001b[38;5;241;43m3\u001b[39;49m\u001b[43m,\u001b[49m\u001b[38;5;241;43m0.2\u001b[39;49m\u001b[43m,\u001b[49m\u001b[38;5;241;43m0.25\u001b[39;49m\u001b[43m,\u001b[49m\u001b[43mlist_vi\u001b[49m\u001b[43m,\u001b[49m\u001b[43mlist_sigma\u001b[49m\u001b[43m,\u001b[49m\u001b[43mlist_a\u001b[49m\u001b[43m,\u001b[49m\u001b[43mlist_saut\u001b[49m\u001b[43m,\u001b[49m\u001b[43mlist_r\u001b[49m\u001b[43m,\u001b[49m\u001b[43mP1\u001b[49m\u001b[43m)\u001b[49m\n",
      "Cell \u001b[1;32mIn[28], line 19\u001b[0m, in \u001b[0;36mprix_call_europeen_Heston_model2\u001b[1;34m(K, S_o, n, b, sigma_bar, T, List_vi, List_sigma, List_a, Liste_saut, List_r, P)\u001b[0m\n\u001b[0;32m     17\u001b[0m             prix_somme \u001b[38;5;241m=\u001b[39m \u001b[38;5;241m0\u001b[39m\n\u001b[0;32m     18\u001b[0m             \u001b[38;5;28;01mfor\u001b[39;00m k \u001b[38;5;129;01min\u001b[39;00m \u001b[38;5;28mrange\u001b[39m(\u001b[38;5;28mlen\u001b[39m(List_sigma)):\n\u001b[1;32m---> 19\u001b[0m                 prix_somme \u001b[38;5;241m+\u001b[39m\u001b[38;5;241m=\u001b[39m P[etat, k] \u001b[38;5;241m*\u001b[39m (\n\u001b[0;32m     20\u001b[0m                         table_prix[k, i \u001b[38;5;241m-\u001b[39m saut] \u001b[38;5;241m*\u001b[39m proba_umd[\u001b[38;5;241m0\u001b[39m, etat] \u001b[38;5;241m+\u001b[39m\n\u001b[0;32m     21\u001b[0m                         table_prix[k, i \u001b[38;5;241m+\u001b[39m saut] \u001b[38;5;241m*\u001b[39m proba_umd[\u001b[38;5;241m1\u001b[39m, etat] \u001b[38;5;241m+\u001b[39m\n\u001b[0;32m     22\u001b[0m                         table_prix[k, i] \u001b[38;5;241m*\u001b[39m proba_umd[\u001b[38;5;241m2\u001b[39m, etat]\n\u001b[0;32m     23\u001b[0m                 )\n\u001b[0;32m     24\u001b[0m             new_table_prix[etat, i] \u001b[38;5;241m=\u001b[39m np\u001b[38;5;241m.\u001b[39mexp(\u001b[38;5;241m-\u001b[39mr \u001b[38;5;241m*\u001b[39m h) \u001b[38;5;241m*\u001b[39m prix_somme\n\u001b[0;32m     25\u001b[0m table_prix ,new_table_prix\u001b[38;5;241m=\u001b[39m new_table_prix , table_prix  \u001b[38;5;66;03m# Remplacer l'ancienne matrice par la nouvelle\u001b[39;00m\n",
      "\u001b[1;31mKeyboardInterrupt\u001b[0m: "
     ]
    }
   ],
   "source": [
    "C9=prix_call_europeen_Heston_model2(100,90,2500,3,0.2,0.25,list_vi,list_sigma,list_a,list_saut,list_r,P1)"
   ]
  },
  {
   "cell_type": "code",
   "execution_count": null,
   "metadata": {},
   "outputs": [],
   "source": [
    "C9[:,2500*3]"
   ]
  },
  {
   "cell_type": "code",
   "execution_count": 63,
   "metadata": {},
   "outputs": [],
   "source": [
    "def nouveau_prix_call_europeen(K,S_o,n,b,sigma_bar,T,List_sigma,List_a,Liste_saut,List_r,Q):\n",
    "    proba_umd=proba_up_middle_down(List_sigma,List_a,Liste_saut,sigma_bar,T,n)\n",
    "    l=2*b*n+1\n",
    "    h=T/n\n",
    "    table_prix=np.zeros((l,n+1,len(List_sigma)))\n",
    "    for i in range(l):\n",
    "        for reg in range(len(List_sigma)):\n",
    "            table_prix[i,n,reg]=max(-K+S_o*np.exp(arbre[i,n]*sigma_bar*np.sqrt(h)),0)\n",
    "    for j in range(1,n+1):\n",
    "        for i in range(l):\n",
    "            if i>=b*j and i<=b*(2*n-j):\n",
    "                for etat in range(len(List_sigma)):\n",
    "                    r=List_r[etat]\n",
    "                    saut=Liste_saut[etat]\n",
    "                    table_prix[i,n-j,etat] += table_prix[i-saut,n-j+1,etat]*proba_umd[0,etat] + table_prix[i+saut,n-j+1,etat]*proba_umd[1,etat]+ table_prix[i,n-j+1,etat]*(proba_umd[2,etat]+Q[etat,etat]*h)\n",
    "                    for k in range(len(List_sigma)):\n",
    "                        if k != etat:\n",
    "                            table_prix[i,n-j,etat] += Q[etat,k]*h*table_prix[i,n-j+1,k]\n",
    "                    table_prix[i,n-j,etat]=np.exp(-r*h)*table_prix[i,n-j,etat]\n",
    "        \n",
    "    return table_prix"
   ]
  },
  {
   "cell_type": "code",
   "execution_count": 27,
   "metadata": {},
   "outputs": [],
   "source": [
    "A1=nouveau_prix_call_europeen(100,94,1000,2,0.2,1,L1,L2,L3,L4,Q)"
   ]
  },
  {
   "cell_type": "code",
   "execution_count": 29,
   "metadata": {},
   "outputs": [
    {
     "data": {
      "text/plain": [
       "array([5.86146927, 8.22796305])"
      ]
     },
     "execution_count": 29,
     "metadata": {},
     "output_type": "execute_result"
    }
   ],
   "source": [
    "A1[:,0][2000]"
   ]
  },
  {
   "cell_type": "code",
   "execution_count": 64,
   "metadata": {},
   "outputs": [],
   "source": [
    "def nouveau_prix_call_europeen_Heston_model(K, S_o, n, b, sigma_bar, T,List_vi, List_sigma, List_a, Liste_saut, List_r, Q):\n",
    "    proba_umd = proba_up_middle_down(List_sigma, List_a, Liste_saut, sigma_bar, T, n)\n",
    "    l = 2 * b * n + 1\n",
    "    h = T / n\n",
    "    table_prix = np.zeros((len(List_sigma), l))  # Réorganisation des dimensions de la matrice\n",
    "\n",
    "    for reg in range(len(List_sigma)):\n",
    "        for i in range(l):\n",
    "            table_prix[reg, i] =  max(-K+S_o*np.exp((arbre[i,n])*sigma_bar*np.sqrt(h)+(rho/sigma_v)*(List_vi[reg]-v0)+(0.05-rho*kappa*theta/sigma_v)*n*h),0)\n",
    "    new_table_prix = np.zeros((len(List_sigma), l))         \n",
    "    for j in range(1, n + 1): # Créer une nouvelle matrice pour chaque itération de j\n",
    "        for i in range(l):\n",
    "            if i >= b * j and i <= b * (2 * n - j):\n",
    "                for etat in range(len(List_sigma)):\n",
    "                    r = List_r[etat]\n",
    "                    saut = Liste_saut[etat]\n",
    "                    prix_somme = 0\n",
    "                    prix_somme += table_prix[etat, i - saut] * proba_umd[0, etat] + \\\n",
    "                                      table_prix[etat, i + saut] * proba_umd[1, etat] + \\\n",
    "                                      table_prix[etat, i] * (proba_umd[2, etat] + Q[etat, etat] * h)\n",
    "        \n",
    "                    if etat != 0 and etat != len(List_sigma)-1:\n",
    "                        prix_somme += Q[etat, etat-1] * h * table_prix[etat-1, i] + Q[etat, etat+1] * h * table_prix[etat+1, i] \n",
    "                    else:\n",
    "                        if etat ==0 :\n",
    "                            prix_somme += Q[etat, len(List_sigma)-1] * h * table_prix[len(List_sigma)-1, i] + Q[etat, etat+1] * h * table_prix[etat+1, i]\n",
    "                        if etat== len(List_sigma)-1:\n",
    "                            prix_somme += Q[etat, etat-1] * h * table_prix[etat-1, i] + Q[etat, 0] * h * table_prix[0, i]\n",
    "                    new_table_prix[etat, i] = np.exp(-r * h) * prix_somme\n",
    "        table_prix, new_table_prix = new_table_prix, table_prix  # Remplacer l'ancienne matrice par la nouvelle\n",
    "\n",
    "    return table_prix\n"
   ]
  },
  {
   "cell_type": "code",
   "execution_count": 65,
   "metadata": {},
   "outputs": [],
   "source": [
    "C9=nouveau_prix_call_europeen_Heston_model(100,90,2500,3,0.2,0.25,list_vi,list_sigma,list_a,list_saut,list_r,Q1)"
   ]
  },
  {
   "cell_type": "code",
   "execution_count": 66,
   "metadata": {},
   "outputs": [
    {
     "data": {
      "text/plain": [
       "array([7.63109277e-01, 7.89815905e-01, 8.12482022e-01, 8.33446597e-01,\n",
       "       8.52701450e-01, 8.70151279e-01, 8.85673396e-01, 8.99194406e-01,\n",
       "       9.10676461e-01, 9.20108503e-01, 9.27499706e-01, 9.32872662e-01,\n",
       "       9.36246805e-01, 9.37536480e-01, 9.35566117e-01, 9.13230385e-01,\n",
       "       3.34296910e-01, 1.32941105e-01, 4.05578451e-02, 1.86727939e-02,\n",
       "       5.82573051e-03, 1.74654214e-03, 4.54057938e-04, 4.23648353e-04,\n",
       "       1.72765913e-04, 7.41862518e-05])"
      ]
     },
     "execution_count": 66,
     "metadata": {},
     "output_type": "execute_result"
    }
   ],
   "source": [
    "C9[:,2500*3]"
   ]
  },
  {
   "cell_type": "code",
   "execution_count": 31,
   "metadata": {},
   "outputs": [
    {
     "name": "stderr",
     "output_type": "stream",
     "text": [
      "No artists with labels found to put in legend.  Note that artists whose label start with an underscore are ignored when legend() is called with no argument.\n"
     ]
    },
    {
     "data": {
      "image/png": "[encoded data removed]",
      "text/plain": [
       "<Figure size 1000x600 with 1 Axes>"
      ]
     },
     "metadata": {},
     "output_type": "display_data"
    }
   ],
   "source": [
    "import numpy as np\n",
    "import matplotlib.pyplot as plt\n",
    "\n",
    "# Définir les valeurs de n\n",
    "n_values = np.linspace(1, 1200, 6, dtype=int)\n",
    "\n",
    "# Définir les autres paramètres\n",
    "K = 100\n",
    "S_o = 94\n",
    "truth = 5.8620\n",
    "# Créer une figure\n",
    "plt.figure(figsize=(10, 6))\n",
    "R=[]\n",
    "# Parcourir les valeurs de n\n",
    "for n in n_values:\n",
    "    P=transition_matrix(Q,1/n)\n",
    "    arbre=arbre_recomb2(n,2)\n",
    "    A1 = prix_call_europeen(K, S_o, n, 2, 0.2, 1, L1, L2, L3, L4, P)[:,0][n*2][0]\n",
    "    R.append(A1)\n",
    "plt.plot(n_values, np.abs(truth-np.array(R)), marker = \"o\")\n",
    "# Ajouter des labels et une légende\n",
    "plt.xlabel('Pas temporel')\n",
    "plt.ylabel('Prix')\n",
    "plt.title('Prix Call Européen en fonction de n')\n",
    "plt.legend()\n",
    "\n",
    "# Afficher le graphique\n",
    "plt.grid(True)\n",
    "plt.show()\n"
   ]
  },
  {
   "cell_type": "code",
   "execution_count": null,
   "metadata": {},
   "outputs": [],
   "source": []
  }
 ],
 "metadata": {
  "kernelspec": {
   "display_name": "Python 3",
   "language": "python",
   "name": "python3"
  },
  "language_info": {
   "codemirror_mode": {
    "name": "ipython",
    "version": 3
   },
   "file_extension": ".py",
   "mimetype": "text/x-python",
   "name": "python",
   "nbconvert_exporter": "python",
   "pygments_lexer": "ipython3",
   "version": "3.11.8"
  }
 },
 "nbformat": 4,
 "nbformat_minor": 2
}
