{
 "cells": [
  {
   "cell_type": "code",
   "execution_count": 26,
   "metadata": {},
   "outputs": [],
   "source": [
    "import numpy as np\n",
    "def arbre_recomb(n,b):\n",
    "    l=2*b*n+1\n",
    "    S=np.zeros((l,n+1))\n",
    "    for i in range(l):\n",
    "        S[i,n]= b*n-i\n",
    "    for j in range(1,n+1):\n",
    "        for i in  range(l):\n",
    "            if i>=b*j and i<=b*(2*n-j):\n",
    "                S[i,n-j]=b*n-i\n",
    "    return S"
   ]
  },
  {
   "cell_type": "code",
   "execution_count": 27,
   "metadata": {},
   "outputs": [],
   "source": [
    "def proba_up_middle_down(List_sigma,List_a,Liste_saut,sigma_bar,T,n):\n",
    "    proba=np.zeros((3,len(List_sigma)))\n",
    "    h=T/n\n",
    "    for i in range(len(List_sigma)):\n",
    "        proba[0,i]=(List_sigma[i]**2+List_a[i]*Liste_saut[i]*sigma_bar*np.sqrt(h)+h*List_a[i]**2)/(2*(Liste_saut[i]*sigma_bar)**2)\n",
    "        proba[1,i]=(List_sigma[i]**2-List_a[i]*Liste_saut[i]*sigma_bar*np.sqrt(h)+h*List_a[i]**2)/(2*(Liste_saut[i]*sigma_bar)**2)\n",
    "        proba[2,i]=1-(proba[0,i]+proba[1,i])\n",
    "    return proba"
   ]
  },
  {
   "cell_type": "code",
   "execution_count": 28,
   "metadata": {},
   "outputs": [],
   "source": [
    "arbre=arbre_recomb(1000,2)"
   ]
  },
  {
   "cell_type": "code",
   "execution_count": 59,
   "metadata": {},
   "outputs": [],
   "source": [
    "def prix_call_europeen(K,S_o,n,b,sigma_bar,T,List_sigma,List_a,Liste_saut,List_r,P):\n",
    "    proba_umd=proba_up_middle_down(List_sigma,List_a,Liste_saut,sigma_bar,T,n)\n",
    "    l=2*b*n+1\n",
    "    h=T/n\n",
    "    table_prix=np.zeros((l,n+1),dtype=object)\n",
    "    \n",
    "    for i in range(l):\n",
    "        table_prix[i,n]={reg:max(-K+S_o*np.exp(arbre[i,n]*sigma_bar*np.sqrt(h)),0) for reg in range(len(List_sigma))}\n",
    "    for j in range(1,n+1):\n",
    "        for i in range(l):\n",
    "            if i>=b*j and i<=b*(2*n-j):\n",
    "                table_prix[i,n-j]={reg:0 for reg in range(len(List_sigma))}\n",
    "                for etat in range(len(List_sigma)):\n",
    "                    r=List_r[etat]\n",
    "                    saut=Liste_saut[etat]\n",
    "                    for k in range(len(List_sigma)):\n",
    "                        table_prix[i,n-j][etat] += P[etat,k]*(table_prix[i-saut,n-j+1][k]*proba_umd[0,etat]+table_prix[i+saut,n-j+1][k]*proba_umd[1,etat]+table_prix[i,n-j+1][k]*proba_umd[2,etat])\n",
    "                    table_prix[i,n-j][etat]=np.exp(-r*h)*table_prix[i,n-j][etat]\n",
    "        \n",
    "    return table_prix"
   ]
  },
  {
   "cell_type": "code",
   "execution_count": 30,
   "metadata": {},
   "outputs": [],
   "source": [
    "def transition_matrix(Q,h):\n",
    "    nbr=Q.shape[0]\n",
    "    tr_matrix=np.zeros((nbr,nbr))\n",
    "    for i in range(nbr):\n",
    "        for j in range(nbr):\n",
    "            if i==j:\n",
    "                tr_matrix[i,j]=np.exp(Q[i,j]*h)\n",
    "            else:\n",
    "                tr_matrix[i,j]=-(1-np.exp(Q[i,i]*h))*Q[i,j]/Q[i,i]\n",
    "    return tr_matrix"
   ]
  },
  {
   "cell_type": "code",
   "execution_count": 31,
   "metadata": {},
   "outputs": [],
   "source": [
    "Q=np.array([[-0.5,0.5],[0.5,-0.5]])\n",
    "P=transition_matrix(Q,1/1000)"
   ]
  },
  {
   "cell_type": "code",
   "execution_count": 32,
   "metadata": {},
   "outputs": [
    {
     "data": {
      "text/plain": [
       "array([[9.99500125e-01, 4.99875021e-04],\n",
       "       [4.99875021e-04, 9.99500125e-01]])"
      ]
     },
     "execution_count": 32,
     "metadata": {},
     "output_type": "execute_result"
    }
   ],
   "source": [
    "P"
   ]
  },
  {
   "cell_type": "code",
   "execution_count": 73,
   "metadata": {},
   "outputs": [],
   "source": [
    "L1=[0.15,0.25]\n",
    "L2=[0.05-0.5*0.15**2,0.05-0.5*0.25**2]\n",
    "L3=[1,2]\n",
    "L4=[0.05,0.05]"
   ]
  },
  {
   "cell_type": "code",
   "execution_count": 34,
   "metadata": {},
   "outputs": [
    {
     "data": {
      "text/plain": [
       "array([[0.28433223, 0.19605476],\n",
       "       [0.27820531, 0.19457244],\n",
       "       [0.43746246, 0.6093728 ]])"
      ]
     },
     "execution_count": 34,
     "metadata": {},
     "output_type": "execute_result"
    }
   ],
   "source": [
    "proba_up_middle_down(L1,L2,L3,0.2,1,1000)"
   ]
  },
  {
   "cell_type": "code",
   "execution_count": 35,
   "metadata": {},
   "outputs": [],
   "source": [
    "A=prix_call_europeen(100,94,1000,2,0.2,1,L1,L2,L3,L4,P)"
   ]
  },
  {
   "cell_type": "code",
   "execution_count": 36,
   "metadata": {},
   "outputs": [
    {
     "name": "stdout",
     "output_type": "stream",
     "text": [
      "{0: 5.86121169713768, 1: 8.228404386030418}\n"
     ]
    }
   ],
   "source": [
    "A[:,0][2000]\n",
    "print(A[:,0][2000])"
   ]
  },
  {
   "cell_type": "code",
   "execution_count": 37,
   "metadata": {},
   "outputs": [],
   "source": [
    "def prix_put_europeen(K,S_o,n,b,sigma_bar,T,List_sigma,List_a,Liste_saut,List_r,P):\n",
    "    proba_umd=proba_up_middle_down(List_sigma,List_a,Liste_saut,sigma_bar,T,n)\n",
    "    l=2*b*n+1\n",
    "    h=T/n\n",
    "    table_prix=np.zeros((l,n+1),dtype=object)\n",
    "    for i in range(l):\n",
    "        table_prix[i,n]={reg:max(K-S_o*np.exp(arbre[i,n]*sigma_bar*np.sqrt(h)),0) for reg in range(len(List_sigma))}\n",
    "    for j in range(1,n+1):\n",
    "        for i in range(l):\n",
    "            if i>=b*j and i<=b*(2*n-j):\n",
    "                table_prix[i,n-j]={reg:0 for reg in range(len(List_sigma))}\n",
    "                for etat in range(len(List_sigma)):\n",
    "                    r=List_r[etat]\n",
    "                    saut=Liste_saut[etat]\n",
    "                    for k in range(len(List_sigma)):\n",
    "                        table_prix[i,n-j][etat] += P[etat,k]*(table_prix[i-saut,n-j+1][k]*proba_umd[0,etat]+table_prix[i+saut,n-j+1][k]*proba_umd[1,etat]+table_prix[i,n-j+1][k]*proba_umd[2,etat])\n",
    "                    table_prix[i,n-j][etat]=np.exp(-r*h)*table_prix[i,n-j][etat]\n",
    "        \n",
    "    return table_prix"
   ]
  },
  {
   "cell_type": "code",
   "execution_count": 38,
   "metadata": {},
   "outputs": [],
   "source": [
    "def prix_call_americain(K,S_o,n,b,sigma_bar,T,List_sigma,List_a,Liste_saut,List_r,P):\n",
    "    proba_umd=proba_up_middle_down(List_sigma,List_a,Liste_saut,sigma_bar,T,n)\n",
    "    l=2*b*n+1\n",
    "    h=T/n\n",
    "    table_prix=np.zeros((l,n+1),dtype=object)\n",
    "    for i in range(l):\n",
    "        table_prix[i,n]={reg:max(-K+S_o*np.exp(arbre[i,n]*sigma_bar*np.sqrt(h)),0) for reg in range(len(List_sigma))}\n",
    "    for j in range(1,n+1):\n",
    "        for i in range(l):\n",
    "            if i>=b*j and i<=b*(2*n-j):\n",
    "                table_prix[i,n-j]={reg:0 for reg in range(len(List_sigma))}\n",
    "                for etat in range(len(List_sigma)):\n",
    "                    r=List_r[etat]\n",
    "                    saut=Liste_saut[etat]\n",
    "                    for k in range(len(List_sigma)):\n",
    "                        table_prix[i,n-j][etat] += P[etat,k]*(table_prix[i-saut,n-j+1][k]*proba_umd[0,etat]+table_prix[i+saut,n-j+1][k]*proba_umd[1,etat]+table_prix[i,n-j+1][k]*proba_umd[2,etat])\n",
    "                    table_prix[i,n-j][etat]=np.exp(-r*h)*table_prix[i,n-j][etat]\n",
    "                    table_prix[i,n-j][etat]=max(table_prix[i,n-j][etat],-K+S_o*np.exp(arbre[i,n-j]*sigma_bar*np.sqrt(h)))\n",
    "        \n",
    "    return table_prix"
   ]
  },
  {
   "cell_type": "code",
   "execution_count": 39,
   "metadata": {},
   "outputs": [],
   "source": [
    "def prix_put_americain(K,S_o,n,b,sigma_bar,T,List_sigma,List_a,Liste_saut,List_r,P):\n",
    "    proba_umd=proba_up_middle_down(List_sigma,List_a,Liste_saut,sigma_bar,T,n)\n",
    "    l=2*b*n+1\n",
    "    h=T/n\n",
    "    table_prix=np.zeros((l,n+1),dtype=object)\n",
    "    for i in range(l):\n",
    "        table_prix[i,n]={reg:max(K-S_o*np.exp(arbre[i,n]*sigma_bar*np.sqrt(h)),0) for reg in range(len(List_sigma))}\n",
    "    for j in range(1,n+1):\n",
    "        for i in range(l):\n",
    "            if i>=b*j and i<=b*(2*n-j):\n",
    "                table_prix[i,n-j]={reg:0 for reg in range(len(List_sigma))}\n",
    "                for etat in range(len(List_sigma)):\n",
    "                    r=List_r[etat]\n",
    "                    saut=Liste_saut[etat]\n",
    "                    for k in range(len(List_sigma)):\n",
    "                        table_prix[i,n-j][etat] += P[etat,k]*(table_prix[i-saut,n-j+1][k]*proba_umd[0,etat]+table_prix[i+saut,n-j+1][k]*proba_umd[1,etat]+table_prix[i,n-j+1][k]*proba_umd[2,etat])\n",
    "                    table_prix[i,n-j][etat]=np.exp(-r*h)*table_prix[i,n-j][etat]\n",
    "                    table_prix[i,n-j][etat]=max(table_prix[i,n-j][etat],K-S_o*np.exp(arbre[i,n-j]*sigma_bar*np.sqrt(h)))\n",
    "        \n",
    "    return table_prix"
   ]
  },
  {
   "cell_type": "markdown",
   "metadata": {},
   "source": [
    "*Tests hyperparamètres*"
   ]
  },
  {
   "cell_type": "code",
   "execution_count": 76,
   "metadata": {},
   "outputs": [],
   "source": [
    "K,n,T = 100, 1000, 1\n",
    "\n",
    "List_sigma = np.array([0.15, 0.25]) #L1\n",
    "Liste_saut = L3 #L3\n",
    "List_r = np.array([0.05, 0.05]) #L4\n",
    "\n",
    "List_d = np.array([0.04, 0.04])\n",
    "\n",
    "# Calcul de List_a\n",
    "List_a = List_r - List_d - 1/2 * List_sigma**2 #L2\n",
    "L2 = List_a"
   ]
  },
  {
   "cell_type": "code",
   "execution_count": 92,
   "metadata": {},
   "outputs": [
    {
     "name": "stdout",
     "output_type": "stream",
     "text": [
      "[90.  0.  0.  0.  0.  0.]\n"
     ]
    }
   ],
   "source": [
    "SensitivySigmaTable0 = np.zeros((12, 8))\n",
    "SensitivySigmaTable0[:, 0] = np.tile(np.array([90.0, 100.0, 110.0]), 4)\n",
    "\n",
    "SensitivySigmaTable1 = np.zeros((12, 8))\n",
    "SensitivySigmaTable1[:, 0] = np.tile(np.array([90.0, 100.0, 110.0]), 4)"
   ]
  },
  {
   "cell_type": "code",
   "execution_count": 90,
   "metadata": {},
   "outputs": [],
   "source": [
    "def liste_saut(nbr_reg,liste_sigma,sigma_bar,liste_a):\n",
    "    liste_saut = [0]*nbr_reg\n",
    "    for i in range (nbr_reg):\n",
    "        k1,k2 = np.floor(2*liste_sigma[i]/sigma_bar),np.ceil(2*liste_sigma[i]/sigma_bar)\n",
    "        if k1==k2 or k1*sigma_bar<liste_sigma[i]:\n",
    "            liste_saut[i] = k2\n",
    "        else:\n",
    "            c = ((k1*sigma_bar)**2-liste_sigma[i]**2)/liste_a[i]**2\n",
    "            d = (k2*sigma_bar-np.sqrt((k2*sigma_bar)**2-4*liste_sigma[i]**2))**2/(4*liste_a[i])**2\n",
    "            if c<=d:\n",
    "                liste_saut[i] = k2\n",
    "            else:\n",
    "                liste_saut[i] = k1\n",
    "    return liste_saut"
   ]
  },
  {
   "cell_type": "code",
   "execution_count": 88,
   "metadata": {},
   "outputs": [
    {
     "ename": "SyntaxError",
     "evalue": "incomplete input (1374591030.py, line 25)",
     "output_type": "error",
     "traceback": [
      "\u001b[0;36m  Cell \u001b[0;32mIn[88], line 25\u001b[0;36m\u001b[0m\n\u001b[0;31m    for i in tqdm(range(3)):\u001b[0m\n\u001b[0m                            ^\u001b[0m\n\u001b[0;31mSyntaxError\u001b[0m\u001b[0;31m:\u001b[0m incomplete input\n"
     ]
    }
   ],
   "source": [
    "ctes = [(0.1, 5), (0.15, 3), (0.2, 2), (0.25, 2), (0.3, 1)]\n",
    "\n",
    "from tqdm import tqdm\n",
    "import math\n",
    "\n",
    "for j in tqdm(range(5)):\n",
    "    print(j)\n",
    "    arbre=arbre_recomb(n,ctes[j][1])\n",
    "    \n",
    "    for i in tqdm(range(3)):\n",
    "        EC = prix_call_europeen(K, SensitivySigmaTable0[i, 0], n, ctes[j][1], ctes[j][0], T, L1, L2, [int(item) for item in liste_saut(2,L1,ctes[j][0],L2)], L4, P)[:,0][1000*ctes[j][1]]\n",
    "        AC = prix_call_americain(K, SensitivySigmaTable0[i, 0], n, ctes[j][1], ctes[j][0], T, L1, L2, [int(item) for item in liste_saut(2,L1,ctes[j][0],L2)], L4, P)[:,0][1000*ctes[j][1]]\n",
    "        EP = prix_put_europeen(K, SensitivySigmaTable0[i, 0], n, ctes[j][1], ctes[j][0], T, L1, L2, [int(item) for item in liste_saut(2,L1,ctes[j][0],L2)], L4, P)[:,0][1000*ctes[j][1]]\n",
    "        AP = prix_call_europeen(K, SensitivySigmaTable0[i, 0], n, ctes[j][1], ctes[j][0], T, L1, L2, [int(item) for item in liste_saut(2,L1,ctes[j][0],L2)], L4, P)[:,0][1000*ctes[j][1]]\n",
    "        SensitivySigmaTable0[i, j+1] = EC[0]\n",
    "        SensitivySigmaTable0[3+i, j+1] = AC[0]\n",
    "        SensitivySigmaTable0[6+i, j+1] = EP[0]\n",
    "        SensitivySigmaTable0[9+i, j+1] = AP[0]\n",
    "        SensitivySigmaTable1[i, j+1] = EC[1]\n",
    "        SensitivySigmaTable1[3+i, j+1] = AC[1]\n",
    "        SensitivySigmaTable1[6+i, j+1] = EP[1]\n",
    "        SensitivySigmaTable1[9+i, j+1] = AP[1]\n",
    "        \n",
    "#Computing MD and RD\n",
    "for i in tqdm(range(3)):\n",
    "        SensitivySigmaTable0[i, -2] = SensitivySigmaTable0[i,1:-2]\n",
    "        SensitivySigmaTable0[3+i, -2] = AC[0]\n",
    "        SensitivySigmaTable0[6+i, -2] = EP[0]\n",
    "        SensitivySigmaTable0[9+i, -2] = AP[0]"
   ]
  },
  {
   "cell_type": "code",
   "execution_count": null,
   "metadata": {},
   "outputs": [
    {
     "name": "stdout",
     "output_type": "stream",
     "text": [
      "[[ 90.                  nan   4.04639237   4.04707864   4.04708268\n",
      "    0.           0.           0.        ]\n",
      " [100.                  nan   9.33791883   9.33829962   9.33756193\n",
      "    0.           0.           0.        ]\n",
      " [110.                  nan  16.81878718  16.81897125  16.81849481\n",
      "    0.           0.           0.        ]\n",
      " [ 90.           0.           0.           0.           0.\n",
      "    0.           0.           0.        ]\n",
      " [100.           0.           0.           0.           0.\n",
      "    0.           0.           0.        ]\n",
      " [110.           0.           0.           0.           0.\n",
      "    0.           0.           0.        ]\n",
      " [ 90.           0.           0.           0.           0.\n",
      "    0.           0.           0.        ]\n",
      " [100.           0.           0.           0.           0.\n",
      "    0.           0.           0.        ]\n",
      " [110.           0.           0.           0.           0.\n",
      "    0.           0.           0.        ]\n",
      " [ 90.           0.           0.           0.           0.\n",
      "    0.           0.           0.        ]\n",
      " [100.           0.           0.           0.           0.\n",
      "    0.           0.           0.        ]\n",
      " [110.           0.           0.           0.           0.\n",
      "    0.           0.           0.        ]]\n"
     ]
    }
   ],
   "source": [
    "print(SensitivySigmaTable0)\n",
    "print(SensitivySigmaTable1)"
   ]
  }
 ],
 "metadata": {
  "kernelspec": {
   "display_name": "Python 3",
   "language": "python",
   "name": "python3"
  },
  "language_info": {
   "codemirror_mode": {
    "name": "ipython",
    "version": 3
   },
   "file_extension": ".py",
   "mimetype": "text/x-python",
   "name": "python",
   "nbconvert_exporter": "python",
   "pygments_lexer": "ipython3",
   "version": "3.11.2"
  }
 },
 "nbformat": 4,
 "nbformat_minor": 2
}
